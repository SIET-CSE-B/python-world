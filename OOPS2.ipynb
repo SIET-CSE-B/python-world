{
 "cells": [
  {
   "cell_type": "code",
   "execution_count": 18,
   "metadata": {},
   "outputs": [
    {
     "name": "stdout",
     "output_type": "stream",
     "text": [
      "color red\n",
      "filled True\n",
      "radius 3\n"
     ]
    }
   ],
   "source": [
    "class shape:#parent class\n",
    "    def __init__(self,color,filled):\n",
    "        self.__color=color\n",
    "        self.filled=filled\n",
    "    def getM(self):\n",
    "        return self.__color\n",
    "    def setM(self,color):\n",
    "        self.__color=color\n",
    "        \n",
    "class circle(shape):#child class1\n",
    "    def __init__(self,color,filled,radius):\n",
    "        super().__init__(color,filled)\n",
    "        self.radius=radius\n",
    "    def printi(self):\n",
    "        print(\"color\",self.getM())\n",
    "        print(\"filled\",self.filled)\n",
    "        print(\"radius\",self.radius)\n",
    "        \n",
    "\n",
    "        \n",
    "c=circle(\"red\",\"True\",3)\n",
    "c.printi()"
   ]
  },
  {
   "cell_type": "code",
   "execution_count": 13,
   "metadata": {},
   "outputs": [
    {
     "name": "stdout",
     "output_type": "stream",
     "text": [
      "ab\n"
     ]
    }
   ],
   "source": [
    "class v:\n",
    "    def __init__(self):\n",
    "        self.__name=\"ab\"\n",
    "    def pri(self):\n",
    "        print(self.__name)\n",
    "c=v()\n",
    "c.pri()"
   ]
  },
  {
   "cell_type": "code",
   "execution_count": 11,
   "metadata": {},
   "outputs": [
    {
     "name": "stdout",
     "output_type": "stream",
     "text": [
      "This has to return and not print\n"
     ]
    }
   ],
   "source": [
    "class Circle:\n",
    "    def __init__(self,radius):\n",
    "        self.__radius=radius\n",
    "    def __str__(self):\n",
    "        #print(self.__radius)\n",
    "        return \"This has to return and not print\"\n",
    "c=Circle(3)\n",
    "print(c)"
   ]
  },
  {
   "cell_type": "code",
   "execution_count": 13,
   "metadata": {},
   "outputs": [
    {
     "name": "stdout",
     "output_type": "stream",
     "text": [
      "This is a Circle Class\n"
     ]
    }
   ],
   "source": [
    "class Circle(object):\n",
    "    def __str__(self):\n",
    "        return \"This is a Circle Class\"\n",
    "c = Circle()\n",
    "print(c)"
   ]
  },
  {
   "cell_type": "code",
   "execution_count": 14,
   "metadata": {},
   "outputs": [
    {
     "name": "stdout",
     "output_type": "stream",
     "text": [
      "rohan\n"
     ]
    }
   ],
   "source": [
    "class mother:\n",
    "    def __init__(self):\n",
    "        self.name=\"rohan\"\n",
    "class father:\n",
    "    def __init__(self):\n",
    "        self.name=\"Bohan\"\n",
    "class Child(mother,father):\n",
    "    def __init__(self):\n",
    "        super().__init__()\n",
    "        super().__init__()\n",
    "    def pri(self):\n",
    "        print(self.name)\n",
    "        \n",
    "c=Child()\n",
    "c.pri()"
   ]
  },
  {
   "cell_type": "code",
   "execution_count": 16,
   "metadata": {},
   "outputs": [
    {
     "name": "stdout",
     "output_type": "stream",
     "text": [
      "init of B called\n"
     ]
    }
   ],
   "source": []
  }
 ],
 "metadata": {
  "kernelspec": {
   "display_name": "Python 3",
   "language": "python",
   "name": "python3"
  },
  "language_info": {
   "codemirror_mode": {
    "name": "ipython",
    "version": 3
   },
   "file_extension": ".py",
   "mimetype": "text/x-python",
   "name": "python",
   "nbconvert_exporter": "python",
   "pygments_lexer": "ipython3",
   "version": "3.7.3"
  }
 },
 "nbformat": 4,
 "nbformat_minor": 2
}
