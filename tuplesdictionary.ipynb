{
 "cells": [
  {
   "cell_type": "code",
   "execution_count": 7,
   "metadata": {},
   "outputs": [
    {
     "data": {
      "text/plain": [
       "{1, 2}"
      ]
     },
     "execution_count": 7,
     "metadata": {},
     "output_type": "execute_result"
    }
   ],
   "source": [
    "a={\"a\":2,\"the\":34,\"list\":[1,2],2:\"s\",\"dict\":{1,2}}\n",
    "a[\"dict\"] #dict is the index for 2"
   ]
  },
  {
   "cell_type": "code",
   "execution_count": 11,
   "metadata": {},
   "outputs": [
    {
     "name": "stdout",
     "output_type": "stream",
     "text": [
      "10\n",
      "675 28 -429 -290 444 -949 992 -850 280 810\n",
      "{675: 1, 28: 1, -429: 1, -290: 1, 444: 1, -949: 1, 992: 1, -850: 1, 280: 1, 810: 1}\n",
      "675\n"
     ]
    }
   ],
   "source": [
    "def maxFreq(l):\n",
    "    d={}\n",
    "    for i in l:\n",
    "        d[i]=d.get(i,0)+1\n",
    "    index=max(d.values())\n",
    "    for i in d:\n",
    "        if d[i]==index:\n",
    "            return i\n",
    "\n",
    "# Main\n",
    "n=int(input())\n",
    "l=list(int(i) for i in input().strip().split(' '))\n",
    "print(maxFreq(l))\n"
   ]
  },
  {
   "cell_type": "code",
   "execution_count": 14,
   "metadata": {},
   "outputs": [
    {
     "name": "stdout",
     "output_type": "stream",
     "text": [
      "10\n",
      "675 28 -429 -290 444 -949 992 -850 280 810\n",
      "dict_keys([675, 28, -429, -290, 444, -949, 992, -850, 280, 810])\n"
     ]
    },
    {
     "ename": "AttributeError",
     "evalue": "'dict_keys' object has no attribute 'get'",
     "output_type": "error",
     "traceback": [
      "\u001b[1;31m---------------------------------------------------------------------------\u001b[0m",
      "\u001b[1;31mAttributeError\u001b[0m                            Traceback (most recent call last)",
      "\u001b[1;32m<ipython-input-14-c28ebe63816d>\u001b[0m in \u001b[0;36m<module>\u001b[1;34m\u001b[0m\n\u001b[0;32m     13\u001b[0m \u001b[0mn\u001b[0m\u001b[1;33m=\u001b[0m\u001b[0mint\u001b[0m\u001b[1;33m(\u001b[0m\u001b[0minput\u001b[0m\u001b[1;33m(\u001b[0m\u001b[1;33m)\u001b[0m\u001b[1;33m)\u001b[0m\u001b[1;33m\u001b[0m\u001b[1;33m\u001b[0m\u001b[0m\n\u001b[0;32m     14\u001b[0m \u001b[0ml\u001b[0m\u001b[1;33m=\u001b[0m\u001b[0mlist\u001b[0m\u001b[1;33m(\u001b[0m\u001b[0mint\u001b[0m\u001b[1;33m(\u001b[0m\u001b[0mi\u001b[0m\u001b[1;33m)\u001b[0m \u001b[1;32mfor\u001b[0m \u001b[0mi\u001b[0m \u001b[1;32min\u001b[0m \u001b[0minput\u001b[0m\u001b[1;33m(\u001b[0m\u001b[1;33m)\u001b[0m\u001b[1;33m.\u001b[0m\u001b[0mstrip\u001b[0m\u001b[1;33m(\u001b[0m\u001b[1;33m)\u001b[0m\u001b[1;33m.\u001b[0m\u001b[0msplit\u001b[0m\u001b[1;33m(\u001b[0m\u001b[1;34m' '\u001b[0m\u001b[1;33m)\u001b[0m\u001b[1;33m)\u001b[0m\u001b[1;33m\u001b[0m\u001b[1;33m\u001b[0m\u001b[0m\n\u001b[1;32m---> 15\u001b[1;33m \u001b[0mprint\u001b[0m\u001b[1;33m(\u001b[0m\u001b[0mmaxFreq\u001b[0m\u001b[1;33m(\u001b[0m\u001b[0ml\u001b[0m\u001b[1;33m)\u001b[0m\u001b[1;33m)\u001b[0m\u001b[1;33m\u001b[0m\u001b[1;33m\u001b[0m\u001b[0m\n\u001b[0m",
      "\u001b[1;32m<ipython-input-14-c28ebe63816d>\u001b[0m in \u001b[0;36mmaxFreq\u001b[1;34m(l)\u001b[0m\n\u001b[0;32m      4\u001b[0m     \u001b[0mprint\u001b[0m\u001b[1;33m(\u001b[0m\u001b[0md\u001b[0m\u001b[1;33m)\u001b[0m\u001b[1;33m\u001b[0m\u001b[1;33m\u001b[0m\u001b[0m\n\u001b[0;32m      5\u001b[0m     \u001b[1;32mfor\u001b[0m \u001b[0mi\u001b[0m \u001b[1;32min\u001b[0m \u001b[0ml\u001b[0m\u001b[1;33m:\u001b[0m\u001b[1;33m\u001b[0m\u001b[1;33m\u001b[0m\u001b[0m\n\u001b[1;32m----> 6\u001b[1;33m         \u001b[0md\u001b[0m\u001b[1;33m[\u001b[0m\u001b[0mi\u001b[0m\u001b[1;33m]\u001b[0m\u001b[1;33m=\u001b[0m\u001b[0md\u001b[0m\u001b[1;33m.\u001b[0m\u001b[0mget\u001b[0m\u001b[1;33m(\u001b[0m\u001b[0mi\u001b[0m\u001b[1;33m,\u001b[0m\u001b[1;36m0\u001b[0m\u001b[1;33m)\u001b[0m\u001b[1;33m+\u001b[0m\u001b[1;36m1\u001b[0m\u001b[1;33m\u001b[0m\u001b[1;33m\u001b[0m\u001b[0m\n\u001b[0m\u001b[0;32m      7\u001b[0m     \u001b[0mindex\u001b[0m\u001b[1;33m=\u001b[0m\u001b[0mmax\u001b[0m\u001b[1;33m(\u001b[0m\u001b[0md\u001b[0m\u001b[1;33m.\u001b[0m\u001b[0mvalues\u001b[0m\u001b[1;33m(\u001b[0m\u001b[1;33m)\u001b[0m\u001b[1;33m)\u001b[0m\u001b[1;33m\u001b[0m\u001b[1;33m\u001b[0m\u001b[0m\n\u001b[0;32m      8\u001b[0m     \u001b[1;32mfor\u001b[0m \u001b[0mi\u001b[0m \u001b[1;32min\u001b[0m \u001b[0md\u001b[0m\u001b[1;33m:\u001b[0m\u001b[1;33m\u001b[0m\u001b[1;33m\u001b[0m\u001b[0m\n",
      "\u001b[1;31mAttributeError\u001b[0m: 'dict_keys' object has no attribute 'get'"
     ]
    }
   ],
   "source": [
    "def maxFreq(l):\n",
    "    d={}\n",
    "    l=dict.fromkeys(l).keys()\n",
    "    for i in l:\n",
    "        d[i]=d.get(i,0)+1\n",
    "    index=max(d.values())\n",
    "    for i in d:\n",
    "        if d[i]==index:\n",
    "            return i\n",
    "\n",
    "# Main\n",
    "n=int(input())\n",
    "l=list(int(i) for i in input().strip().split(' '))\n",
    "print(maxFreq(l))\n"
   ]
  },
  {
   "cell_type": "code",
   "execution_count": 8,
   "metadata": {},
   "outputs": [
    {
     "name": "stdout",
     "output_type": "stream",
     "text": [
      "6\n",
      "2 0 -2 0 2 0\n",
      "0 0\n",
      "-2 2\n",
      "0 0\n",
      "-2 2\n",
      "-2 2\n",
      "0 0\n"
     ]
    }
   ],
   "source": [
    "\n",
    "\n",
    "def pairSum0(l):\n",
    "    if len(l)==0:\n",
    "        return\n",
    "    map = {} \n",
    "    c=0\n",
    "    for num in l:\n",
    "        \n",
    "        if num in map:\n",
    "            map[num]=map[num]+1\n",
    "        else:\n",
    "            map[num]=1\n",
    "        if -num in map:\n",
    "            for i in range(map[-num]):\n",
    "                if -num<num:\n",
    "                    print(-num,num)\n",
    "                else:\n",
    "                    print(num,-num)\n",
    "            if num==-num:\n",
    "                map[num]=map[num]-1\n",
    "                continue\n",
    "            del map[-num]\n",
    "            map[num]=map[num]+1\n",
    "            \n",
    "\n",
    "\n",
    "n=int(input())\n",
    "l=list(int(i) for i in input().strip().split(' '))\n",
    "pairSum0(l)"
   ]
  },
  {
   "cell_type": "code",
   "execution_count": 6,
   "metadata": {},
   "outputs": [
    {
     "name": "stdout",
     "output_type": "stream",
     "text": [
      "3\n",
      "xyxyxyxyxyxxxxxxxx\n",
      "xy\n",
      "xxy\n",
      "5\n",
      "1\n",
      "1\n"
     ]
    }
   ],
   "source": [
    "# cook your dish here\n",
    "t=int(input())\n",
    "li=[]\n",
    "for i in range(t):\n",
    "    s=input()\n",
    "    if 'x' not in s:\n",
    "        li.append(0)\n",
    "        continue\n",
    "    if'y' not in s:\n",
    "        li.append(0)\n",
    "        continue\n",
    "    d={}\n",
    "    for i in s:\n",
    "        d[i]=d.get(i,0)+1 \n",
    "    if d['x']<d['y']:\n",
    "        li.append(d['x'])\n",
    "    else:\n",
    "        li.append(d['y'])\n",
    "    del d\n",
    "for j in li:\n",
    "    print(j)"
   ]
  },
  {
   "cell_type": "code",
   "execution_count": 11,
   "metadata": {},
   "outputs": [
    {
     "name": "stdout",
     "output_type": "stream",
     "text": [
      "20\n",
      "693 697 299 662 290 288 925 234 257 192 687 144 142 710 66 955 321 629 989 621 \n",
      "693\n"
     ]
    }
   ],
   "source": [
    "def longestConsecutiveSequence(l):\n",
    "    if len(l)==1:\n",
    "        return l\n",
    "    d={}\n",
    "    for i in l:\n",
    "        d[i]=True\n",
    "    maxl=1\n",
    "    li=[]\n",
    "    final=[]\n",
    "    length=0\n",
    "    temp=0\n",
    "    for i in l:\n",
    "        length=0\n",
    "        del li\n",
    "        li=[]\n",
    "        if d[i]:\n",
    "            temp=i\n",
    "            i=temp\n",
    "            while i in d:\n",
    "                length=length+1\n",
    "                li.append(i)\n",
    "                d[i]=False\n",
    "                i=i+1\n",
    "            if length>maxl:\n",
    "                maxl=length\n",
    "                final=li.copy()\n",
    "    if len(final)==0:\n",
    "        final.append(l[0])\n",
    "    return final\n",
    "\n",
    "\n",
    "n=int(input())\n",
    "l=list(int(i) for i in input().strip().split(' '))\n",
    "final = longestConsecutiveSequence(l)\n",
    "for num in final:\n",
    "    print(num)"
   ]
  },
  {
   "cell_type": "code",
   "execution_count": 32,
   "metadata": {},
   "outputs": [
    {
     "name": "stdout",
     "output_type": "stream",
     "text": [
      "4\n",
      "4 4 4 4\n",
      "0\n",
      "4 4\n",
      "4 4\n",
      "4 4\n",
      "4 4\n",
      "4 4\n",
      "4 4\n"
     ]
    }
   ],
   "source": [
    "def pairSum(l,k):\n",
    "    if len(l)==0:\n",
    "        return\n",
    "    map={}\n",
    "    for num in l:\n",
    "        if num in map:\n",
    "            map[num]=map[num]+1\n",
    "        else:\n",
    "            map[num]=1\n",
    "        #print(map)\n",
    "        if k==0:\n",
    "            continue\n",
    "        if (num-k in map) or (num+k in map):\n",
    "            if num-k in map:\n",
    "                o=num-k\n",
    "            else:\n",
    "                o=num+k\n",
    "            #print(o)\n",
    "            for i in range(map[o]):\n",
    "                print(min(num,o),max(num,o))\n",
    "    p=0\n",
    "    if k==0:\n",
    "        for num in l:\n",
    "            if num==p:\n",
    "                continue\n",
    "            count = (map[num]*(map[num]-1))//2\n",
    "            for i in range(count):\n",
    "                print(num,num)\n",
    "            p=num\n",
    "            \n",
    "\n",
    "\n",
    "n=int(input())\n",
    "l=list(int(i) for i in input().strip().split(' '))\n",
    "k=int(input())\n",
    "pairSum(l, k)"
   ]
  },
  {
   "cell_type": "code",
   "execution_count": 33,
   "metadata": {},
   "outputs": [
    {
     "name": "stderr",
     "output_type": "stream",
     "text": [
      "<>:11: SyntaxWarning: \"is\" with a literal. Did you mean \"==\"?\n",
      "<>:11: SyntaxWarning: \"is\" with a literal. Did you mean \"==\"?\n",
      "<ipython-input-33-69607e6e0a57>:11: SyntaxWarning: \"is\" with a literal. Did you mean \"==\"?\n",
      "  if l[i] is 0 and max_len is 0:\n",
      "<ipython-input-33-69607e6e0a57>:11: SyntaxWarning: \"is\" with a literal. Did you mean \"==\"?\n",
      "  if l[i] is 0 and max_len is 0:\n"
     ]
    },
    {
     "name": "stdout",
     "output_type": "stream",
     "text": [
      "10\n",
      " 95 -97 -387 -435 -5 -70 897 127 23 284\n",
      "5\n"
     ]
    }
   ],
   "source": [
    "\n",
    "def subsetSum(l):\n",
    "    \n",
    "    hash_map = {}\n",
    "    \n",
    "    max_len = 0\n",
    "    curr_sum = 0\n",
    "    \n",
    "    for i in range(len(l)):\n",
    "        curr_sum += l[i]\n",
    "        \n",
    "        if l[i] 0 and max_len is 0:\n",
    "            max_len = i + 1\n",
    "            \n",
    "        if curr_sum in hash_map:\n",
    "            max_len = max(max_len, i - hash_map[curr_sum])\n",
    "        \n",
    "        else:\n",
    "            hash_map[curr_sum] = i\n",
    "            \n",
    "    return max_len       \n",
    "    \n",
    "\n",
    "\n",
    "n=int(input())\n",
    "l=list(int(i) for i in input().strip().split(' '))\n",
    "finalLen= subsetSum(l)\n",
    "print(finalLen)"
   ]
  }
 ],
 "metadata": {
  "kernelspec": {
   "display_name": "Python 3",
   "language": "python",
   "name": "python3"
  },
  "language_info": {
   "codemirror_mode": {
    "name": "ipython",
    "version": 3
   },
   "file_extension": ".py",
   "mimetype": "text/x-python",
   "name": "python",
   "nbconvert_exporter": "python",
   "pygments_lexer": "ipython3",
   "version": "3.8.3"
  }
 },
 "nbformat": 4,
 "nbformat_minor": 2
}
