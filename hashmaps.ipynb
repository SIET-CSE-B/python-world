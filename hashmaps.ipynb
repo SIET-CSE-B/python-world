{
 "cells": [
  {
   "cell_type": "code",
   "execution_count": 22,
   "metadata": {},
   "outputs": [
    {
     "name": "stdout",
     "output_type": "stream",
     "text": [
      "True\n",
      "0\n",
      "True\n",
      "False\n",
      "2\n"
     ]
    }
   ],
   "source": [
    "class MapNode:\n",
    "    def __init__(self,key,value):\n",
    "        self.key=key\n",
    "        self.value=value\n",
    "        self.next=None\n",
    "class Map:\n",
    "    def __init__(self):\n",
    "        self.bucketSize=10\n",
    "        self.bucketarray=[]\n",
    "        self.bucketarray=[None for i in range(self.bucketSize)]\n",
    "        self.count=0\n",
    "    def size(self):\n",
    "        return self.count\n",
    "    def compressionfunc(self,hc):\n",
    "        return (abs(hc)%self.bucketSize)\n",
    "    def insert(self,key,value):\n",
    "        hc=hash(key)\n",
    "        index=self.compressionfunc(hc)\n",
    "        head=self.bucketarray[index]\n",
    "        while head is not None:\n",
    "            if head.key==key:\n",
    "                head.value=value\n",
    "                return\n",
    "            head=head.next\n",
    "        head=self.bucketarray[index]\n",
    "        newnode=MapNode(key,value)\n",
    "        newnode.next=head\n",
    "        self.bucketarray[index]=newnode\n",
    "        self.count +=1\n",
    "    def search(self,key):\n",
    "        hc=hash(key)\n",
    "        index=self.compressionfunc(hc)\n",
    "        head=self.bucketarray[index]\n",
    "        while head is not None:\n",
    "            if head.key==key:\n",
    "                return True\n",
    "            head=head.next\n",
    "        return False\n",
    "    def remove(self,key):\n",
    "        hc=hash(key)\n",
    "        index=self.compressionfunc(hc)\n",
    "        head=self.bucketarray[index]\n",
    "        pre=None\n",
    "        while head is not None:\n",
    "            if head.key==key:\n",
    "                self.count-=1\n",
    "                if pre==None:\n",
    "                    self.bucketarray[index]=head.next\n",
    "                else:\n",
    "                    pre.next=head.next\n",
    "                return head.value\n",
    "            pre=head\n",
    "            head=head.next\n",
    "        return None\n",
    "m=Map()\n",
    "m.insert('Abhinav',100)\n",
    "m.insert('Airene',131)\n",
    "m.insert('Ishita',0)\n",
    "print(m.search('Airene'))\n",
    "print(m.remove('Ishita'))\n",
    "print(m.search('Airene'))\n",
    "print(m.search('Ishita'))\n",
    "print(m.size())"
   ]
  },
  {
   "cell_type": "code",
   "execution_count": 9,
   "metadata": {},
   "outputs": [
    {
     "name": "stdout",
     "output_type": "stream",
     "text": [
      "Bcr$gw)TcE5S@DHTFw76\n",
      "Bcr$gw)TE5S@DHF76\n"
     ]
    }
   ],
   "source": [
    "def uniqueChars(string):\n",
    "    d={}\n",
    "    for i in string:\n",
    "        if i not in d:\n",
    "            d[i]=1\n",
    "    s=''\n",
    "    for i in d:\n",
    "        s=s+i\n",
    "    return s\n",
    "\n",
    "# Main\n",
    "string = input()\n",
    "print(uniqueChars(string))\n"
   ]
  },
  {
   "cell_type": "code",
   "execution_count": 28,
   "metadata": {},
   "outputs": [
    {
     "name": "stdout",
     "output_type": "stream",
     "text": [
      "20\n",
      "1 2 3 4 6 7 8 1 2 3 4 5 6 7 8 9\n",
      "{}\n",
      "1\n"
     ]
    }
   ],
   "source": [
    "def longestConsecutiveSequence(l):\n",
    "    if len(l)==1:\n",
    "        return l\n",
    "    d={}\n",
    "    li=l.copy()\n",
    "    l.sort()\n",
    "    for i in l:\n",
    "        if i not in d:\n",
    "            d[i]=1\n",
    "    mini=min(l)\n",
    "    start=d[mini]\n",
    "    di={}\n",
    "    m=max(l)+1\n",
    "    list=[i for i in range(mini,m)]\n",
    "    c=0\n",
    "    t={}\n",
    "    for i in d:\n",
    "        #print(i,list[c])\n",
    "        if i!=list[c]:\n",
    "            if len(di)<=len(t) or len(di)<2:\n",
    "                del di\n",
    "                di={}\n",
    "                continue\n",
    "            del t\n",
    "            t={}\n",
    "            for i in di:\n",
    "                t[i]=1\n",
    "            del di\n",
    "            di={}\n",
    "        else:\n",
    "            di[i]=1\n",
    "        c=c+1\n",
    "    print(t)\n",
    "    if not(t):\n",
    "        k=li[0]\n",
    "        t[k]=1\n",
    "        return t\n",
    "    return t\n",
    "\n",
    "\n",
    "n=int(input())\n",
    "l=list(int(i) for i in input().strip().split(' '))\n",
    "final = longestConsecutiveSequence(l)\n",
    "for num in final:\n",
    "    print(num)"
   ]
  }
 ],
 "metadata": {
  "kernelspec": {
   "display_name": "Python 3",
   "language": "python",
   "name": "python3"
  },
  "language_info": {
   "codemirror_mode": {
    "name": "ipython",
    "version": 3
   },
   "file_extension": ".py",
   "mimetype": "text/x-python",
   "name": "python",
   "nbconvert_exporter": "python",
   "pygments_lexer": "ipython3",
   "version": "3.8.3"
  }
 },
 "nbformat": 4,
 "nbformat_minor": 4
}
