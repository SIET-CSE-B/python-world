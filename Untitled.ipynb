{
 "cells": [
  {
   "cell_type": "code",
   "execution_count": 7,
   "metadata": {},
   "outputs": [
    {
     "name": "stdout",
     "output_type": "stream",
     "text": [
      "1234\n",
      "4321\n"
     ]
    }
   ],
   "source": [
    "def reverse(n):\n",
    "    r=0\n",
    "    \n",
    "    while n!=0:\n",
    "        d=n%10\n",
    "        r=r*10+d\n",
    "        n=n//10\n",
    "    return r\n",
    "\n",
    "n=int(input())\n",
    "result = reverse(n)\n",
    "print(result)"
   ]
  },
  {
   "cell_type": "code",
   "execution_count": 3,
   "metadata": {},
   "outputs": [
    {
     "ename": "ModuleNotFoundError",
     "evalue": "No module named 'matplotlib'",
     "output_type": "error",
     "traceback": [
      "\u001b[1;31m---------------------------------------------------------------------------\u001b[0m",
      "\u001b[1;31mModuleNotFoundError\u001b[0m                       Traceback (most recent call last)",
      "\u001b[1;32m<ipython-input-3-0484cd13f94d>\u001b[0m in \u001b[0;36m<module>\u001b[1;34m\u001b[0m\n\u001b[1;32m----> 1\u001b[1;33m \u001b[1;32mimport\u001b[0m \u001b[0mmatplotlib\u001b[0m\u001b[1;33m\u001b[0m\u001b[1;33m\u001b[0m\u001b[0m\n\u001b[0m",
      "\u001b[1;31mModuleNotFoundError\u001b[0m: No module named 'matplotlib'"
     ]
    }
   ],
   "source": [
    "import matplotlib"
   ]
  },
  {
   "cell_type": "code",
   "execution_count": 10,
   "metadata": {},
   "outputs": [
    {
     "name": "stdout",
     "output_type": "stream",
     "text": [
      "1100\n",
      "12\n"
     ]
    }
   ],
   "source": [
    "## Binary to decimal\n",
    "def convert(n):\n",
    "    i=0\n",
    "    s=0\n",
    "    while n!=0:\n",
    "        d=n%10\n",
    "        s=s+(d*(2**i))\n",
    "        n=n//10\n",
    "        i=i+1\n",
    "    print(s)\n",
    "\n",
    "    \n",
    "n=int(input())\n",
    "convert(n)"
   ]
  },
  {
   "cell_type": "code",
   "execution_count": 31,
   "metadata": {},
   "outputs": [
    {
     "name": "stdout",
     "output_type": "stream",
     "text": [
      "0\n",
      "0"
     ]
    }
   ],
   "source": [
    "##decimal to binary\n",
    "def convert1(n):\n",
    "    a=n\n",
    "    li=[]\n",
    "    if n==0:\n",
    "        li.append(n)\n",
    "    while a>=1:\n",
    "        print(\"k\")\n",
    "        li.append(a%2)\n",
    "        \n",
    "        a=a//2\n",
    "        \n",
    "    for i in range(-1,-(len(li)+1),-1):\n",
    "        print(li[i],end='')\n",
    "n=int(input())\n",
    "convert1(n)"
   ]
  },
  {
   "cell_type": "code",
   "execution_count": 33,
   "metadata": {},
   "outputs": [
    {
     "name": "stdout",
     "output_type": "stream",
     "text": [
      "10\n",
      "3\n"
     ]
    }
   ],
   "source": [
    "import math\n",
    "n=int(input())\n",
    "x=math.sqrt(n)\n",
    "print(int(x))"
   ]
  },
  {
   "cell_type": "code",
   "execution_count": 5,
   "metadata": {},
   "outputs": [
    {
     "name": "stdout",
     "output_type": "stream",
     "text": [
      "7\n",
      "prime\n"
     ]
    }
   ],
   "source": [
    "a=int(input())\n",
    "i=1\n",
    "c=0\n",
    "while i<=a:\n",
    "    if a%i==0:\n",
    "     c=c+1\n",
    "    i=i+1\n",
    "if c<=2:\n",
    " print(\"prime\")\n",
    "else:\n",
    " print(\"not\")\n",
    "ac\n",
    "    "
   ]
  },
  {
   "cell_type": "code",
   "execution_count": 21,
   "metadata": {},
   "outputs": [
    {
     "name": "stdout",
     "output_type": "stream",
     "text": [
      "17\n",
      "    1     1     1     1\n",
      "    2     2     2    10\n",
      "    3     3     3    11\n",
      "    4     4     4   100\n",
      "    5     5     5   101\n",
      "    6     6     6   110\n",
      "    7     7     7   111\n",
      "    8    10     8  1000\n",
      "    9    11     9  1001\n",
      "   10    12     a  1010\n",
      "   11    13     b  1011\n",
      "   12    14     c  1100\n",
      "   13    15     d  1101\n",
      "   14    16     e  1110\n",
      "   15    17     f  1111\n",
      "   16    20    10 10000\n",
      "   17    21    11 10001\n"
     ]
    }
   ],
   "source": [
    "def print_formatted(number):\n",
    "    w=len(bin(number)[2:])\n",
    "    for i in range(1,number+1):\n",
    "        o=oct(i)[2:]\n",
    "        h=hex(i)[2:\n",
    "        b=bin(i)[2:]\n",
    "        o=str(o)\n",
    "        i=str(i)\n",
    "        h=str(h)\n",
    "        b=str(b)\n",
    "        print(i.rjust(w,' '),o.rjust(w,' '),h.rjust(w,' '),b.rjust(w,' '))\n",
    "\n",
    "if __name__ == '__main__':\n",
    "    n = int(input())\n",
    "    print_formatted(n)"
   ]
  },
  {
   "cell_type": "code",
   "execution_count": 8,
   "metadata": {},
   "outputs": [
    {
     "name": "stdout",
     "output_type": "stream",
     "text": [
      "2\n",
      "2\n",
      "2\n",
      "2\n",
      "[[0, 0, 0], [0, 0, 1], [0, 1, 0], [0, 1, 2], [0, 2, 1], [0, 2, 2], [1, 0, 0], [1, 0, 2], [1, 1, 1], [1, 1, 2], [1, 2, 0], [1, 2, 1], [1, 2, 2], [2, 0, 1], [2, 0, 2], [2, 1, 0], [2, 1, 1], [2, 1, 2], [2, 2, 0], [2, 2, 1], [2, 2, 2]]\n"
     ]
    }
   ],
   "source": [
    "if __name__ == '__main__':\n",
    "    x = int(input())\n",
    "    y = int(input())\n",
    "    z = int(input())\n",
    "    n = int(input())\n",
    "    li=[]\n",
    "    for i in range(x+1):\n",
    "        for j in range(y+1):\n",
    "            for k in range(z+1):\n",
    "                if (i+j+k)!=n:\n",
    "                    li.append([i,j,k])\n",
    "    print(li)\n",
    "    "
   ]
  },
  {
   "cell_type": "code",
   "execution_count": 21,
   "metadata": {},
   "outputs": [
    {
     "name": "stdout",
     "output_type": "stream",
     "text": [
      "4\n",
      "57 57 -57 57\n",
      "[-57, 57, 57, 57]\n",
      "57 57\n",
      "57 57\n",
      "57 57\n",
      "-57 57\n",
      "-57\n"
     ]
    }
   ],
   "source": [
    "if __name__ == '__main__':\n",
    "    n = int(input())\n",
    "    arr = [int(n)for n in input().split()]\n",
    "    arr.sort()\n",
    "    a=arr[len(arr)-1]\n",
    "    print(arr)\n",
    "    for i in range(len(arr)-1,-1,-1):\n",
    "        print(arr[i],a)\n",
    "        if arr[i]!=a:\n",
    "            print(arr[i])\n",
    "            break"
   ]
  },
  {
   "cell_type": "code",
   "execution_count": 31,
   "metadata": {},
   "outputs": [
    {
     "name": "stdout",
     "output_type": "stream",
     "text": [
      "4\n",
      "f \n",
      "37.21\n",
      "h\n",
      "37.2\n",
      "t\n",
      "37.21\n",
      "k\n",
      "41\n",
      "[['f ', 37.21], ['h', 37.2], ['t', 37.21], ['k', 41.0]]\n",
      "f \n",
      "t\n"
     ]
    }
   ],
   "source": [
    "if __name__ == '__main__':\n",
    "    li=[]\n",
    "    li1=[]\n",
    "    n=int(input())\n",
    "    for _ in range(n):\n",
    "        name = input()\n",
    "        score = float(input())\n",
    "        li.append([name,score])\n",
    "        li1.append(score)\n",
    "    li1.sort()\n",
    "    min=li1[0]\n",
    "    for i in range(n):\n",
    "        if li1[i]!=min:\n",
    "            min=li1[i]\n",
    "            break\n",
    "    for i in range(n):\n",
    "        if li[i][1]==min:\n",
    "            print(li[i][0])\n",
    "        "
   ]
  },
  {
   "cell_type": "code",
   "execution_count": null,
   "metadata": {},
   "outputs": [],
   "source": [
    "if __name__ == '__main__':\n",
    "    n = int(input())\n",
    "    student_marks = {}\n",
    "    for _ in range(n):\n",
    "        name, *line = input().split()\n",
    "        scores = list(map(float, line))\n",
    "        student_marks[name] = scores\n",
    "    query_name = input()\n",
    "    li=student_marks[query_name]\n",
    "    s=0\n",
    "    for i in li:\n",
    "        s=s+i\n",
    "    print(s/len(li))"
   ]
  },
  {
   "cell_type": "code",
   "execution_count": 37,
   "metadata": {},
   "outputs": [
    {
     "name": "stdout",
     "output_type": "stream",
     "text": [
      "[1, 2, 3, 4]\n"
     ]
    }
   ],
   "source": [
    "dict={'a':1,2:4}\n",
    "dict['list']=[1,2,3,4]\n",
    "for i in dict:\n",
    "    if i =='list':\n",
    "        li=dict[i]\n",
    "print(li)"
   ]
  },
  {
   "cell_type": "code",
   "execution_count": 3,
   "metadata": {},
   "outputs": [
    {
     "name": "stdout",
     "output_type": "stream",
     "text": [
      "1 2 \n",
      "-9223371924346902103\n"
     ]
    }
   ],
   "source": [
    "t=(int(x)for x in input().split())\n",
    "print(hash(t))"
   ]
  },
  {
   "cell_type": "code",
   "execution_count": 6,
   "metadata": {},
   "outputs": [
    {
     "name": "stdout",
     "output_type": "stream",
     "text": [
      "Abhinav\n",
      "aBHINAV\n"
     ]
    }
   ],
   "source": [
    "def swap_case(s):\n",
    "    l=len(s)\n",
    "    st=''\n",
    "    for i in range(l):\n",
    "        if s[i]>='a' and s[i]<='z':\n",
    "            st=st+s[i].upper()\n",
    "        else:\n",
    "            st=st+s[i].lower()\n",
    "    return st\n",
    "\n",
    "if __name__ == '__main__':\n",
    "    s = input()\n",
    "    result = swap_case(s)\n",
    "    print(result)"
   ]
  },
  {
   "cell_type": "code",
   "execution_count": 13,
   "metadata": {},
   "outputs": [
    {
     "name": "stdout",
     "output_type": "stream",
     "text": [
      "Hey there\n",
      "Hey-there\n"
     ]
    }
   ],
   "source": [
    "def split_and_join(line):\n",
    "    li=[x for x in line.split()]\n",
    "    s=''\n",
    "    for i in range(len(li)):\n",
    "        if i==len(li)-1:\n",
    "            s=s+li[i]\n",
    "            break\n",
    "        s=s+li[i]+'-'\n",
    "    return s\n",
    "\n",
    "if __name__ == '__main__':\n",
    "    line = input()\n",
    "    result = split_and_join(line)\n",
    "    print(result)"
   ]
  },
  {
   "cell_type": "code",
   "execution_count": 15,
   "metadata": {},
   "outputs": [
    {
     "name": "stdout",
     "output_type": "stream",
     "text": [
      "Rose Taylor\n",
      "dc\n",
      "Hey Rose Taylor dc! You just delved into python.\n"
     ]
    }
   ],
   "source": [
    "def print_full_name(a, b):\n",
    "    print(\"Hey %s %s! You just delved into python.\"%(a,b))\n",
    "\n",
    "if __name__ == '__main__':\n",
    "    first_name = input()\n",
    "    last_name = input()\n",
    "    print_full_name(first_name, last_name)"
   ]
  },
  {
   "cell_type": "code",
   "execution_count": 2,
   "metadata": {},
   "outputs": [
    {
     "name": "stdout",
     "output_type": "stream",
     "text": [
      "banana\n",
      "ban\n",
      "1\n"
     ]
    }
   ],
   "source": [
    "def count_substring(string, sub_string):\n",
    "    l=len(sub_string)\n",
    "    count=counts(string,sub_string,l,0)\n",
    "    return count\n",
    "\n",
    "def counts(string,sub,l,count):\n",
    "    if len(string)==0:\n",
    "        return count\n",
    "    if string[0]==sub[0]:\n",
    "        if string[:l]==sub:\n",
    "            count=count+1\n",
    "            return counts(string[l-1:],sub,l,count)\n",
    "        else:\n",
    "            return counts(string[1:],sub,l,count)\n",
    "    else:\n",
    "        return counts(string[1:],sub,l,count)\n",
    "    return count            \n",
    "\n",
    "if __name__ == '__main__':\n",
    "    string = input().strip()\n",
    "    sub_string = input().strip()\n",
    "    \n",
    "    count = count_substring(string, sub_string)\n",
    "    print(count)"
   ]
  },
  {
   "cell_type": "code",
   "execution_count": 8,
   "metadata": {},
   "outputs": [
    {
     "name": "stdout",
     "output_type": "stream",
     "text": [
      "123\n",
      "True\n",
      "True\n",
      "True\n",
      "True\n",
      "True\n"
     ]
    }
   ],
   "source": [
    "if __name__ == '__main__':\n",
    "    s = input()\n",
    "    k=False\n",
    "    for c in s:\n",
    "        if c.isalnum():\n",
    "            k=True\n",
    "            break\n",
    "    print(k)\n",
    "    k=False\n",
    "    for c in s:\n",
    "        if c.isalpha():\n",
    "            k=True\n",
    "            break\n",
    "    print(k)\n",
    "    for c in s:\n",
    "        if c.isdigit():\n",
    "            k=True\n",
    "            break\n",
    "    print(k)\n",
    "    for c in s:\n",
    "        if c.islower():\n",
    "            k=True\n",
    "            break\n",
    "    print(k)\n",
    "    for c in s:\n",
    "        if c.isupper():\n",
    "            k=True\n",
    "            break\n",
    "    print(k)"
   ]
  },
  {
   "cell_type": "code",
   "execution_count": 18,
   "metadata": {},
   "outputs": [
    {
     "name": "stdout",
     "output_type": "stream",
     "text": [
      "11 33\n",
      "---------------.|.----------------\n",
      "------------.|..|..|.-------------\n",
      "---------.|..|..|..|..|.----------\n",
      "------.|..|..|..|..|..|..|.-------\n",
      "---.|..|..|..|..|..|..|..|..|.----\n",
      "-------------WELCOME--------------\n",
      "---.|..|..|..|..|..|..|..|..|.----\n",
      "------.|..|..|..|..|..|..|.-------\n",
      "---------.|..|..|..|..|.----------\n",
      "------------.|..|..|.-------------\n",
      "---------------.|.----------------\n"
     ]
    }
   ],
   "source": [
    "li=[int(x)for x in input().split()]\n",
    "n=li[0]\n",
    "m=li[1]\n",
    "mid =m//2\n",
    "mi=mid-1\n",
    "mo=n//2\n",
    "temp=0\n",
    "i=0\n",
    "r=1\n",
    "sl=''\n",
    "k=1\n",
    "while i<n:\n",
    "    j=1\n",
    "    while j<m+1:\n",
    "        print(\"-\",end='')\n",
    "        if i==mo and j==mid-3:\n",
    "            r=r-2\n",
    "            mi=mi+3\n",
    "            sl='a'\n",
    "            print(\"WELCOME\",end='')\n",
    "            k=j+8\n",
    "            while k<=m+1:\n",
    "                print(\"-\",end='')\n",
    "                k=k+1\n",
    "            break\n",
    "        if (j==mi) and sl!='a':\n",
    "            k=1\n",
    "            while(k<=r):\n",
    "                print(\".|.\",end='')\n",
    "                k=k+1\n",
    "            r=r+2\n",
    "            j=j+((k-1)*3)\n",
    "            print('-',end='')\n",
    "            mi=mi-3\n",
    "        if sl=='a':\n",
    "            if j==mi:\n",
    "                k=1\n",
    "                while k<=r:\n",
    "                    print(\".|.\",end='')\n",
    "                    k=k+1\n",
    "                r=r-2\n",
    "                j=j+((k-1)*3)\n",
    "                print('-',end='')\n",
    "                mi=mi+3\n",
    "                \n",
    "        j=j+1\n",
    "    print()\n",
    "    i=i+1\n",
    "            \n",
    "            \n",
    "    "
   ]
  },
  {
   "cell_type": "code",
   "execution_count": 4,
   "metadata": {},
   "outputs": [
    {
     "name": "stdout",
     "output_type": "stream",
     "text": [
      "abcdefghijklmnopqrstuvwxyz\n"
     ]
    }
   ],
   "source": [
    "import string\n",
    "alpha=string.ascii_lowercase\n",
    "print(alpha)"
   ]
  },
  {
   "cell_type": "code",
   "execution_count": 11,
   "metadata": {},
   "outputs": [
    {
     "name": "stdout",
     "output_type": "stream",
     "text": [
      "3\n",
      "['c-b-a-b-c', 'c-b-c', 'c']\n",
      "----c----\n",
      "--c-b-c--\n",
      "c-b-a-b-c\n",
      "--c-b-c--\n",
      "----c----\n"
     ]
    }
   ],
   "source": [
    "\n",
    "import string\n",
    "alpha = string.ascii_lowercase\n",
    "\n",
    "n = int(input())\n",
    "L = []\n",
    "\n",
    "for i in range(n):\n",
    "    s = \"-\".join(alpha[i:n])\n",
    "    L.append(s[::-1]+s[1:])\n",
    "\n",
    "width = len(L[0])\n",
    "\n",
    "for i in range(n-1, 0, -1):\n",
    "    print(L[i].center(width, \"-\"))\n",
    "\n",
    "for i in range(n):\n",
    "    print(L[i].center(width, \"-\"))"
   ]
  },
  {
   "cell_type": "code",
   "execution_count": 29,
   "metadata": {},
   "outputs": [
    {
     "name": "stdout",
     "output_type": "stream",
     "text": [
      "hello   world  lol\n",
      "e\n",
      "l\n",
      "l\n",
      "o\n",
      " \n",
      " \n",
      " \n",
      "o\n",
      "r\n",
      "l\n",
      "d\n",
      " \n",
      " \n",
      "o\n",
      "l\n",
      "Hello   World  Lol\n"
     ]
    }
   ],
   "source": [
    "def solve(s):\n",
    "    s1=''\n",
    "    s1=s1+s[0].upper()\n",
    "    i=1\n",
    "    while i<len(s):\n",
    "        print(s[i])\n",
    "        if s[i]==' ' and s[i+1]!=' ':\n",
    "            s1=s1+s[i]+s[i+1].upper()\n",
    "            i=i+2\n",
    "            continue\n",
    "        s1=s1+s[i]\n",
    "        i=i+1\n",
    "    return s1\n",
    "\n",
    "s=input()\n",
    "print(solve(s))"
   ]
  },
  {
   "cell_type": "code",
   "execution_count": 13,
   "metadata": {
    "scrolled": true
   },
   "outputs": [
    {
     "name": "stdout",
     "output_type": "stream",
     "text": [
      "BANANA\n",
      "0\n",
      "6\n",
      "11\n",
      "15\n",
      "18\n",
      "20\n",
      "Stuart 21\n"
     ]
    }
   ],
   "source": [
    "def minion_game(string):\n",
    "    name1='Stuart'\n",
    "    name2='Kevin'\n",
    "    v='AEIOU'\n",
    "    kp=0\n",
    "    sp=0\n",
    "    for i in range(len(string)):\n",
    "        print(sp)\n",
    "        if string[i] in v:\n",
    "            kp+= len(string) - i\n",
    "        else:\n",
    "            sp =sp+ len(string) - i        \n",
    "        \n",
    "\n",
    "        \n",
    "    if kp>sp:\n",
    "        print(name2,kp)\n",
    "    elif sp>kp:\n",
    "        print(name1,sp)\n",
    "    else:\n",
    "        print(\"Draw\")\n",
    "        \n",
    "\n",
    "        \n",
    "\n",
    "\n",
    "if __name__ == '__main__':\n",
    "    s = input()\n",
    "    minion_game(s)"
   ]
  },
  {
   "cell_type": "code",
   "execution_count": 10,
   "metadata": {},
   "outputs": [
    {
     "name": "stdout",
     "output_type": "stream",
     "text": [
      "BANANA\n",
      "Stuart 12\n"
     ]
    }
   ],
   "source": [
    "S = input().strip()\n",
    "S_length = len(S)\n",
    "player1, player2 = 0,0\n",
    "\n",
    "for i in range(S_length):\n",
    "    if S[i] in \"AEIOU\":\n",
    "        player1 += S_length - i\n",
    "    else:\n",
    "        player2 += S_length - i        \n",
    "        \n",
    "if player1 > player2:\n",
    "    print(\"Kevin\", player1)\n",
    "elif player1 < player2:\n",
    "    print(\"Stuart\", player2)\n",
    "else:\n",
    "    print(\"Draw\")"
   ]
  },
  {
   "cell_type": "code",
   "execution_count": 16,
   "metadata": {},
   "outputs": [
    {
     "name": "stdout",
     "output_type": "stream",
     "text": [
      "AABCAAADA\n",
      "3\n",
      "('A', 'A', 'B')\n",
      "AB\n",
      "('C', 'A', 'A')\n",
      "CA\n",
      "('A', 'D', 'A')\n",
      "AD\n"
     ]
    }
   ],
   "source": [
    "def merge_the_tools(string, k):\n",
    "    for part in zip(*[iter(string)] * k):\n",
    "        print(part)\n",
    "        d = dict()\n",
    "        print(''.join([ d.setdefault(c, c) for c in part if c not in d ]))\n",
    "\n",
    "if __name__ == '__main__':\n",
    "    string, k = input(), int(input())\n",
    "    merge_the_tools(string, k)"
   ]
  },
  {
   "cell_type": "code",
   "execution_count": 22,
   "metadata": {},
   "outputs": [
    {
     "name": "stdout",
     "output_type": "stream",
     "text": [
      "<zip object at 0x000002065E3CD648>\n"
     ]
    }
   ],
   "source": [
    "string='abaaaaa'\n",
    "p=zip(*[iter(string)] * 3)\n",
    "print(p)"
   ]
  },
  {
   "cell_type": "code",
   "execution_count": 26,
   "metadata": {},
   "outputs": [
    {
     "name": "stdout",
     "output_type": "stream",
     "text": [
      "<zip object at 0x000002065E125A88>\n"
     ]
    }
   ],
   "source": [
    "p=zip(*[iter('hello')] * 3)\n",
    "print(p)"
   ]
  },
  {
   "cell_type": "code",
   "execution_count": 39,
   "metadata": {},
   "outputs": [
    {
     "name": "stdout",
     "output_type": "stream",
     "text": [
      "('a', 'b', 'c')\n",
      "('a', 'b', 'c')\n",
      "('d', 'a', 'b')\n"
     ]
    }
   ],
   "source": [
    "s='abcabcdabc'\n",
    "for p in zip(*[iter(s)]*3):\n",
    "    print(p)"
   ]
  },
  {
   "cell_type": "code",
   "execution_count": 42,
   "metadata": {},
   "outputs": [
    {
     "name": "stdout",
     "output_type": "stream",
     "text": [
      "{(2, 't'), (3, 'two'), (1, 'o')}\n",
      "{(3, 'e'), (2, 'w'), (1, 'o')}\n"
     ]
    }
   ],
   "source": [
    "n=[1,2,3]\n",
    "s=['o','t','two']\n",
    "n1=[1,2,3,4]\n",
    "s1=['o','w','e']\n",
    "r=zip(n,s)\n",
    "print(set(r))\n",
    "print(set(zip(n1,s1)))"
   ]
  },
  {
   "cell_type": "markdown",
   "metadata": {},
   "source": [
    "##[()] tuple inside the list gets change\n"
   ]
  },
  {
   "cell_type": "code",
   "execution_count": 9,
   "metadata": {},
   "outputs": [
    {
     "name": "stdout",
     "output_type": "stream",
     "text": [
      "1 2 \n",
      "3 4\n",
      "(1, 3) (1, 4) (2, 3) (2, 4) "
     ]
    }
   ],
   "source": [
    "from itertools import product\n",
    "A=[int(x)for x in input().split()]\n",
    "B=[int(y)for y in input().split()]\n",
    "li=[]\n",
    "li=product(A,B)\n",
    "for i in li:\n",
    "    print(i,end=' ')"
   ]
  },
  {
   "cell_type": "code",
   "execution_count": 11,
   "metadata": {},
   "outputs": [
    {
     "name": "stdout",
     "output_type": "stream",
     "text": [
      "Counter({2: 2, 3: 2, 5: 2, 1: 1, 4: 1})\n"
     ]
    }
   ],
   "source": [
    "from collections import Counter\n",
    "li=[1,2,2,3,3,4,5,5]\n",
    "print(Counter(li))"
   ]
  },
  {
   "cell_type": "code",
   "execution_count": null,
   "metadata": {},
   "outputs": [],
   "source": [
    "# Enter your code here. Read input from STDIN. Print output to STDOUT\n",
    "import collections\n",
    "x=int(input())\n",
    "shoes = collections.Counter(list(int(x)for x in input().split()))\n",
    "n=int(input())\n",
    "io=0\n",
    "for i in range(n):\n",
    "    size,price=[int(y)for y in input().split()]\n",
    "    if shoes[size]:\n",
    "        io=io+price\n",
    "        shoes[size] -=1\n",
    "print(io)"
   ]
  },
  {
   "cell_type": "code",
   "execution_count": 36,
   "metadata": {},
   "outputs": [
    {
     "name": "stdout",
     "output_type": "stream",
     "text": [
      "ABCD 3\n",
      "AB\n",
      "AB\n",
      "AC\n",
      "AC\n",
      "AD\n",
      "AD\n",
      "BA\n",
      "BA\n",
      "BC\n",
      "BC\n",
      "BD\n",
      "BD\n",
      "CA\n",
      "CA\n",
      "CB\n",
      "CB\n",
      "CD\n",
      "CD\n",
      "DA\n",
      "DA\n",
      "DB\n",
      "DB\n",
      "DC\n",
      "DC\n"
     ]
    }
   ],
   "source": [
    "from itertools import permutations\n",
    "s,n=[x for x in input().split()]\n",
    "n=int(n)\n",
    "s=sorted(s)\n",
    "li=list(permutations(s,n))\n",
    "for i in range(len(li)):\n",
    "    "
   ]
  },
  {
   "cell_type": "code",
   "execution_count": 37,
   "metadata": {
    "scrolled": true
   },
   "outputs": [
    {
     "name": "stdout",
     "output_type": "stream",
     "text": [
      "ABCD 3\n",
      "ABC\n",
      "ABD\n",
      "ACB\n",
      "ACD\n",
      "ADB\n",
      "ADC\n",
      "BAC\n",
      "BAD\n",
      "BCA\n",
      "BCD\n",
      "BDA\n",
      "BDC\n",
      "CAB\n",
      "CAD\n",
      "CBA\n",
      "CBD\n",
      "CDA\n",
      "CDB\n",
      "DAB\n",
      "DAC\n",
      "DBA\n",
      "DBC\n",
      "DCA\n",
      "DCB\n"
     ]
    }
   ],
   "source": [
    "from itertools import permutations\n",
    "s,n = input().split()\n",
    "print(*[''.join(i) for i in permutations(sorted(s),int(n))],sep='\\n')"
   ]
  },
  {
   "cell_type": "code",
   "execution_count": 1,
   "metadata": {},
   "outputs": [
    {
     "ename": "SyntaxError",
     "evalue": "can't assign to operator (<ipython-input-1-181f7db7c0eb>, line 3)",
     "output_type": "error",
     "traceback": [
      "\u001b[1;36m  File \u001b[1;32m\"<ipython-input-1-181f7db7c0eb>\"\u001b[1;36m, line \u001b[1;32m3\u001b[0m\n\u001b[1;33m    x+10,inplace=True\u001b[0m\n\u001b[1;37m                     ^\u001b[0m\n\u001b[1;31mSyntaxError\u001b[0m\u001b[1;31m:\u001b[0m can't assign to operator\n"
     ]
    }
   ],
   "source": [
    "x=10\n",
    "x=x+10\n",
    "x+10,inplace=True"
   ]
  },
  {
   "cell_type": "code",
   "execution_count": 7,
   "metadata": {},
   "outputs": [
    {
     "name": "stdout",
     "output_type": "stream",
     "text": [
      "axc\n"
     ]
    },
    {
     "ename": "ValueError",
     "evalue": "invalid literal for int() with base 10: 'axc'",
     "output_type": "error",
     "traceback": [
      "\u001b[1;31m---------------------------------------------------------------------------\u001b[0m",
      "\u001b[1;31mValueError\u001b[0m                                Traceback (most recent call last)",
      "\u001b[1;32m<ipython-input-7-44779edb04a6>\u001b[0m in \u001b[0;36m<module>\u001b[1;34m\u001b[0m\n\u001b[1;32m----> 1\u001b[1;33m \u001b[0ml\u001b[0m\u001b[1;33m=\u001b[0m\u001b[0mint\u001b[0m\u001b[1;33m(\u001b[0m\u001b[0minput\u001b[0m\u001b[1;33m(\u001b[0m\u001b[1;33m)\u001b[0m\u001b[1;33m)\u001b[0m\u001b[1;33m\u001b[0m\u001b[1;33m\u001b[0m\u001b[0m\n\u001b[0m\u001b[0;32m      2\u001b[0m \u001b[0mbr\u001b[0m\u001b[1;33m=\u001b[0m\u001b[0mint\u001b[0m\u001b[1;33m(\u001b[0m\u001b[0minput\u001b[0m\u001b[1;33m(\u001b[0m\u001b[1;33m)\u001b[0m\u001b[1;33m)\u001b[0m\u001b[1;33m\u001b[0m\u001b[1;33m\u001b[0m\u001b[0m\n\u001b[0;32m      3\u001b[0m \u001b[0marea\u001b[0m\u001b[1;33m=\u001b[0m\u001b[0ml\u001b[0m\u001b[1;33m*\u001b[0m\u001b[0mbr\u001b[0m\u001b[1;33m\u001b[0m\u001b[1;33m\u001b[0m\u001b[0m\n\u001b[0;32m      4\u001b[0m \u001b[0mperi\u001b[0m\u001b[1;33m=\u001b[0m\u001b[1;36m2\u001b[0m\u001b[1;33m*\u001b[0m\u001b[1;33m(\u001b[0m\u001b[0mL\u001b[0m\u001b[1;33m+\u001b[0m\u001b[0mBr\u001b[0m\u001b[1;33m)\u001b[0m\u001b[1;33m\u001b[0m\u001b[1;33m\u001b[0m\u001b[0m\n\u001b[0;32m      5\u001b[0m \u001b[1;32mif\u001b[0m \u001b[0marea\u001b[0m\u001b[1;33m>\u001b[0m\u001b[0mperi\u001b[0m\u001b[1;33m:\u001b[0m\u001b[1;33m\u001b[0m\u001b[1;33m\u001b[0m\u001b[0m\n",
      "\u001b[1;31mValueError\u001b[0m: invalid literal for int() with base 10: 'axc'"
     ]
    }
   ],
   "source": [
    "\n",
    "l=int(input())\n",
    "br=int(input())\n",
    "area=l*br \n",
    "peri=2*(L+Br)\n",
    "if area>peri:\n",
    "    print(\"Area\")\n",
    "    print(area)\n",
    "elif peri>area:\n",
    "    print(\"Peri\")\n",
    "    print(peri)\n",
    "else:\n",
    "    print(\"Eq\")"
   ]
  },
  {
   "cell_type": "code",
   "execution_count": 17,
   "metadata": {
    "scrolled": true
   },
   "outputs": [
    {
     "name": "stdout",
     "output_type": "stream",
     "text": [
      "300 120.00\n",
      "120.00\n"
     ]
    }
   ],
   "source": [
    "# cook your dish here\n",
    "x,y=input().split()\n",
    "x,y=int(x),float(y)\n",
    "if x%5!=0 or x>y:\n",
    "    print(\"%.2f\"%y)\n",
    "else:\n",
    "    ans=y-x\n",
    "    ans=ans-0.50\n",
    "    print(\"%.2f\"%ans)"
   ]
  },
  {
   "cell_type": "code",
   "execution_count": 1,
   "metadata": {},
   "outputs": [
    {
     "name": "stdout",
     "output_type": "stream",
     "text": [
      "4 56\n",
      "4 56\n"
     ]
    }
   ],
   "source": [
    "x,y=input().split()\n",
    "print(x,y)"
   ]
  },
  {
   "cell_type": "code",
   "execution_count": 5,
   "metadata": {},
   "outputs": [
    {
     "name": "stdout",
     "output_type": "stream",
     "text": [
      "4\n",
      "4 100\n",
      "20 90 40 90\n",
      "Case #1: 2\n",
      "4 50\n",
      "30 30 10 10\n",
      "Case #2: 3\n",
      "3 300\n",
      "999 999 999\n",
      "Case #3: 0\n",
      "3 20\n",
      "2 4 34 \n",
      "Case #4: 2\n"
     ]
    }
   ],
   "source": [
    "n=int(input())\n",
    "count=1\n",
    "num=0\n",
    "for i in range(n):\n",
    "    num=0\n",
    "    x,b=input().split()\n",
    "    b=int(b)\n",
    "    li=[]\n",
    "    li=[int(i) for i in input().split()]\n",
    "    for j in range(len(li)):\n",
    "        if li[j]<=b and b>0:\n",
    "            b=b-li[j]\n",
    "            num=num+1\n",
    "    print(\"Case #{}:\".format(count),num)\n",
    "    count=count+1\n",
    "    del li"
   ]
  },
  {
   "cell_type": "code",
   "execution_count": 3,
   "metadata": {},
   "outputs": [
    {
     "name": "stdout",
     "output_type": "stream",
     "text": [
      "3\n",
      "4 50\n",
      "30 30 10 10\n",
      "Case #1: 3\n",
      "gaerg\n"
     ]
    },
    {
     "ename": "ValueError",
     "evalue": "invalid literal for int() with base 10: 'gaerg'",
     "output_type": "error",
     "traceback": [
      "\u001b[1;31m---------------------------------------------------------------------------\u001b[0m",
      "\u001b[1;31mValueError\u001b[0m                                Traceback (most recent call last)",
      "\u001b[1;32m<ipython-input-3-0d1f11fb3115>\u001b[0m in \u001b[0;36m<module>\u001b[1;34m\u001b[0m\n\u001b[0;32m      1\u001b[0m \u001b[0mtc\u001b[0m \u001b[1;33m=\u001b[0m \u001b[0mint\u001b[0m\u001b[1;33m(\u001b[0m\u001b[0minput\u001b[0m\u001b[1;33m(\u001b[0m\u001b[1;33m)\u001b[0m\u001b[1;33m)\u001b[0m\u001b[1;33m\u001b[0m\u001b[1;33m\u001b[0m\u001b[0m\n\u001b[0;32m      2\u001b[0m \u001b[1;32mfor\u001b[0m \u001b[0mi\u001b[0m \u001b[1;32min\u001b[0m \u001b[0mrange\u001b[0m\u001b[1;33m(\u001b[0m\u001b[0mtc\u001b[0m\u001b[1;33m)\u001b[0m\u001b[1;33m:\u001b[0m\u001b[1;33m\u001b[0m\u001b[1;33m\u001b[0m\u001b[0m\n\u001b[1;32m----> 3\u001b[1;33m     \u001b[0mn\u001b[0m\u001b[1;33m,\u001b[0m \u001b[0mbudget\u001b[0m \u001b[1;33m=\u001b[0m \u001b[0mmap\u001b[0m\u001b[1;33m(\u001b[0m\u001b[0mint\u001b[0m\u001b[1;33m,\u001b[0m \u001b[0minput\u001b[0m\u001b[1;33m(\u001b[0m\u001b[1;33m)\u001b[0m\u001b[1;33m.\u001b[0m\u001b[0msplit\u001b[0m\u001b[1;33m(\u001b[0m\u001b[1;33m)\u001b[0m\u001b[1;33m)\u001b[0m\u001b[1;33m\u001b[0m\u001b[1;33m\u001b[0m\u001b[0m\n\u001b[0m\u001b[0;32m      4\u001b[0m     \u001b[0mprices\u001b[0m \u001b[1;33m=\u001b[0m \u001b[0mlist\u001b[0m\u001b[1;33m(\u001b[0m\u001b[0mmap\u001b[0m\u001b[1;33m(\u001b[0m\u001b[0mint\u001b[0m\u001b[1;33m,\u001b[0m \u001b[0minput\u001b[0m\u001b[1;33m(\u001b[0m\u001b[1;33m)\u001b[0m\u001b[1;33m.\u001b[0m\u001b[0msplit\u001b[0m\u001b[1;33m(\u001b[0m\u001b[1;33m)\u001b[0m\u001b[1;33m)\u001b[0m\u001b[1;33m)\u001b[0m\u001b[1;33m\u001b[0m\u001b[1;33m\u001b[0m\u001b[0m\n\u001b[0;32m      5\u001b[0m     \u001b[0mprices\u001b[0m\u001b[1;33m.\u001b[0m\u001b[0msort\u001b[0m\u001b[1;33m(\u001b[0m\u001b[1;33m)\u001b[0m\u001b[1;33m\u001b[0m\u001b[1;33m\u001b[0m\u001b[0m\n",
      "\u001b[1;31mValueError\u001b[0m: invalid literal for int() with base 10: 'gaerg'"
     ]
    }
   ],
   "source": [
    "tc = int(input())\n",
    "for i in range(tc):\n",
    "    n, budget = map(int, input().split())\n",
    "    prices = list(map(int, input().split()))\n",
    "    prices.sort()\n",
    "    for j in range(n, 0, -1):\n",
    "        if sum(prices[: j]) <= budget:\n",
    "            print(\"Case #\" + str(i+1) + ': ' + str(len(prices[: j])))\n",
    "            break\n",
    "    else: print(\"Case #\" + str(i+1) + ': 0')"
   ]
  }
 ],
 "metadata": {
  "kernelspec": {
   "display_name": "Python 3",
   "language": "python",
   "name": "python3"
  },
  "language_info": {
   "codemirror_mode": {
    "name": "ipython",
    "version": 3
   },
   "file_extension": ".py",
   "mimetype": "text/x-python",
   "name": "python",
   "nbconvert_exporter": "python",
   "pygments_lexer": "ipython3",
   "version": "3.8.3"
  }
 },
 "nbformat": 4,
 "nbformat_minor": 2
}
