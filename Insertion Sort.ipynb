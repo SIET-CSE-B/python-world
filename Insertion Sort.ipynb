{
 "cells": [
  {
   "cell_type": "markdown",
   "metadata": {},
   "source": [
    "## Insertion Sort"
   ]
  },
  {
   "cell_type": "code",
   "execution_count": 1,
   "metadata": {},
   "outputs": [
    {
     "name": "stdout",
     "output_type": "stream",
     "text": [
      "4\n",
      "5 6 3 8\n"
     ]
    },
    {
     "ename": "IndexError",
     "evalue": "list index out of range",
     "output_type": "error",
     "traceback": [
      "\u001b[1;31m---------------------------------------------------------------------------\u001b[0m",
      "\u001b[1;31mIndexError\u001b[0m                                Traceback (most recent call last)",
      "\u001b[1;32m<ipython-input-1-6151aa22f69f>\u001b[0m in \u001b[0;36m<module>\u001b[1;34m\u001b[0m\n\u001b[0;32m     20\u001b[0m \u001b[0mx\u001b[0m\u001b[1;33m=\u001b[0m\u001b[0mint\u001b[0m\u001b[1;33m(\u001b[0m\u001b[0minput\u001b[0m\u001b[1;33m(\u001b[0m\u001b[1;33m)\u001b[0m\u001b[1;33m)\u001b[0m\u001b[1;33m\u001b[0m\u001b[1;33m\u001b[0m\u001b[0m\n\u001b[0;32m     21\u001b[0m \u001b[0mli\u001b[0m\u001b[1;33m=\u001b[0m\u001b[1;33m[\u001b[0m\u001b[0mint\u001b[0m\u001b[1;33m(\u001b[0m\u001b[0mx\u001b[0m\u001b[1;33m)\u001b[0m\u001b[1;32mfor\u001b[0m \u001b[0mx\u001b[0m \u001b[1;32min\u001b[0m \u001b[0minput\u001b[0m\u001b[1;33m(\u001b[0m\u001b[1;33m)\u001b[0m\u001b[1;33m.\u001b[0m\u001b[0mstrip\u001b[0m\u001b[1;33m(\u001b[0m\u001b[1;33m)\u001b[0m\u001b[1;33m.\u001b[0m\u001b[0msplit\u001b[0m\u001b[1;33m(\u001b[0m\u001b[1;33m)\u001b[0m\u001b[1;33m]\u001b[0m\u001b[1;33m\u001b[0m\u001b[1;33m\u001b[0m\u001b[0m\n\u001b[1;32m---> 22\u001b[1;33m \u001b[0mIsort\u001b[0m\u001b[1;33m(\u001b[0m\u001b[0mli\u001b[0m\u001b[1;33m)\u001b[0m\u001b[1;33m\u001b[0m\u001b[1;33m\u001b[0m\u001b[0m\n\u001b[0m",
      "\u001b[1;32m<ipython-input-1-6151aa22f69f>\u001b[0m in \u001b[0;36mIsort\u001b[1;34m(li)\u001b[0m\n\u001b[0;32m      7\u001b[0m         \u001b[0mj\u001b[0m\u001b[1;33m=\u001b[0m\u001b[1;36m0\u001b[0m\u001b[1;33m\u001b[0m\u001b[1;33m\u001b[0m\u001b[0m\n\u001b[0;32m      8\u001b[0m         \u001b[1;32mwhile\u001b[0m \u001b[0mj\u001b[0m\u001b[1;33m<=\u001b[0m\u001b[0mend\u001b[0m\u001b[1;33m:\u001b[0m\u001b[1;33m\u001b[0m\u001b[1;33m\u001b[0m\u001b[0m\n\u001b[1;32m----> 9\u001b[1;33m             \u001b[1;32mif\u001b[0m \u001b[0mli1\u001b[0m\u001b[1;33m[\u001b[0m\u001b[0mj\u001b[0m\u001b[1;33m]\u001b[0m\u001b[1;33m>\u001b[0m\u001b[0mli\u001b[0m\u001b[1;33m[\u001b[0m\u001b[0mstart\u001b[0m\u001b[1;33m]\u001b[0m\u001b[1;33m:\u001b[0m\u001b[1;33m\u001b[0m\u001b[1;33m\u001b[0m\u001b[0m\n\u001b[0m\u001b[0;32m     10\u001b[0m                 \u001b[0mt\u001b[0m\u001b[1;33m=\u001b[0m\u001b[0mli1\u001b[0m\u001b[1;33m[\u001b[0m\u001b[0mj\u001b[0m\u001b[1;33m]\u001b[0m\u001b[1;33m\u001b[0m\u001b[1;33m\u001b[0m\u001b[0m\n\u001b[0;32m     11\u001b[0m                 \u001b[0mli1\u001b[0m\u001b[1;33m[\u001b[0m\u001b[0mj\u001b[0m\u001b[1;33m]\u001b[0m\u001b[1;33m=\u001b[0m\u001b[0mli\u001b[0m\u001b[1;33m[\u001b[0m\u001b[0mstart\u001b[0m\u001b[1;33m]\u001b[0m\u001b[1;33m\u001b[0m\u001b[1;33m\u001b[0m\u001b[0m\n",
      "\u001b[1;31mIndexError\u001b[0m: list index out of range"
     ]
    }
   ],
   "source": [
    "def Isort(li):\n",
    "    start=1\n",
    "    end=len(li)-1\n",
    "    li1=[]\n",
    "    t=0\n",
    "    while start<=end:\n",
    "        j=0\n",
    "        while j<=end:\n",
    "            if li1[j]>li[start]:\n",
    "                t=li1[j]\n",
    "                li1[j]=li[start]\n",
    "                li[j+1]=t\n",
    "            else:\n",
    "                t=li1[j]\n",
    "                li1[j]=li[start]\n",
    "                li[j-1]=t\n",
    "            j=j+1\n",
    "        start=start+1\n",
    "    print(li1)\n",
    "x=int(input())\n",
    "li=[int(x)for x in input().strip().split()]\n",
    "Isort(li)"
   ]
  },
  {
   "cell_type": "markdown",
   "metadata": {},
   "source": [
    "## Merge"
   ]
  },
  {
   "cell_type": "code",
   "execution_count": 3,
   "metadata": {
    "scrolled": true
   },
   "outputs": [
    {
     "name": "stdout",
     "output_type": "stream",
     "text": [
      "3\n",
      "1 3 2\n",
      "3\n",
      "3 2 1\n",
      "[1, 3, 2, 3, 2, 1]\n",
      "[1, 1, 3, 3, 2, 2]\n",
      "[1, 1, 2, 3, 3, 2]\n",
      "[1, 1, 2, 2, 3, 3]\n",
      "[1, 1, 2, 2, 3, 3]\n",
      "[1, 1, 2, 2, 3, 3]\n"
     ]
    }
   ],
   "source": [
    "def sort(li):\n",
    "    s=0\n",
    "    t=0\n",
    "    while s<len(li):\n",
    "        \n",
    "        j=s\n",
    "    \n",
    "        \n",
    "        while j<len(li):\n",
    "            if li[j]<li[s]:\n",
    "                t=li[j]\n",
    "                li[j]=li[s]\n",
    "                li[s]=t\n",
    "            \n",
    "            j=j+1\n",
    "        s=s+1\n",
    "        print(li)\n",
    "    \n",
    "x=int(input())\n",
    "li2=[int(x) for x in input().strip().split()]\n",
    "k=int(input())\n",
    "li1=[int(k) for k in input().strip().split()]\n",
    "li=[]\n",
    "for e in li2:\n",
    "    li.append(e)\n",
    "\n",
    "for p in li1:\n",
    "    li.append(p)\n",
    "sort(li)\n"
   ]
  },
  {
   "cell_type": "code",
   "execution_count": 5,
   "metadata": {},
   "outputs": [
    {
     "name": "stdout",
     "output_type": "stream",
     "text": [
      "2\n",
      "1 2\n",
      "2\n",
      "1 2\n",
      "1 2 1 2 "
     ]
    }
   ],
   "source": [
    "## Read input as specified in the question.\n",
    "## Print output as specified in the question.\n",
    "\n",
    "    \n",
    "x=int(input())\n",
    "li2=[int(x) for x in input().strip().split()]\n",
    "k=int(input())\n",
    "li1=[int(k) for k in input().strip().split()]\n",
    "li=[]\n",
    "for e in li2:\n",
    "    li.append(e)\n",
    "\n",
    "for p in li1:\n",
    "    li.append(p)\n",
    "for o in li:\n",
    "    print(o,end=' ')\n"
   ]
  }
 ],
 "metadata": {
  "kernelspec": {
   "display_name": "Python 3",
   "language": "python",
   "name": "python3"
  },
  "language_info": {
   "codemirror_mode": {
    "name": "ipython",
    "version": 3
   },
   "file_extension": ".py",
   "mimetype": "text/x-python",
   "name": "python",
   "nbconvert_exporter": "python",
   "pygments_lexer": "ipython3",
   "version": "3.7.3"
  }
 },
 "nbformat": 4,
 "nbformat_minor": 2
}
