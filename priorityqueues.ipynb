{
 "cells": [
  {
   "cell_type": "code",
   "execution_count": 1,
   "metadata": {},
   "outputs": [
    {
     "name": "stdout",
     "output_type": "stream",
     "text": [
      "1 3 1 4 1 63 1 21 1 9 2 3 1 7 2 2 2 3 3 3 -1\n",
      "3\n",
      "3\n",
      "4\n",
      "4\n",
      "4\n",
      "4\n",
      "7\n",
      "9\n"
     ]
    }
   ],
   "source": [
    "class PriorityQueueNode:\n",
    "    def __init__(self,ele,priority):\n",
    "        self.ele = ele\n",
    "        self.priority = priority\n",
    "        \n",
    "class PriorityQueue:\n",
    "    def __init__(self):\n",
    "        self.pq = []\n",
    "    \n",
    "    def isEmpty(self):\n",
    "        return self.getSize() == 0\n",
    "    \n",
    "    def getSize(self):\n",
    "        return len(self.pq)\n",
    "\n",
    "    def getMin(self):\n",
    "        if self.isEmpty():\n",
    "            return None\n",
    "        return self.pq[0].ele\n",
    "    \n",
    "    def __percolateUp(self):\n",
    "        childIndex = self.getSize() - 1\n",
    "        while childIndex > 0:\n",
    "            parentIndex = (childIndex-1)//2\n",
    "            \n",
    "            if self.pq[parentIndex].priority > self.pq[childIndex].priority:\n",
    "                self.pq[parentIndex],self.pq[childIndex] = self.pq[childIndex],self.pq[parentIndex]\n",
    "                childIndex = parentIndex\n",
    "            else:\n",
    "                break\n",
    "            \n",
    "    def insert(self,ele,priority):\n",
    "        pqNode = PriorityQueueNode(ele,priority)\n",
    "        self.pq.append(pqNode)\n",
    "        self.__percolateUp()\n",
    "    \n",
    "    def __percolatedown(self):\n",
    "        PI=0\n",
    "        l=2*PI+1\n",
    "        r=2*PI+2\n",
    "        while l<self.getSize():\n",
    "            m=PI \n",
    "            if self.pq[m].priority>self.pq[l].priority :\n",
    "                m=l\n",
    "            if r<self.getSize() and self.pq[m].priority>self.pq[r].priority :\n",
    "                m=r\n",
    "            if m==PI:\n",
    "                break\n",
    "            self.pq[PI],self.pq[m] = self.pq[m],self.pq[PI]\n",
    "            PI=m\n",
    "            l=2*PI+1\n",
    "            r=2*PI+2\n",
    "            \n",
    "        \n",
    "    def removeMin(self):\n",
    "        if self.isEmpty():\n",
    "            return None\n",
    "        r=self.pq[0].ele\n",
    "        self.pq[0]=self.pq[self.getSize()-1]\n",
    "        self.pq.pop()\n",
    "        self.__percolatedown()\n",
    "        return r\n",
    "        \n",
    "myPq = PriorityQueue()\n",
    "curr_input = [int(ele) for ele in input().split()]\n",
    "choice = curr_input[0]\n",
    "i=1\n",
    "while choice != -1:\n",
    "    if choice == 1:\n",
    "        element = curr_input[i]\n",
    "        i+=1\n",
    "        myPq.insert(element,element)\n",
    "    elif choice == 2:\n",
    "        print(myPq.getMin())\n",
    "    elif choice == 3:\n",
    "        print(myPq.removeMin())\n",
    "    elif choice == 4:\n",
    "        print(myPq.getSize())\n",
    "    elif choice == 5:\n",
    "        if myPq.isEmpty():\n",
    "            print('true')\n",
    "        else:\n",
    "            print('false')\n",
    "        break\n",
    "    else:\n",
    "        pass\n",
    "    choice = curr_input[i]\n",
    "    i+=1\n",
    "        \n",
    "    "
   ]
  },
  {
   "cell_type": "code",
   "execution_count": 5,
   "metadata": {},
   "outputs": [
    {
     "name": "stdout",
     "output_type": "stream",
     "text": [
      "1 3 1 4 1 63 1 21 1 9 2 3 1 7 2 2 2 3 -1\n",
      "63\n",
      "63\n",
      "21\n",
      "21\n",
      "21\n",
      "21\n"
     ]
    }
   ],
   "source": [
    "class Node:\n",
    "    def __init__(self,priority,ele):\n",
    "        self.priority=priority\n",
    "        self.ele=ele\n",
    "class PriorityQueue:\n",
    "    def __init__(self):\n",
    "        self.pq=[]\n",
    "    \n",
    "    def isEmpty(self):\n",
    "        return len(self.pq)==0\n",
    "    \n",
    "    def getSize(self):\n",
    "        return len(self.pq)\n",
    "\n",
    "    def getMax(self):\n",
    "        if self.isEmpty():\n",
    "            return None\n",
    "        return self.pq[0].ele\n",
    "      \n",
    "    def insert(self,ele,priority):\n",
    "        new=Node(priority,ele)\n",
    "        self.pq.append(new)\n",
    "        self.__perlocateUp()\n",
    "    def __perlocateUp(self):\n",
    "        c=len(self.pq)-1\n",
    "        while c>0:\n",
    "            p=(c-1)//2\n",
    "            if self.pq[p].priority<self.pq[c].priority:\n",
    "                self.pq[p],self.pq[c] = self.pq[c],self.pq[p]\n",
    "                c=p\n",
    "            else:\n",
    "                break\n",
    "        \n",
    "    def removeMax(self):\n",
    "        if self.isEmpty():\n",
    "            return None\n",
    "        r=self.pq[0].ele\n",
    "        self.pq[0]=self.pq[self.getSize()-1]\n",
    "        self.pq.pop()\n",
    "        self.__percolatedown()\n",
    "        return r\n",
    "    def __percolatedown(self):\n",
    "        p=0\n",
    "        l=(2*p)+1\n",
    "        r=(2*p)+2\n",
    "        while l<self.getSize():\n",
    "            m=p\n",
    "            if self.pq[m].priority<self.pq[l].priority:\n",
    "                m=l\n",
    "            if r<self.getSize() and self.pq[m].priority<self.pq[r].priority:\n",
    "                m=r\n",
    "            if p==m:\n",
    "                break\n",
    "            self.pq[p],self.pq[m] = self.pq[m],self.pq[p]\n",
    "            p=m\n",
    "            l=2*p+1\n",
    "            r=2*p+2\n",
    "        \n",
    "        \n",
    "myPq = PriorityQueue()\n",
    "curr_input = [int(ele) for ele in input().split()]\n",
    "choice = curr_input[0]\n",
    "i=1\n",
    "while choice != -1:\n",
    "    if choice == 1:\n",
    "        element = curr_input[i]\n",
    "        i+=1\n",
    "        myPq.insert(element,element)\n",
    "    elif choice == 2:\n",
    "        print(myPq.getMax())\n",
    "    elif choice == 3:\n",
    "        print(myPq.removeMax())\n",
    "    elif choice == 4:\n",
    "        print(myPq.getSize())\n",
    "    elif choice == 5:\n",
    "        if myPq.isEmpty():\n",
    "            print('true')\n",
    "        else:\n",
    "            print('false')\n",
    "        break\n",
    "    else:\n",
    "        pass\n",
    "    choice = curr_input[i]\n",
    "    i+=1\n",
    "        \n",
    "    "
   ]
  },
  {
   "cell_type": "code",
   "execution_count": 4,
   "metadata": {},
   "outputs": [
    {
     "name": "stdout",
     "output_type": "stream",
     "text": [
      "6\n",
      "3 2 1 4 5 2 3 2 \n",
      "5 4 3 2 2 1 3 2 "
     ]
    }
   ],
   "source": [
    "def percolatedown(li,i,n):\n",
    "    p=i\n",
    "    l=2*p+1\n",
    "    r=2*p+2\n",
    "    while l<n:\n",
    "        m=p\n",
    "        if li[l]<li[m]:\n",
    "            m=l\n",
    "        if r<n and li[r]<li[m]:\n",
    "            m=r\n",
    "        if p==m:\n",
    "            break\n",
    "        li[p],li[m]=li[m],li[p]\n",
    "        p=m\n",
    "        l=2*p+1\n",
    "        r=2*p+2\n",
    "    return\n",
    "\n",
    "def heapsort(li):\n",
    "    l=len(li)\n",
    "    for i in range((n//2)-1,-1,-1):\n",
    "        percolatedown(li,i,n)\n",
    "    for i in range(n-1,0,-1):\n",
    "        li[0],li[i]=li[i],li[0]\n",
    "        percolatedown(li,0,i)\n",
    "    return\n",
    "\n",
    "\n",
    "n=int(input())\n",
    "li=[int(i) for i in input().split()]\n",
    "heapsort(li)\n",
    "for i in li:\n",
    "    print(i,end=' ')"
   ]
  },
  {
   "cell_type": "code",
   "execution_count": 2,
   "metadata": {},
   "outputs": [
    {
     "name": "stdout",
     "output_type": "stream",
     "text": [
      "[123, 43, 6, 2, 3, 5, 5, 2, 1]\n"
     ]
    }
   ],
   "source": [
    "import heapq\n",
    "li=[1,43,5,2,3,5,6,2,123]\n",
    "heapq._heapify_max(li)\n",
    "print(li)"
   ]
  },
  {
   "cell_type": "code",
   "execution_count": 3,
   "metadata": {},
   "outputs": [
    {
     "name": "stdout",
     "output_type": "stream",
     "text": [
      "13\n",
      "2 12 9 16 10 5 3 20 25 11 1 8 6 \n",
      "4\n",
      "5 2 3 1\n"
     ]
    }
   ],
   "source": [
    "import heapq\n",
    "def kSmallest(lst, k):\n",
    "    p=[]\n",
    "    p=lst[:k]\n",
    "    heapq._heapify_max(p)\n",
    "    for i in range(k,len(lst)-1):\n",
    "        if p[0]>lst[i]:\n",
    "            heapq._heapreplace_max(p,lst[i])\n",
    "    return p\n",
    "\n",
    "# Main\n",
    "n=int(input())\n",
    "lst=list(int(i) for i in input().strip().split(' '))\n",
    "k=int(input())\n",
    "ans=kSmallest(lst, k)\n",
    "print(*ans)\n"
   ]
  },
  {
   "cell_type": "code",
   "execution_count": 13,
   "metadata": {},
   "outputs": [
    {
     "name": "stdout",
     "output_type": "stream",
     "text": [
      "20\n",
      "98404 77913 46653 55811 70118 44019 9465 18138 11969 90209 \n",
      "false\n"
     ]
    }
   ],
   "source": [
    "import heapq\n",
    "def checkMaxHeap(lst):\n",
    "    if len(lst)==0:\n",
    "        return False\n",
    "    if len(lst)==1:\n",
    "        return True\n",
    "    for i in range(len(lst)):\n",
    "        p=i\n",
    "        l=2*i+1\n",
    "        r=2*i+2\n",
    "        if l>=len(lst):\n",
    "            if r<len(lst) and lst[r]>lst[p]:\n",
    "                return False\n",
    "            break\n",
    "        if r>=len(lst):\n",
    "            if l<len(lst) and lst[l]>lst[p]:\n",
    "                return False\n",
    "            break\n",
    "        if lst[p]<lst[l] or lst[p]<lst[r]:\n",
    "            return False\n",
    "    return True\n",
    "        \n",
    "\n",
    "# Main Code\n",
    "n=int(input())\n",
    "lst=list(int(i) for i in input().strip().split(' '))\n",
    "print('true') if checkMaxHeap(lst) else print('false')\n"
   ]
  },
  {
   "cell_type": "code",
   "execution_count": 21,
   "metadata": {},
   "outputs": [
    {
     "name": "stdout",
     "output_type": "stream",
     "text": [
      "6\n",
      "9 4 8 7 11 3\n",
      "2\n",
      "9\n"
     ]
    }
   ],
   "source": [
    "import heapq\n",
    "def kLargest(lst, k):\n",
    "    p=[]\n",
    "    p=lst[:k]\n",
    "    heapq.heapify(p)\n",
    "    for i in range(k,len(lst)):\n",
    "        if p[0]<=lst[i]:\n",
    "            heapq.heapreplace(p,lst[i])\n",
    "    return p\n",
    "\n",
    "# Main Code\n",
    "n=int(input())\n",
    "lst=list(int(i) for i in input().strip().split(' '))\n",
    "k=int(input())\n",
    "l=k+1\n",
    "ans=kLargest(lst,l)\n",
    "ans.sort()\n",
    "ans.reverse()\n",
    "print(ans[k-1])\n"
   ]
  },
  {
   "cell_type": "code",
   "execution_count": 51,
   "metadata": {},
   "outputs": [
    {
     "name": "stdout",
     "output_type": "stream",
     "text": [
      "87240 79662 67310 15939 68624 68934 58457 85196 85264 30838\n",
      "5\n",
      "5\n"
     ]
    }
   ],
   "source": [
    "def buyTicket(arr, n, k,count=0) :\n",
    "    m=arr[k]\n",
    "    while len(arr)>0:\n",
    "        p=arr.pop(0)\n",
    "        if p==m and p>max(arr):\n",
    "            break\n",
    "        elif p>=max(arr):\n",
    "            count=count+1\n",
    "        else:\n",
    "            arr.append(p)\n",
    "    return count+1\n",
    "arr=list(int(i) for i in input().strip().split(' '))\n",
    "k=int(input())\n",
    "print(buyTicket(arr,len(arr),k))"
   ]
  }
 ],
 "metadata": {
  "kernelspec": {
   "display_name": "Python 3",
   "language": "python",
   "name": "python3"
  },
  "language_info": {
   "codemirror_mode": {
    "name": "ipython",
    "version": 3
   },
   "file_extension": ".py",
   "mimetype": "text/x-python",
   "name": "python",
   "nbconvert_exporter": "python",
   "pygments_lexer": "ipython3",
   "version": "3.8.3"
  }
 },
 "nbformat": 4,
 "nbformat_minor": 4
}
