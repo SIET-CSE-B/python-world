{
 "cells": [
  {
   "cell_type": "code",
   "execution_count": 18,
   "metadata": {},
   "outputs": [
    {
     "name": "stdout",
     "output_type": "stream",
     "text": [
      "((())))\n",
      "3   2\n"
     ]
    }
   ],
   "source": [
    "s=input()\n",
    "l=len(s)\n",
    "li=[]\n",
    "m=[]\n",
    "k=0\n",
    "sum=0\n",
    "for i in range(l):\n",
    "    if s[i]=='(':\n",
    "        sum=sum+1\n",
    "        \n",
    "        li.append(i)\n",
    "    elif sum>0 and s[i]==\")\":\n",
    "                    \n",
    "                    \n",
    "        \n",
    "                    \n",
    "                    sum=sum-1\n",
    "                    k=k+1\n",
    "    if sum==0:\n",
    "        m.append(i)\n",
    "\n",
    "max=m[0]\n",
    "kl=0\n",
    "for i in range(len(m)):\n",
    "    if m[i]>max:\n",
    "        max=m[i]\n",
    "        kl=kl+1\n",
    "i=li[kl]\n",
    "if s[0]==\")\":\n",
    "    print(k,\" \",i-1)\n",
    "else:\n",
    "    print(k,\" \",i+1)\n",
    "if k==0:\n",
    "    print(\"0\",end=\" \")\n",
    "    print(\"1\")"
   ]
  },
  {
   "cell_type": "code",
   "execution_count": 2,
   "metadata": {},
   "outputs": [],
   "source": []
  }
 ],
 "metadata": {
  "kernelspec": {
   "display_name": "Python 3",
   "language": "python",
   "name": "python3"
  },
  "language_info": {
   "codemirror_mode": {
    "name": "ipython",
    "version": 3
   },
   "file_extension": ".py",
   "mimetype": "text/x-python",
   "name": "python",
   "nbconvert_exporter": "python",
   "pygments_lexer": "ipython3",
   "version": "3.7.3"
  }
 },
 "nbformat": 4,
 "nbformat_minor": 2
}
