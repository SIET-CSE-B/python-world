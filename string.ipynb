{
 "cells": [
  {
   "cell_type": "code",
   "execution_count": 2,
   "metadata": {},
   "outputs": [
    {
     "name": "stdout",
     "output_type": "stream",
     "text": [
      "My\n",
      "Name is\n",
      "Abhinav\n"
     ]
    }
   ],
   "source": [
    "s='''My\n",
    "Name is\n",
    "Abhinav'''\n",
    "print(s)"
   ]
  },
  {
   "cell_type": "code",
   "execution_count": 4,
   "metadata": {},
   "outputs": [
    {
     "data": {
      "text/plain": [
       "'redblue'"
      ]
     },
     "execution_count": 4,
     "metadata": {},
     "output_type": "execute_result"
    }
   ],
   "source": [
    "a=\"red\"+\"blue\"\n",
    "a"
   ]
  },
  {
   "cell_type": "code",
   "execution_count": 9,
   "metadata": {},
   "outputs": [
    {
     "data": {
      "text/plain": [
       "'abhin'"
      ]
     },
     "execution_count": 9,
     "metadata": {},
     "output_type": "execute_result"
    }
   ],
   "source": [
    "a=\"abhinav\"\n",
    "a[:5]"
   ]
  },
  {
   "cell_type": "code",
   "execution_count": 2,
   "metadata": {},
   "outputs": [
    {
     "data": {
      "text/plain": [
       "True"
      ]
     },
     "execution_count": 2,
     "metadata": {},
     "output_type": "execute_result"
    }
   ],
   "source": [
    "a=\"RA\">\"QC\"\n",
    "a"
   ]
  },
  {
   "cell_type": "code",
   "execution_count": 32,
   "metadata": {},
   "outputs": [
    {
     "name": "stdout",
     "output_type": "stream",
     "text": [
      "y M \n",
      "e m a n \n",
      "s i \n"
     ]
    }
   ],
   "source": [
    "s=\"My name is\"\n",
    "l=[]\n",
    "l=s.split()\n",
    "for i in range(len(l)):\n",
    "    s=l[i]\n",
    "    j=-1\n",
    "    \n",
    "    while j>=-(len(s)):\n",
    "        print(s[j],end=' ')\n",
    "        j=j-1\n",
    "    print()\n",
    "    "
   ]
  },
  {
   "cell_type": "code",
   "execution_count": 40,
   "metadata": {},
   "outputs": [
    {
     "name": "stdout",
     "output_type": "stream",
     "text": [
      "ebcde\n"
     ]
    }
   ],
   "source": [
    "s=\"abcda\"\n",
    "s=s.replace(\"a\",\"e\")\n",
    "print(s)"
   ]
  },
  {
   "cell_type": "markdown",
   "metadata": {},
   "source": [
    "## Count Vowels Consonants &Special Characters"
   ]
  },
  {
   "cell_type": "code",
   "execution_count": 44,
   "metadata": {},
   "outputs": [
    {
     "name": "stdout",
     "output_type": "stream",
     "text": [
      "abcde\n",
      "2 3\n"
     ]
    }
   ],
   "source": [
    "def count(s):\n",
    "    t=0\n",
    "    t1=0\n",
    "    t2=0\n",
    "    for e in s:\n",
    "        if (e=='a' or e=='e' or e=='i' or e=='o' or e=='u'):\n",
    "            t=t+1\n",
    "        else:\n",
    "            t1=t1+1\n",
    "    print(t,t1)\n",
    "s=input()\n",
    "count(s)"
   ]
  },
  {
   "cell_type": "code",
   "execution_count": 11,
   "metadata": {},
   "outputs": [
    {
     "name": "stdout",
     "output_type": "stream",
     "text": [
      "hcrhjhfjsjirlmwlkytm\n",
      "hcrtmjsjirlhjhfmwlky\n",
      "['h', 'c', 'r', 'h', 'j', 'h', 'f', 'j', 's', 'j', 'i', 'r', 'l', 'm', 'w', 'l', 'k', 'y', 't', 'm']\n",
      "['1', 'c', 'r', 't', 'm', 'j', 's', 'j', 'i', 'r', 'l', 'h', 'j', 'h', 'f', 'm', 'w', 'l', 'k', 'y']\n",
      "['h', 'c', 'r', 'h', 'j', 'h', 'f', 'j', 's', 'j', 'i', 'r', 'l', 'm', 'w', 'l', 'k', 'y', 't', 'm']\n",
      "['1', 'c', 'r', 't', 'm', 'j', 's', 'j', 'i', 'r', 'l', '1', 'j', 'h', 'f', 'm', 'w', 'l', 'k', 'y']\n",
      "['h', 'c', 'r', 'h', 'j', 'h', 'f', 'j', 's', 'j', 'i', 'r', 'l', 'm', 'w', 'l', 'k', 'y', 't', 'm']\n",
      "['1', 'c', 'r', 't', 'm', 'j', 's', 'j', 'i', 'r', 'l', '1', 'j', '1', 'f', 'm', 'w', 'l', 'k', 'y']\n",
      "['h', 'c', 'r', 'h', 'j', 'h', 'f', 'j', 's', 'j', 'i', 'r', 'l', 'm', 'w', 'l', 'k', 'y', 't', 'm']\n",
      "['1', '1', 'r', 't', 'm', 'j', 's', 'j', 'i', 'r', 'l', '1', 'j', '1', 'f', 'm', 'w', 'l', 'k', 'y']\n",
      "['h', 'c', 'r', 'h', 'j', 'h', 'f', 'j', 's', 'j', 'i', 'r', 'l', 'm', 'w', 'l', 'k', 'y', 't', 'm']\n",
      "['1', '1', '1', 't', 'm', 'j', 's', 'j', 'i', 'r', 'l', '1', 'j', '1', 'f', 'm', 'w', 'l', 'k', 'y']\n",
      "['h', 'c', 'r', 'h', 'j', 'h', 'f', 'j', 's', 'j', 'i', 'r', 'l', 'm', 'w', 'l', 'k', 'y', 't', 'm']\n",
      "['1', '1', '1', 't', 'm', 'j', 's', 'j', 'i', '1', 'l', '1', 'j', '1', 'f', 'm', 'w', 'l', 'k', 'y']\n",
      "['h', 'c', 'r', 'h', 'j', 'h', 'f', 'j', 's', 'j', 'i', 'r', 'l', 'm', 'w', 'l', 'k', 'y', 't', 'm']\n",
      "['1', '1', '1', 't', 'm', '1', 's', 'j', 'i', '1', 'l', '1', 'j', '1', 'f', 'm', 'w', 'l', 'k', 'y']\n",
      "['h', 'c', 'r', 'h', 'j', 'h', 'f', 'j', 's', 'j', 'i', 'r', 'l', 'm', 'w', 'l', 'k', 'y', 't', 'm']\n",
      "['1', '1', '1', 't', 'm', '1', 's', '1', 'i', '1', 'l', '1', 'j', '1', 'f', 'm', 'w', 'l', 'k', 'y']\n",
      "['h', 'c', 'r', 'h', 'j', 'h', 'f', 'j', 's', 'j', 'i', 'r', 'l', 'm', 'w', 'l', 'k', 'y', 't', 'm']\n",
      "['1', '1', '1', 't', 'm', '1', 's', '1', 'i', '1', 'l', '1', '1', '1', 'f', 'm', 'w', 'l', 'k', 'y']\n",
      "['h', 'c', 'r', 'h', 'j', 'h', 'f', 'j', 's', 'j', 'i', 'r', 'l', 'm', 'w', 'l', 'k', 'y', 't', 'm']\n",
      "['1', '1', '1', 't', 'm', '1', 's', '1', 'i', '1', 'l', '1', '1', '1', '1', 'm', 'w', 'l', 'k', 'y']\n",
      "['h', 'c', 'r', 'h', 'j', 'h', 'f', 'j', 's', 'j', 'i', 'r', 'l', 'm', 'w', 'l', 'k', 'y', 't', 'm']\n",
      "['1', '1', '1', 't', 'm', '1', '1', '1', 'i', '1', 'l', '1', '1', '1', '1', 'm', 'w', 'l', 'k', 'y']\n",
      "['h', 'c', 'r', 'h', 'j', 'h', 'f', 'j', 's', 'j', 'i', 'r', 'l', 'm', 'w', 'l', 'k', 'y', 't', 'm']\n",
      "['1', '1', '1', 't', 'm', '1', '1', '1', '1', '1', 'l', '1', '1', '1', '1', 'm', 'w', 'l', 'k', 'y']\n",
      "['h', 'c', 'r', 'h', 'j', 'h', 'f', 'j', 's', 'j', 'i', 'r', 'l', 'm', 'w', 'l', 'k', 'y', 't', 'm']\n",
      "['1', '1', '1', 't', 'm', '1', '1', '1', '1', '1', '1', '1', '1', '1', '1', 'm', 'w', 'l', 'k', 'y']\n",
      "['h', 'c', 'r', 'h', 'j', 'h', 'f', 'j', 's', 'j', 'i', 'r', 'l', 'm', 'w', 'l', 'k', 'y', 't', 'm']\n",
      "['1', '1', '1', 't', 'm', '1', '1', '1', '1', '1', '1', '1', '1', '1', '1', 'm', 'w', '1', 'k', 'y']\n",
      "['h', 'c', 'r', 'h', 'j', 'h', 'f', 'j', 's', 'j', 'i', 'r', 'l', 'm', 'w', 'l', 'k', 'y', 't', 'm']\n",
      "['1', '1', '1', 't', '1', '1', '1', '1', '1', '1', '1', '1', '1', '1', '1', 'm', 'w', '1', 'k', 'y']\n",
      "['h', 'c', 'r', 'h', 'j', 'h', 'f', 'j', 's', 'j', 'i', 'r', 'l', 'm', 'w', 'l', 'k', 'y', 't', 'm']\n",
      "['1', '1', '1', 't', '1', '1', '1', '1', '1', '1', '1', '1', '1', '1', '1', '1', 'w', '1', 'k', 'y']\n",
      "['h', 'c', 'r', 'h', 'j', 'h', 'f', 'j', 's', 'j', 'i', 'r', 'l', 'm', 'w', 'l', 'k', 'y', 't', 'm']\n",
      "['1', '1', '1', 't', '1', '1', '1', '1', '1', '1', '1', '1', '1', '1', '1', '1', '1', '1', 'k', 'y']\n",
      "['h', 'c', 'r', 'h', 'j', 'h', 'f', 'j', 's', 'j', 'i', 'r', 'l', 'm', 'w', 'l', 'k', 'y', 't', 'm']\n",
      "['1', '1', '1', 't', '1', '1', '1', '1', '1', '1', '1', '1', '1', '1', '1', '1', '1', '1', '1', 'y']\n",
      "['h', 'c', 'r', 'h', 'j', 'h', 'f', 'j', 's', 'j', 'i', 'r', 'l', 'm', 'w', 'l', 'k', 'y', 't', 'm']\n",
      "['1', '1', '1', 't', '1', '1', '1', '1', '1', '1', '1', '1', '1', '1', '1', '1', '1', '1', '1', '1']\n",
      "['h', 'c', 'r', 'h', 'j', 'h', 'f', 'j', 's', 'j', 'i', 'r', 'l', 'm', 'w', 'l', 'k', 'y', 't', 'm']\n",
      "['1', '1', '1', '1', '1', '1', '1', '1', '1', '1', '1', '1', '1', '1', '1', '1', '1', '1', '1', '1']\n",
      "true\n"
     ]
    }
   ],
   "source": [
    "## Read input as specified in the question.\n",
    "## Print output as specified in the question.\n",
    "s=input()\n",
    "s1=input()\n",
    "l1=len(s)\n",
    "l2=len(s1)\n",
    "t=0\n",
    "k=0\n",
    "li1=[]\n",
    "li2=[]\n",
    "while k<l1:\n",
    "    li1.append(s[k])\n",
    "    \n",
    "    k=k+1\n",
    "c=0\n",
    "while c<l2:\n",
    "    li2.append(s1[c])\n",
    "    c=c+1\n",
    "if l1==l2:\n",
    "    i=0\n",
    "    t=0\n",
    "    while i<l1:\n",
    "        j=0\n",
    "        while j<l2:\n",
    "            \n",
    "            if li1[i]==li2[j]:\n",
    "                t=t+1\n",
    "                li2[j]=\"1\"\n",
    "                \n",
    "                \n",
    "            else:\n",
    "                pass\n",
    "                \n",
    "            j=j+1\n",
    "        \n",
    "        \n",
    "        i=i+1\n",
    "p=l1\n",
    "\n",
    "if t!=0 and t==p:\n",
    "    print(\"true\")\n",
    "else:\n",
    "    print(\"false\")"
   ]
  },
  {
   "cell_type": "markdown",
   "metadata": {},
   "source": [
    "## Remove consecutice duplicate"
   ]
  },
  {
   "cell_type": "code",
   "execution_count": 2,
   "metadata": {},
   "outputs": [
    {
     "name": "stdout",
     "output_type": "stream",
     "text": [
      "aadd\n",
      "['a']\n",
      "['a']\n",
      "a"
     ]
    }
   ],
   "source": [
    "s=input()\n",
    "l1=len(s)\n",
    "k=0\n",
    "li1=[]\n",
    "li2=[]\n",
    "c=0\n",
    "while k<l1:\n",
    "    li1.append(s[k])\n",
    "    \n",
    "    k=k+1\n",
    "i=0\n",
    "while i<l1-1:\n",
    "    l=i\n",
    "    c=0\n",
    "    if li1[i]==li1[i+1]:\n",
    "        while (li1[l]==li1[i] and l<l1-1):\n",
    "            if (li1[l+1]!=li1[i] or l+1==l1-2) :\n",
    "                li2.append(li1[i])\n",
    "            c=c+1\n",
    "            l=l+1\n",
    "    elif i==l1-2:\n",
    "        if li1[i]!=li1[i+1]:\n",
    "            li2.append(li1[i])\n",
    "            li2.append(li1[i+1])\n",
    "    else:\n",
    "        if li1[i]==1:\n",
    "            pass\n",
    "        else:\n",
    "            li2.append(li1[i])\n",
    "    print(li2)\n",
    "    i=i+c\n",
    "j=0\n",
    "while j<len(li2):\n",
    "    print(li2[j],end='')\n",
    "    j=j+1\n",
    "    \n",
    "    "
   ]
  },
  {
   "cell_type": "markdown",
   "metadata": {},
   "source": [
    "## Remove character from string"
   ]
  },
  {
   "cell_type": "code",
   "execution_count": 20,
   "metadata": {},
   "outputs": [
    {
     "name": "stdout",
     "output_type": "stream",
     "text": [
      "aabaaa\n",
      "b\n",
      "aaaaa"
     ]
    }
   ],
   "source": [
    "s=input()\n",
    "d=input()\n",
    "k=0\n",
    "li1=[]\n",
    "li2=[]\n",
    "while k<len(s):\n",
    "    li1.append(s[k])\n",
    "    \n",
    "    k=k+1\n",
    "i=0\n",
    "while i<len(li1):\n",
    "    if li1[i]==d:\n",
    "        pass\n",
    "    else:\n",
    "        li2.append(li1[i])\n",
    "    i=i+1\n",
    "\n",
    "j=0\n",
    "while j<len(li2):\n",
    "    print(li2[j],end='')\n",
    "    j=j+1\n"
   ]
  },
  {
   "cell_type": "markdown",
   "metadata": {},
   "source": [
    "## Highest occuring character"
   ]
  },
  {
   "cell_type": "code",
   "execution_count": 28,
   "metadata": {},
   "outputs": [
    {
     "name": "stdout",
     "output_type": "stream",
     "text": [
      "aaabb\n",
      "[3, 3, 3, 2, 2]\n"
     ]
    }
   ],
   "source": [
    "s=input()\n",
    "k=0\n",
    "li1=[]\n",
    "li2=[]\n",
    "while k<len(s):\n",
    "    li1.append(s[k])\n",
    "    \n",
    "    k=k+1\n",
    "l1=len(li1)\n",
    "i=0\n",
    "c=0\n",
    "while i<l1:\n",
    "    j=0\n",
    "    c=0\n",
    "    while j<l1:\n",
    "        if li1[i]==li1[j]:\n",
    "            c=c+1\n",
    "        j=j+1\n",
    "    li2.append(c)\n",
    "    \n",
    "    i=i+1\n",
    "print(li2)"
   ]
  },
  {
   "cell_type": "markdown",
   "metadata": {},
   "source": [
    "## Compress string\n",
    "aaabb\n",
    "a3b2"
   ]
  },
  {
   "cell_type": "code",
   "execution_count": 11,
   "metadata": {},
   "outputs": [
    {
     "name": "stdout",
     "output_type": "stream",
     "text": [
      "aaabcda\n",
      "a4b1c1d1"
     ]
    }
   ],
   "source": [
    "s=input()\n",
    "l1=len(s)\n",
    "k=0\n",
    "li1=[]\n",
    "li2=[]\n",
    "c=0\n",
    "while k<l1:\n",
    "    li1.append(s[k])\n",
    "    \n",
    "    k=k+1\n",
    "i=0\n",
    "while i<l1:\n",
    "    j=0\n",
    "    c=0\n",
    "    if li1[i]!=1:\n",
    "        j=0\n",
    "        o=li1[i]\n",
    "        while j<l1:\n",
    "            if o==li1[j]:\n",
    "                c=c+1\n",
    "                li1[j]=1\n",
    "            j=j+1\n",
    "        \n",
    "        \n",
    "        print(o,end='')\n",
    "        print(c,end='')\n",
    "    i=i+1\n",
    "            \n",
    "\n",
    "    \n",
    "    "
   ]
  },
  {
   "cell_type": "code",
   "execution_count": 16,
   "metadata": {},
   "outputs": [
    {
     "data": {
      "text/plain": [
       "[]"
      ]
     },
     "execution_count": 16,
     "metadata": {},
     "output_type": "execute_result"
    }
   ],
   "source": [
    "li=[1,2,3]\n",
    "li.clear()\n",
    "li"
   ]
  },
  {
   "cell_type": "code",
   "execution_count": 30,
   "metadata": {},
   "outputs": [
    {
     "name": "stdout",
     "output_type": "stream",
     "text": [
      "afffser\n",
      "af3ser"
     ]
    }
   ],
   "source": [
    "s=input()\n",
    "li=[]\n",
    "li3=''\n",
    "k=0\n",
    "for i in range(len(s)):\n",
    "    li.append(s[i])\n",
    "li2=[]\n",
    "for i in range(len(li)-1):\n",
    "    if li3==s[i]:\n",
    "        continue\n",
    "    if li[i]==li[i+1]:\n",
    "            c=s[i]\n",
    "            for j in range(i,len(li)):\n",
    "                if c==s[j]:\n",
    "                    li2.append(s[j])\n",
    "                else:\n",
    "                    break\n",
    "            for j in range(len(li2)):\n",
    "                k=k+1\n",
    "            print(s[i],end='')\n",
    "            print(k,end='')\n",
    "    else:\n",
    "        print(s[i],end='')\n",
    "    li3=s[i]\n",
    "    k=0\n",
    "    li2.clear()\n",
    "\n",
    "se=len(s)\n",
    "se=se-1\n",
    "if s[se]!=li[se-1]:\n",
    "    print(s[se],end='')"
   ]
  }
 ],
 "metadata": {
  "kernelspec": {
   "display_name": "Python 3",
   "language": "python",
   "name": "python3"
  },
  "language_info": {
   "codemirror_mode": {
    "name": "ipython",
    "version": 3
   },
   "file_extension": ".py",
   "mimetype": "text/x-python",
   "name": "python",
   "nbconvert_exporter": "python",
   "pygments_lexer": "ipython3",
   "version": "3.7.3"
  }
 },
 "nbformat": 4,
 "nbformat_minor": 2
}
