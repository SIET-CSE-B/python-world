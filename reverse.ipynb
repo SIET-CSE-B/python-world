{
 "cells": [
  {
   "cell_type": "code",
   "execution_count": 14,
   "metadata": {},
   "outputs": [
    {
     "name": "stdout",
     "output_type": "stream",
     "text": [
      "6\n",
      "1 2 3 4 5 6 \n",
      "[1, 2, 3, 4, 5, 6]\n",
      "[2, 1, 4, 3, 6, 5]\n"
     ]
    }
   ],
   "source": [
    "def reverse(li1):\n",
    "    l=len(li)\n",
    "    for i in range(0,l,2):\n",
    "        li[i],li[i+1]=li[i+1],li[i]\n",
    "x=int(input())\n",
    "li=[int(x) for x in input().split()]\n",
    "print(li)\n",
    "reverse(li)\n",
    "print(li)"
   ]
  },
  {
   "cell_type": "code",
   "execution_count": 7,
   "metadata": {},
   "outputs": [
    {
     "name": "stdout",
     "output_type": "stream",
     "text": [
      "4\n",
      "4 0 5 0\n",
      "4500"
     ]
    }
   ],
   "source": [
    "##send zeroes to the end\n",
    "def zero(li):\n",
    "    e=len(li)\n",
    "    li1=[]\n",
    "    li3=[]\n",
    "    i=0\n",
    "    while i<e:\n",
    "        \n",
    "        \n",
    "        if li[i]==0:\n",
    "            li1.append(0)\n",
    "        else:\n",
    "            li3.append(li[i])\n",
    "        \n",
    "        i=i+1           \n",
    "    for e in li3:\n",
    "        print(e,end=' ')\n",
    "    for k in li1:\n",
    "        print(k,end=' ')\n",
    "    \n",
    "    \n",
    "x=int(input())\n",
    "li=[int(x)for x in input().split()]\n",
    "zero(li)"
   ]
  },
  {
   "cell_type": "code",
   "execution_count": 13,
   "metadata": {},
   "outputs": [
    {
     "name": "stdout",
     "output_type": "stream",
     "text": [
      "194\n",
      "167 354 92 221 16 448 120 53 339 350 62 189 496 117 257 495 378 488 257 53 232 230 1 270 247 212 258 113 303 490 254 228 453 484 120 498 60 332 450 34 112 438 376 56 492 418 120 228 462 218 9 119 321 34 409 206 47 363 474 155 361 77 435 447 409 211 53 441 278 409 82 445 243 430 371 17 44 494 387 405 115 403 110 297 467 370 341 409 449 322 1 369 342 104 21 365 116 463 362 90 351 46 125 203 97 254 54 260 11 267 84 368 311 362 320 247 49 254 57 325 300 150 166 73 244 499 238 392 134 483 499 103 383 300 45 347 488 488 397 91 99 166 357 380 470 497 15 466 3 381 110 98 435 26 241 376 126 392 194 385 95 269 336 113 326 308 191 90 416 201 444 194 438 427 146 88 365 41 455 465 57 333 180 436 244 405 346 256 489 231 367 429 421 137 \n",
      "235\n"
     ]
    },
    {
     "ename": "UnboundLocalError",
     "evalue": "local variable 'k' referenced before assignment",
     "output_type": "error",
     "traceback": [
      "\u001b[1;31m---------------------------------------------------------------------------\u001b[0m",
      "\u001b[1;31mUnboundLocalError\u001b[0m                         Traceback (most recent call last)",
      "\u001b[1;32m<ipython-input-13-13d7b32a93b3>\u001b[0m in \u001b[0;36m<module>\u001b[1;34m\u001b[0m\n\u001b[0;32m     33\u001b[0m \u001b[0mli\u001b[0m\u001b[1;33m=\u001b[0m\u001b[1;33m[\u001b[0m\u001b[0mint\u001b[0m\u001b[1;33m(\u001b[0m\u001b[0mx\u001b[0m\u001b[1;33m)\u001b[0m\u001b[1;32mfor\u001b[0m \u001b[0mx\u001b[0m \u001b[1;32min\u001b[0m \u001b[0minput\u001b[0m\u001b[1;33m(\u001b[0m\u001b[1;33m)\u001b[0m\u001b[1;33m.\u001b[0m\u001b[0msplit\u001b[0m\u001b[1;33m(\u001b[0m\u001b[1;33m)\u001b[0m\u001b[1;33m]\u001b[0m\u001b[1;33m\u001b[0m\u001b[1;33m\u001b[0m\u001b[0m\n\u001b[0;32m     34\u001b[0m \u001b[0md\u001b[0m\u001b[1;33m=\u001b[0m\u001b[0mint\u001b[0m\u001b[1;33m(\u001b[0m\u001b[0minput\u001b[0m\u001b[1;33m(\u001b[0m\u001b[1;33m)\u001b[0m\u001b[1;33m)\u001b[0m\u001b[1;33m\u001b[0m\u001b[1;33m\u001b[0m\u001b[0m\n\u001b[1;32m---> 35\u001b[1;33m \u001b[0mzero\u001b[0m\u001b[1;33m(\u001b[0m\u001b[0mli\u001b[0m\u001b[1;33m,\u001b[0m\u001b[0md\u001b[0m\u001b[1;33m)\u001b[0m\u001b[1;33m\u001b[0m\u001b[1;33m\u001b[0m\u001b[0m\n\u001b[0m",
      "\u001b[1;32m<ipython-input-13-13d7b32a93b3>\u001b[0m in \u001b[0;36mzero\u001b[1;34m(li, d)\u001b[0m\n\u001b[0;32m     22\u001b[0m         \u001b[0mi\u001b[0m\u001b[1;33m=\u001b[0m\u001b[0mi\u001b[0m\u001b[1;33m+\u001b[0m\u001b[1;36m1\u001b[0m\u001b[1;33m\u001b[0m\u001b[1;33m\u001b[0m\u001b[0m\n\u001b[0;32m     23\u001b[0m     \u001b[0ml\u001b[0m\u001b[1;33m=\u001b[0m\u001b[1;36m0\u001b[0m\u001b[1;33m\u001b[0m\u001b[1;33m\u001b[0m\u001b[0m\n\u001b[1;32m---> 24\u001b[1;33m     \u001b[1;32mwhile\u001b[0m \u001b[0ml\u001b[0m\u001b[1;33m<\u001b[0m\u001b[0mk\u001b[0m\u001b[1;33m:\u001b[0m\u001b[1;33m\u001b[0m\u001b[1;33m\u001b[0m\u001b[0m\n\u001b[0m\u001b[0;32m     25\u001b[0m         \u001b[0mprint\u001b[0m\u001b[1;33m(\u001b[0m\u001b[0mli\u001b[0m\u001b[1;33m[\u001b[0m\u001b[0ml\u001b[0m\u001b[1;33m]\u001b[0m\u001b[1;33m,\u001b[0m\u001b[0mend\u001b[0m\u001b[1;33m=\u001b[0m\u001b[1;34m' '\u001b[0m\u001b[1;33m)\u001b[0m\u001b[1;33m\u001b[0m\u001b[1;33m\u001b[0m\u001b[0m\n\u001b[0;32m     26\u001b[0m         \u001b[0ml\u001b[0m\u001b[1;33m=\u001b[0m\u001b[0ml\u001b[0m\u001b[1;33m+\u001b[0m\u001b[1;36m1\u001b[0m\u001b[1;33m\u001b[0m\u001b[1;33m\u001b[0m\u001b[0m\n",
      "\u001b[1;31mUnboundLocalError\u001b[0m: local variable 'k' referenced before assignment"
     ]
    }
   ],
   "source": [
    "##send zeroes to the end\n",
    "def zero(li,d):\n",
    "    e=len(li)\n",
    "    li1=[]\n",
    "    li3=[]\n",
    "    i=0\n",
    "    a=False\n",
    "    while i<e:\n",
    "        if i==d:\n",
    "            j=i\n",
    "            end=i\n",
    "            k=i\n",
    "            a=True\n",
    "            while j<len(li):\n",
    "                \n",
    "                \n",
    "                print(li[j],end=' ')\n",
    "                j=j+1\n",
    "            if a:\n",
    "                break\n",
    "                \n",
    "        i=i+1\n",
    "    l=0\n",
    "    while l<k:\n",
    "        print(li[l],end=' ')\n",
    "        l=l+1\n",
    "                \n",
    "    \n",
    "                \n",
    "    \n",
    "    \n",
    "x=int(input())\n",
    "li=[int(x)for x in input().split()]\n",
    "d=int(input())\n",
    "zero(li,d)"
   ]
  },
  {
   "cell_type": "code",
   "execution_count": 10,
   "metadata": {},
   "outputs": [
    {
     "name": "stdout",
     "output_type": "stream",
     "text": [
      "139\n",
      "927 175 198 462 46 482 479 65 105 575 984 68 468 896 523 824 86 335 363 21 225 367 637 231 166 879 242 937 992 335 74 661 952 859 267 335 422 152 557 452 111 893 37 861 26 418 325 289 669 38 610 816 78 288 133 536 626 789 408 617 938 172 887 784 893 656 837 42 435 519 903 76 847 622 220 375 211 593 959 563 2 44 853 823 165 433 638 582 567 769 289 805 388 402 630 372 927 546 165 980 246 31 981 952 301 20 166 143 494 52 479 859 92 859 948 321 567 818 637 769 727 817 109 715 453 524 981 222 964 786 540 332 776 912 609 933 980 132 728 \n",
      "175 927 462 198 482 46 65 479 575 105 68 984 896 468 824 523 335 86 21 363 367 225 231 637 879 166 937 242 335 992 661 74 859 952 335 267 152 422 452 557 893 111 861 37 418 26 289 325 38 669 816 610 288 78 536 133 789 626 617 408 172 938 784 887 656 893 42 837 519 435 76 903 622 847 375 220 593 211 563 959 44 2 823 853 433 165 582 638 769 567 805 289 402 388 372 630 546 927 980 165 31 246 952 981 20 301 143 166 52 494 859 479 859 92 321 948 818 567 769 637 817 727 715 109 524 453 222 981 786 964 332 540 912 776 933 609 132 980 728 "
     ]
    }
   ],
   "source": [
    "def swap(li):\n",
    "    t=0\n",
    "    if len(li)%2==0:\n",
    "        l=len(li)\n",
    "    else:\n",
    "        l=len(li)-1\n",
    "    for i in range(0,l,2):\n",
    "        \n",
    "            \n",
    "        \n",
    "        t=li[i+1]\n",
    "        li[i+1]=li[i]\n",
    "        li[i]=t\n",
    "        \n",
    "x=int(input())\n",
    "li=[int(x) for x in input().split()]\n",
    "swap(li)\n",
    "for e in li:\n",
    "    print(e,end=' ')"
   ]
  },
  {
   "cell_type": "markdown",
   "metadata": {},
   "source": [
    "##swap \n"
   ]
  },
  {
   "cell_type": "code",
   "execution_count": 6,
   "metadata": {},
   "outputs": [
    {
     "name": "stdout",
     "output_type": "stream",
     "text": [
      "2\n",
      "1 2 3 4 4 6 3 2 1 \n",
      "6\n"
     ]
    },
    {
     "data": {
      "text/plain": [
       "[1, 2, 3, 4, 4, 6, 3, 2, 1]"
      ]
     },
     "execution_count": 6,
     "metadata": {},
     "output_type": "execute_result"
    }
   ],
   "source": [
    "def unique(li):\n",
    "    t=0\n",
    "    for i in range(0,len(li),1):\n",
    "        j=0\n",
    "        t=0\n",
    "        while j<len(li):\n",
    "            if li[j]==li[i]:\n",
    "                t=t+1\n",
    "            j=j+1\n",
    "        if t==1:\n",
    "            print(li[i])\n",
    "            break\n",
    "        \n",
    "x=int(input())\n",
    "li=[int(x) for x in input().split()]\n",
    "unique(li)\n"
   ]
  },
  {
   "cell_type": "markdown",
   "metadata": {},
   "source": [
    "## Find duplication"
   ]
  },
  {
   "cell_type": "code",
   "execution_count": null,
   "metadata": {},
   "outputs": [],
   "source": [
    "def dup(li):\n",
    "    i=0\n",
    "    while i<len(li):\n",
    "        j=0\n",
    "        t=0\n",
    "        while j<len(li):\n",
    "            if li[i]==li[j]:\n",
    "                print(li[i])\n",
    "            j=j+1\n",
    "        i=i+1\n",
    "            \n",
    "x=int(input())\n",
    "li=[int(x)for x in input().strip().split()]\n",
    "dup(li)"
   ]
  }
 ],
 "metadata": {
  "kernelspec": {
   "display_name": "Python 3",
   "language": "python",
   "name": "python3"
  },
  "language_info": {
   "codemirror_mode": {
    "name": "ipython",
    "version": 3
   },
   "file_extension": ".py",
   "mimetype": "text/x-python",
   "name": "python",
   "nbconvert_exporter": "python",
   "pygments_lexer": "ipython3",
   "version": "3.7.3"
  }
 },
 "nbformat": 4,
 "nbformat_minor": 2
}
