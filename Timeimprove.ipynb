{
 "cells": [
  {
   "cell_type": "code",
   "execution_count": 49,
   "metadata": {},
   "outputs": [],
   "source": [
    "def intersection(arr1, arr2): #we assume arr1 to be the smaller one\n",
    "    for i in range(len(arr2)):\n",
    "        Binary(arr2[i],arr1,0,len(arr1)-1)\n",
    "    "
   ]
  },
  {
   "cell_type": "code",
   "execution_count": 50,
   "metadata": {},
   "outputs": [],
   "source": [
    "def Binary(x,arr2,s,e):\n",
    "    \n",
    "    if s>e:\n",
    "        return \n",
    "    mid=(s+e)//2\n",
    "    if arr2[mid]==x:\n",
    "        print(x)\n",
    "        return\n",
    "    if x>arr2[mid]:\n",
    "        Binary(x,arr2,mid+1,e)\n",
    "    else:\n",
    "        Binary(x,arr2,s,mid-1)\n",
    "        \n",
    "\n",
    "    "
   ]
  },
  {
   "cell_type": "code",
   "execution_count": 51,
   "metadata": {},
   "outputs": [],
   "source": [
    "#merge\n",
    "def merge(arr,s,e):\n",
    "    if len(arr)<2:\n",
    "        return arr\n",
    "    mid=(s+e)//2\n",
    "    a1=arr[0:mid]\n",
    "    a2=arr[mid:]\n",
    "    merge(a1,0,len(a1))\n",
    "    merge(a2,0,len(a2))\n",
    "    Sort(arr,a1,a2)\n",
    "    \n",
    "    \n",
    "def Sort(arr,a1,a2):\n",
    "    i=0\n",
    "    j=0\n",
    "    k=0\n",
    "    while i<len(a1) and j<len(a2):\n",
    "        if a1[i]<a2[j]:\n",
    "            arr[k]=a1[i]\n",
    "            k=k+1\n",
    "            i=i+1\n",
    "        else:\n",
    "            arr[k]=a2[j]\n",
    "            k=k+1\n",
    "            j=j+1\n",
    "    while i<len(a1):\n",
    "        arr[k]=a1[i]\n",
    "        k=k+1\n",
    "        i=i+1\n",
    "    while j<len(a2):\n",
    "        arr[k]=a2[j]\n",
    "        j=j+1\n",
    "        k=k+1\n",
    "    "
   ]
  },
  {
   "cell_type": "code",
   "execution_count": 52,
   "metadata": {},
   "outputs": [
    {
     "name": "stdout",
     "output_type": "stream",
     "text": [
      "4\n",
      "2 6 1 2\n",
      "5\n",
      "1 2 3 4 2\n",
      "1\n",
      "2\n",
      "2\n",
      "[1, 2, 2, 6] [1, 2, 3, 4, 2]\n"
     ]
    }
   ],
   "source": [
    "#### Main\n",
    "n1=int(input())\n",
    "arr1=list(int(i) for i in input().strip().split(' '))\n",
    "n2=int(input())\n",
    "arr2=list(int(i) for i in input().strip().split(' '))\n",
    "if len(arr1)<=len(arr2):\n",
    "    merge(arr1,0,len(arr1)-1)\n",
    "    intersection(arr1, arr2) \n",
    "else:\n",
    "    merge(arr2,0,len(arr2)-1)\n",
    "    intersection(arr2, arr1) \n",
    "print(arr1,arr2)\n"
   ]
  },
  {
   "cell_type": "code",
   "execution_count": 56,
   "metadata": {},
   "outputs": [
    {
     "ename": "TypeError",
     "evalue": "pop() takes at most 1 argument (2 given)",
     "output_type": "error",
     "traceback": [
      "\u001b[1;31m---------------------------------------------------------------------------\u001b[0m",
      "\u001b[1;31mTypeError\u001b[0m                                 Traceback (most recent call last)",
      "\u001b[1;32m<ipython-input-56-030990d816c0>\u001b[0m in \u001b[0;36m<module>\u001b[1;34m\u001b[0m\n\u001b[0;32m      1\u001b[0m \u001b[0mli\u001b[0m\u001b[1;33m=\u001b[0m\u001b[1;33m[\u001b[0m\u001b[1;36m1\u001b[0m\u001b[1;33m,\u001b[0m\u001b[1;36m2\u001b[0m\u001b[1;33m,\u001b[0m\u001b[1;36m3\u001b[0m\u001b[1;33m,\u001b[0m\u001b[1;36m2\u001b[0m\u001b[1;33m,\u001b[0m\u001b[1;36m4\u001b[0m\u001b[1;33m,\u001b[0m\u001b[1;36m5\u001b[0m\u001b[1;33m]\u001b[0m\u001b[1;33m\u001b[0m\u001b[1;33m\u001b[0m\u001b[0m\n\u001b[1;32m----> 2\u001b[1;33m \u001b[0mli\u001b[0m\u001b[1;33m.\u001b[0m\u001b[0mpop\u001b[0m\u001b[1;33m(\u001b[0m\u001b[1;36m1\u001b[0m\u001b[1;33m,\u001b[0m\u001b[1;36m2\u001b[0m\u001b[1;33m)\u001b[0m\u001b[1;33m\u001b[0m\u001b[1;33m\u001b[0m\u001b[0m\n\u001b[0m\u001b[0;32m      3\u001b[0m \u001b[0mli\u001b[0m\u001b[1;33m\u001b[0m\u001b[1;33m\u001b[0m\u001b[0m\n",
      "\u001b[1;31mTypeError\u001b[0m: pop() takes at most 1 argument (2 given)"
     ]
    }
   ],
   "source": [
    "li=[1,2,3,2,4,5]\n",
    "li.pop(2)\n",
    "li"
   ]
  },
  {
   "cell_type": "code",
   "execution_count": null,
   "metadata": {},
   "outputs": [],
   "source": [
    "def intersection(arr1, arr2):\n",
    "    i=0\n",
    "    j=0\n",
    "    while i<len(arr1) and j<len(arr2):\n",
    "        if arr1[i]<arr2[j]:\n",
    "            i=i+1\n",
    "        elif arr1[i]>arr2[j]:\n",
    "            j=j+1\n",
    "        else:\n",
    "            print(arr1[i])\n",
    "            i=i+1\n",
    "            j=j+1\n",
    "\n",
    "#merge\n",
    "def merge(arr,s,e):\n",
    "    if len(arr)<2:\n",
    "        return arr\n",
    "    mid=(s+e)//2\n",
    "    a1=arr[0:mid]\n",
    "    a2=arr[mid:]\n",
    "    merge(a1,0,len(a1))\n",
    "    merge(a2,0,len(a2))\n",
    "    Sort(arr,a1,a2)\n",
    "    \n",
    "    \n",
    "def Sort(arr,a1,a2):\n",
    "    i=0\n",
    "    j=0\n",
    "    k=0\n",
    "    while i<len(a1) and j<len(a2):\n",
    "        if a1[i]<a2[j]:\n",
    "            arr[k]=a1[i]\n",
    "            k=k+1\n",
    "            i=i+1\n",
    "        else:\n",
    "            arr[k]=a2[j]\n",
    "            k=k+1\n",
    "            j=j+1\n",
    "    while i<len(a1):\n",
    "        arr[k]=a1[i]\n",
    "        k=k+1\n",
    "        i=i+1\n",
    "    while j<len(a2):\n",
    "        arr[k]=a2[j]\n",
    "        j=j+1\n",
    "        k=k+1\n",
    "\n",
    "#### Main\n",
    "n1=int(input())\n",
    "arr1=list(int(i) for i in input().strip().split(' '))\n",
    "n2=int(input())\n",
    "arr2=list(int(i) for i in input().strip().split(' '))\n",
    "merge(arr1,0,len(arr1)-1)\n",
    "merge(arr2,0,len(arr2)-1)\n",
    "intersection(arr1, arr2) "
   ]
  },
  {
   "cell_type": "code",
   "execution_count": null,
   "metadata": {},
   "outputs": [],
   "source": [
    "def pairSum(arr, x):\n",
    "    arr.sort()\n",
    "    si=0\n",
    "    ei=len(arr)-1\n",
    "    temp=0\n",
    "    while si<ei:\n",
    "        if arr[si]+arr[ei]==x:\n",
    "            temp=0\n",
    "            if arr[si]==arr[ei]:\n",
    "                c=(ei-si)+1\n",
    "                temp=(c*(c-1))//2\n",
    "                si=ei\n",
    "            else:\n",
    "                s=1\n",
    "                e=1\n",
    "                while si+1<ei and arr[si+1]==arr[si]:\n",
    "                    s=s+1\n",
    "                    si=si+1\n",
    "                while si<ei-1 and arr[ei-1]==arr[ei]:\n",
    "                    e=e+1\n",
    "                    ei=ei-1\n",
    "                temp=s*e\n",
    "            for j in range(temp):\n",
    "                print(arr[si],arr[ei])\n",
    "            si=si+1\n",
    "            ei=ei-1\n",
    "        \n",
    "        elif arr[si]+arr[ei]<x:\n",
    "            si=si+1\n",
    "        else:\n",
    "            ei=ei-1\n",
    "\n",
    "# Main\n",
    "import sys\n",
    "sys.setrecursionlimit(11000000)\n",
    "n=int(input())\n",
    "arr=list(int(i) for i in input().strip().split(' '))\n",
    "sum=int(input())\n",
    "pairSum(arr, sum)\n"
   ]
  },
  {
   "cell_type": "code",
   "execution_count": 73,
   "metadata": {},
   "outputs": [
    {
     "name": "stdout",
     "output_type": "stream",
     "text": [
      "7\n",
      "1 2 3 4 5 6 7 \n",
      "12\n",
      "1 4 7\n",
      "1 5 6\n",
      "2 3 7\n",
      "2 4 6\n",
      "3 4 5\n"
     ]
    }
   ],
   "source": [
    "## Read input as specified in the question.\n",
    "## Print output as specified in the question.\n",
    "def Triple(arr,sum):\n",
    "    arr.sort()\n",
    "    for i in range(n-1):\n",
    "        x=arr[i]\n",
    "        l=i+1\n",
    "        r=n-1\n",
    "        while l<r:\n",
    "            if arr[l]+arr[r]+x==sum:\n",
    "                print(x,arr[l],arr[r])\n",
    "                l=l+1\n",
    "                r=r-1\n",
    "            elif arr[l]+arr[r]+x<sum:\n",
    "                l=l+1\n",
    "            else:\n",
    "                r=r-1\n",
    "\n",
    "\n",
    "import sys\n",
    "sys.setrecursionlimit(11000000)\n",
    "n=int(input())\n",
    "arr=list(int(i) for i in input().strip().split(' '))\n",
    "sum=int(input())\n",
    "Triple(arr,sum)"
   ]
  }
 ],
 "metadata": {
  "kernelspec": {
   "display_name": "Python 3",
   "language": "python",
   "name": "python3"
  },
  "language_info": {
   "codemirror_mode": {
    "name": "ipython",
    "version": 3
   },
   "file_extension": ".py",
   "mimetype": "text/x-python",
   "name": "python",
   "nbconvert_exporter": "python",
   "pygments_lexer": "ipython3",
   "version": "3.7.3"
  }
 },
 "nbformat": 4,
 "nbformat_minor": 2
}
