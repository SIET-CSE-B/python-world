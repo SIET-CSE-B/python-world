{
 "cells": [
  {
   "cell_type": "code",
   "execution_count": 1,
   "metadata": {},
   "outputs": [
    {
     "name": "stdout",
     "output_type": "stream",
     "text": [
      "5\n",
      "5\n"
     ]
    }
   ],
   "source": [
    "# like in when if we already have fibonacci of 3 when doing n-1 we dont need to again waste time in calculating 3 in n-2\n",
    "def fibb(n,dp):\n",
    "    if n<2:\n",
    "        return n\n",
    "    if dp[n-1]==-1:\n",
    "        ans1=fibb(n-1,dp)\n",
    "        dp[n-1]=ans1\n",
    "    else:\n",
    "        ans1=dp[n-1]\n",
    "    if dp[n-2]==-1:\n",
    "        ans2=fibb(n-2,dp)\n",
    "        dp[n-2]=ans2\n",
    "    else:\n",
    "        ans2=dp[n-2]\n",
    "    my=ans1+ans2\n",
    "    return my\n",
    "n=int(input())\n",
    "dp=[int(-1) for i in range(n+1)]\n",
    "print(fibb(n,dp))"
   ]
  },
  {
   "cell_type": "code",
   "execution_count": 6,
   "metadata": {},
   "outputs": [
    {
     "name": "stdout",
     "output_type": "stream",
     "text": [
      "10\n",
      "10\n",
      "9\n",
      "8\n",
      "7\n",
      "6\n",
      "5\n",
      "4\n",
      "3\n",
      "2\n",
      "1\n",
      "1\n",
      "1\n",
      "2\n",
      "1\n",
      "1\n",
      "3\n",
      "2\n",
      "1\n",
      "1\n",
      "1\n",
      "2\n",
      "1\n",
      "1\n",
      "4\n",
      "3\n",
      "2\n",
      "1\n",
      "1\n",
      "1\n",
      "2\n",
      "1\n",
      "1\n",
      "3\n",
      "2\n",
      "1\n",
      "1\n",
      "1\n",
      "5\n",
      "4\n",
      "3\n",
      "2\n",
      "1\n",
      "1\n",
      "1\n",
      "2\n",
      "1\n",
      "1\n",
      "3\n"
     ]
    }
   ],
   "source": [
    "def minStepsTo1DP(n):\n",
    "    print(n)\n",
    "    if n==1:\n",
    "        return 0\n",
    "    ans1=minStepsTo1DP(n-1)\n",
    "    if n%2==0:\n",
    "        ans2=minStepsTo1DP(n//2)\n",
    "    else:\n",
    "        ans2=999999\n",
    "    if n%3==0:\n",
    "        ans3=minStepsTo1DP(n//3)\n",
    "    else:\n",
    "        return min(ans1,ans2)+1\n",
    "    return min(ans1,ans2,ans3)+1\n",
    "    \n",
    "# Main\n",
    "n=int(input())\n",
    "print(minStepsTo1DP(n))\n"
   ]
  },
  {
   "cell_type": "code",
   "execution_count": 10,
   "metadata": {},
   "outputs": [
    {
     "name": "stdout",
     "output_type": "stream",
     "text": [
      "10\n",
      "3\n"
     ]
    }
   ],
   "source": [
    "import sys\n",
    "def minStepsTo1DP(n,li):\n",
    "    if n==1:\n",
    "        return 0\n",
    "    if li[n]!=9999:\n",
    "        return li[n]\n",
    "    ans1=minStepsTo1DP(n-1,li)\n",
    "    if n%2==0:\n",
    "        ans2=minStepsTo1DP(n//2,li)\n",
    "    else:\n",
    "        ans2=999999\n",
    "    if n%3==0:\n",
    "        ans3=minStepsTo1DP(n//3,li)\n",
    "    else:\n",
    "        ans3=999999\n",
    "    li[n]=min(ans1,ans2,ans3)+1\n",
    "    return li[n]\n",
    "    \n",
    "# Main\n",
    "sys.setrecursionlimit(110000)\n",
    "n=int(input())\n",
    "li=[9999 for i in range(n+1)]\n",
    "print(minStepsTo1DP(n,li))"
   ]
  },
  {
   "cell_type": "code",
   "execution_count": 5,
   "metadata": {},
   "outputs": [
    {
     "data": {
      "text/plain": [
       "0"
      ]
     },
     "execution_count": 5,
     "metadata": {},
     "output_type": "execute_result"
    }
   ],
   "source": [
    "0//2"
   ]
  },
  {
   "cell_type": "code",
   "execution_count": 1,
   "metadata": {},
   "outputs": [
    {
     "name": "stdout",
     "output_type": "stream",
     "text": [
      "10\n",
      "2\n"
     ]
    }
   ],
   "source": [
    "#square\n",
    "\n",
    "import sys\n",
    "import math\n",
    "def minStepsTo1(n,dp):\n",
    "    if n==0:\n",
    "        return 0\n",
    "    ans=sys.maxsize\n",
    "    root=int(math.sqrt(n))\n",
    "    for i in range(1,root+1):\n",
    "        new=n-(i**2)\n",
    "        if dp[new]==-1:\n",
    "            s=minStepsTo1(new,dp)\n",
    "            dp[new]=s\n",
    "            curr=1+s\n",
    "        else:\n",
    "            curr=1+dp[new]\n",
    "        ans=min(ans,curr)\n",
    "    return ans\n",
    "\n",
    "sys.setrecursionlimit(1100000)\n",
    "n = int(input())\n",
    "dp=[-1 for i in range(n+1)]\n",
    "ans = minStepsTo1(n,dp)\n",
    "print(ans)"
   ]
  },
  {
   "cell_type": "code",
   "execution_count": 25,
   "metadata": {},
   "outputs": [
    {
     "name": "stdout",
     "output_type": "stream",
     "text": [
      "10\n",
      "2\n"
     ]
    }
   ],
   "source": [
    "import math,sys\n",
    "\n",
    "def Sq(n,li):\n",
    "    li[0]=0\n",
    "    for i in range(1,n+1):\n",
    "        ans=sys.maxsize\n",
    "        root=int(math.sqrt(i))\n",
    "        for j in range(1,root+1):\n",
    "            curr=1+li[i-(j**2)]\n",
    "            ans=min(ans,curr)\n",
    "        li[i]=ans\n",
    "    return li[n]\n",
    "            \n",
    "    \n",
    "    \n",
    "    \n",
    "n=int(input())\n",
    "li=[-1 for i in range(n+1)]\n",
    "ans=Sq(n,li)\n",
    "print(ans)"
   ]
  },
  {
   "cell_type": "code",
   "execution_count": 4,
   "metadata": {},
   "outputs": [
    {
     "name": "stdout",
     "output_type": "stream",
     "text": [
      "6\n",
      "5 4 11 1 16 8\n",
      "3\n"
     ]
    }
   ],
   "source": [
    "\n",
    "def lis(li,i,n,dp):\n",
    "    if i==n:\n",
    "        return 0,0\n",
    "    including=1\n",
    "    for j in range(i+1,n):\n",
    "        if li[j]>=li[i]:\n",
    "            if dp[j]==-1:\n",
    "                ans=lis(li,j,n,dp)\n",
    "                dp[j]=ans\n",
    "                further=ans[0]\n",
    "            else:\n",
    "                further=dp[j][0]\n",
    "            including=max(including,further+1)\n",
    "    if dp[i+1]==-1:\n",
    "        ans=lis(li,i+1,n,dp)\n",
    "        dp[i+1]=ans\n",
    "        excluding=ans[1]\n",
    "    else:\n",
    "        excluding=dp[i+1][1]\n",
    "    overall=max(including,excluding)\n",
    "    return including,overall\n",
    "        \n",
    "n = int(input())\n",
    "li = [int(ele) for ele in input().split()]\n",
    "dp=[-1 for i in range(n+1)]\n",
    "ans=lis(li,0,n,dp)[1]\n",
    "print(ans)"
   ]
  },
  {
   "cell_type": "code",
   "execution_count": 3,
   "metadata": {},
   "outputs": [
    {
     "name": "stdout",
     "output_type": "stream",
     "text": [
      "3 3\n",
      "1 2 34 \n",
      "3 1 2 \n",
      "1 3 4 \n",
      "6\n"
     ]
    }
   ],
   "source": [
    "## Read input as specified in the question.\n",
    "## Print output as specified in the question.\n",
    "import sys\n",
    "def mi(li,i,j,n,m,dp):\n",
    "    if i==n-1 and j==m-1:\n",
    "        return li[i][j]\n",
    "    if i>=n or j>=m:\n",
    "        return sys.maxsize\n",
    "    if dp[i][j+1]==sys.maxsize:\n",
    "        ans1=mi(li,i,j+1,n,m,dp)\n",
    "        dp[i][j+1]=ans1\n",
    "    else:\n",
    "        ans1=dp[i][j+1]\n",
    "    if dp[i+1][j]==sys.maxsize:\n",
    "        ans2=mi(li,i+1,j,n,m,dp)\n",
    "        dp[i+1][j]=ans2\n",
    "    else:\n",
    "        ans2=dp[i+1][j]\n",
    "    if dp[i+1][j+1]==sys.maxsize:\n",
    "        ans3=mi(li,i+1,j+1,n,m,dp)\n",
    "        dp[i+1][j+1]=ans3\n",
    "    else:\n",
    "        ans3=dp[i+1][j+1]\n",
    "    ans=li[i][j]+min(ans1,ans2,ans3)\n",
    "    return ans\n",
    "\n",
    "n,m=input().split()\n",
    "n=int(n)\n",
    "m=int(m)\n",
    "li=[[int(j) for j in input().split()]for i in range(n)]\n",
    "dp=[[sys.maxsize for j in range(m+1)]for i in range(n+1)]\n",
    "ans=mi(li,0,0,n,m,dp)\n",
    "print(ans)"
   ]
  },
  {
   "cell_type": "code",
   "execution_count": 2,
   "metadata": {},
   "outputs": [
    {
     "name": "stdout",
     "output_type": "stream",
     "text": [
      "3 3\n",
      "1 2 34\n",
      "3 1 2\n",
      "1 3 4\n",
      "6\n"
     ]
    }
   ],
   "source": [
    "## Read input as specified in the question.\n",
    "## Print output as specified in the question.\n",
    "import sys\n",
    "def mi(li,dp):\n",
    "    for i in range(n-1,-1,-1):\n",
    "        for j in range(m-1,-1,-1):\n",
    "            if i==n-1 and j==m-1:\n",
    "                dp[i][j]=li[i][j]\n",
    "            else:\n",
    "                ans1=dp[i+1][j]\n",
    "                ans2=dp[i][j+1]\n",
    "                ans3=dp[i+1][j+1]\n",
    "                dp[i][j]=li[i][j]+min(ans1,ans2,ans3)\n",
    "    return dp[0][0]\n",
    "    \n",
    "    \n",
    "n,m=input().split()\n",
    "n=int(n)\n",
    "m=int(m)\n",
    "li=[[int(j) for j in input().split()]for i in range(n)]\n",
    "dp=[[sys.maxsize for j in range(m+1)]for i in range(n+1)]\n",
    "ans=mi(li,dp)\n",
    "print(ans)"
   ]
  },
  {
   "cell_type": "code",
   "execution_count": 6,
   "metadata": {},
   "outputs": [
    {
     "name": "stdout",
     "output_type": "stream",
     "text": [
      "3 3\n",
      "1 2 34\n",
      "3 1 2\n",
      "1 3 4\n",
      "6\n"
     ]
    }
   ],
   "source": [
    "import sys\n",
    "def mincost(li,i,j,n,m,dp):\n",
    "    if i==n-1 and j==m-1:\n",
    "        return li[i][j]\n",
    "    if i>=n or j>=m:\n",
    "        return sys.maxsize\n",
    "    if dp[i+1][j]==sys.maxsize:\n",
    "        ans1=mincost(li,i+1,j,n,m,dp)\n",
    "        dp[i+1][j]=ans1\n",
    "    else:\n",
    "        ans1=dp[i+1][j]\n",
    "    if dp[i][j+1]==sys.maxsize:\n",
    "        ans2=mincost(li,i,j+1,n,m,dp)\n",
    "        dp[i][j+1]=ans2\n",
    "    else:\n",
    "        ans2=dp[i][j+1]\n",
    "    if dp[i+1][j+1]==sys.maxsize:\n",
    "        ans3=mincost(li,i+1,j+1,n,m,dp)\n",
    "        dp[i+1][j+1]=ans3\n",
    "    else:\n",
    "        ans3=dp[i+1][j+1]\n",
    "    mi=li[i][j]+min(ans1,ans2,ans3)\n",
    "    return mi\n",
    "        \n",
    "\n",
    "n,m=input().split()\n",
    "n,m=int(n),int(m)\n",
    "li=[[int(j) for j in input().split()]for i in range(n)]\n",
    "dp=[[sys.maxsize for j in range(m+1)]for i in range(n+1)]\n",
    "print(mincost(li,0,0,n,m,dp))"
   ]
  },
  {
   "cell_type": "code",
   "execution_count": null,
   "metadata": {},
   "outputs": [],
   "source": [
    "import sys\n",
    "def minI(li,n,m,dp):\n",
    "    for i in range(n-1,-1,-1):\n",
    "        for j in range(m-1,-1,-1):\n",
    "            if i==n-1 and j==m-1:\n",
    "                dp[i][j]=li[i][j]\n",
    "            else:\n",
    "                ans1=\n",
    "\n",
    "n,m=input().split()\n",
    "n,m=int(n),int(m)\n",
    "li=[[int(j) for j in input().split()]for i in range(n)]\n",
    "dp=[[sys.maxsize for j in range(m+1)]for i in range(n+1)]\n",
    "print(minI(li,n,m,dp))"
   ]
  },
  {
   "cell_type": "code",
   "execution_count": 5,
   "metadata": {},
   "outputs": [
    {
     "name": "stdout",
     "output_type": "stream",
     "text": [
      "abcd\n",
      "acbdef\n",
      "3\n"
     ]
    }
   ],
   "source": [
    "from sys import stdin\n",
    "\n",
    "def lengthOflcs (str1, str2,i,j) :\n",
    "    if i>=len(str1) or j>=len(str2):\n",
    "        return 0\n",
    "    if str1[i]==str2[j]:\n",
    "        return 1+lengthOflcs(str1,str2,i+1,j+1)\n",
    "    if str1[i]!=str2[j]:\n",
    "        ans2=lengthOflcs(str1,str2,i,j+1)\n",
    "        ans3=lengthOflcs(str1,str2,i+1,j)\n",
    "    return max(ans2,ans3)\n",
    "\n",
    "\n",
    "\n",
    "\n",
    "\n",
    "\n",
    "#taking input\n",
    "def takeInput() :\n",
    "    \n",
    "    str1 = input().strip()\n",
    "    str2 = input().strip()\n",
    "    return str1, str2\n",
    "\n",
    "\n",
    "#main\n",
    "\n",
    "str1, str2 = takeInput()\n",
    "print(lengthOflcs(str1, str2,0,0))"
   ]
  },
  {
   "cell_type": "code",
   "execution_count": 8,
   "metadata": {},
   "outputs": [
    {
     "name": "stdout",
     "output_type": "stream",
     "text": [
      "acbdef\n",
      "abcd\n",
      "3\n"
     ]
    }
   ],
   "source": [
    "from sys import stdin\n",
    "\n",
    "def lengthOflcs (str1, str2,i,j) :\n",
    "    if i>=len(str1) or j>=len(str2):\n",
    "        return 0\n",
    "    if str1[i]==str2[j]:\n",
    "        ans= 1+lengthOflcs(str1,str2,i+1,j+1)\n",
    "    if str1[i]!=str2[j]:\n",
    "        ans1=lengthOflcs(str1,str2,i,j+1)\n",
    "        ans2=lengthOflcs(str1,str2,i+1,j)\n",
    "        return max(ans1,ans2)\n",
    "    return ans\n",
    "\n",
    "\n",
    "\n",
    "\n",
    "\n",
    "\n",
    "#taking input\n",
    "def takeInput() :\n",
    "    \n",
    "    str1 = input().strip()\n",
    "    str2 = input().strip()\n",
    "    return str1, str2\n",
    "\n",
    "\n",
    "#main\n",
    "\n",
    "str1, str2 = takeInput()\n",
    "print(lengthOflcs(str1, str2,0,0))"
   ]
  },
  {
   "cell_type": "code",
   "execution_count": 9,
   "metadata": {},
   "outputs": [
    {
     "name": "stdout",
     "output_type": "stream",
     "text": [
      "acbdef\n",
      "abcd\n",
      "3\n"
     ]
    }
   ],
   "source": [
    "#lcs with memoization\n",
    "from sys import stdin\n",
    "\n",
    "def lengthOflcs (str1, str2,i,j,dp) :\n",
    "    if i>=len(str1) or j>=len(str2):\n",
    "        return 0\n",
    "    if str1[i]==str2[j]:\n",
    "        if dp[i][j]==-1:\n",
    "            small=lengthOflcs(str1,str2,i+1,j+1,dp)\n",
    "            dp[i][j]=small\n",
    "            ans= 1+ small\n",
    "        else:\n",
    "            ans=dp[i][j]\n",
    "    if str1[i]!=str2[j]:\n",
    "        if dp[i][j+1]==-1:\n",
    "            ans1=lengthOflcs(str1,str2,i,j+1,dp)\n",
    "            dp[i][j+1]=ans1\n",
    "        else:\n",
    "            ans1=dp[i][j+1]\n",
    "        if dp[i+1][j]==-1:\n",
    "            ans2=lengthOflcs(str1,str2,i+1,j,dp)\n",
    "            dp[i+1][j]=ans2\n",
    "        else:\n",
    "            ans2=dp[i+1][j]\n",
    "        ans= max(ans1,ans2)\n",
    "    return ans\n",
    "\n",
    "\n",
    "\n",
    "\n",
    "\n",
    "\n",
    "#taking input\n",
    "def takeInput() :\n",
    "    \n",
    "    str1 = input().strip()\n",
    "    str2 = input().strip()\n",
    "    return str1, str2\n",
    "\n",
    "\n",
    "#main\n",
    "str1, str2 = takeInput()\n",
    "n=len(str1)\n",
    "m=len(str2)\n",
    "dp=[[-1 for j in range(m+1)]for i in range(n+1)]\n",
    "print(lengthOflcs(str1, str2,0,0,dp))"
   ]
  },
  {
   "cell_type": "code",
   "execution_count": null,
   "metadata": {},
   "outputs": [],
   "source": [
    "#lcs with memoization\n",
    "from sys import stdin\n",
    "\n",
    "def lengthOflcs (str1, str2,dp) :\n",
    "    for i in range(n-1,-1,-1):\n",
    "        for j in range(m-1,-1,-1):\n",
    "            if str1[i]==str2[j]:\n",
    "                dp[i][j]=1+dp[i+1][j+1]\n",
    "            else:\n",
    "                dp[i][j]=max(dp[i+1][j])\n",
    "    \n",
    "#taking input\n",
    "def takeInput() :\n",
    "    \n",
    "    str1 = input().strip()\n",
    "    str2 = input().strip()\n",
    "    return str1, str2\n",
    "\n",
    "\n",
    "#main\n",
    "str1, str2 = takeInput()\n",
    "n=len(str1)\n",
    "m=len(str2)\n",
    "dp=[[0 for j in range(m+1)]for i in range(n+1)]\n",
    "print(lengthOflcs(str1, str2,dp))"
   ]
  },
  {
   "cell_type": "code",
   "execution_count": 4,
   "metadata": {},
   "outputs": [
    {
     "name": "stdout",
     "output_type": "stream",
     "text": [
      "4\n",
      "1 2 4 5\n",
      "5 4 8 6\n",
      "5\n",
      "13\n"
     ]
    }
   ],
   "source": [
    "#just a recursive solution\n",
    "def knapsackBF(weights, values, maxWeight,i):\n",
    "    if i>=len(weights):\n",
    "        return 0\n",
    "    if weights[i]>maxWeight:\n",
    "         ans= knapsackBF(weights,values,maxWeight,i+1)\n",
    "    else:\n",
    "        ans1=values[i]+knapsackBF(weights,values,maxWeight-weights[i],i+1)\n",
    "        ans2=knapsackBF(weights,values,maxWeight,i+1)\n",
    "        ans= max(ans1,ans2)\n",
    "    return ans\n",
    "        \n",
    "from sys import setrecursionlimit\n",
    "setrecursionlimit(11000)\n",
    "n=int(input())\n",
    "weights=list(int(i) for i in input().strip().split(' '))\n",
    "values=list(int(i) for i in input().strip().split(' '))\n",
    "maxWeight=int(input())\n",
    "print(knapsackBF(weights, values, maxWeight,0))"
   ]
  },
  {
   "cell_type": "code",
   "execution_count": 12,
   "metadata": {},
   "outputs": [
    {
     "name": "stdout",
     "output_type": "stream",
     "text": [
      "4\n",
      "1 2 4 5\n",
      "5 4 8 6\n",
      "5\n",
      "13\n"
     ]
    }
   ],
   "source": [
    "def knapsackBF(weights, values, maxWeight):\n",
    "    n=len(values)\n",
    "    dp=[[0 for j in range(maxWeight+1)]for i in range(n+1)]\n",
    "    for i in range(1,n+1):\n",
    "        for j in range(1,maxWeight+1):\n",
    "            if j<weights[i-1]:\n",
    "                ans=dp[i-1][j]\n",
    "            else:\n",
    "                ans1=values[i-1]+dp[i-1][j-weights[i-1]]\n",
    "                ans2=dp[i-1][j]\n",
    "                ans=max(ans1,ans2)\n",
    "            dp[i][j]=ans\n",
    "    return dp[n][maxWeight]\n",
    "    \n",
    "    \n",
    "\n",
    "from sys import setrecursionlimit\n",
    "setrecursionlimit(11000)\n",
    "n=int(input())\n",
    "weights=list(int(i) for i in input().strip().split(' '))\n",
    "values=list(int(i) for i in input().strip().split(' '))\n",
    "maxWeight=int(input())\n",
    "print(knapsackBF(weights, values, maxWeight))"
   ]
  },
  {
   "cell_type": "code",
   "execution_count": 3,
   "metadata": {},
   "outputs": [
    {
     "name": "stdout",
     "output_type": "stream",
     "text": [
      "3\n",
      "10 15 20 25\n",
      "8000\n"
     ]
    }
   ],
   "source": [
    "import sys\n",
    "def matrix(p,i,j,dp):\n",
    "    if i==j:\n",
    "        return 0\n",
    "    min_v=sys.maxsize\n",
    "    for k in range(i,j):\n",
    "        \n",
    "        if dp[i][k]==-1:\n",
    "            ans1=matrix(p,i,k,dp)\n",
    "            dp[i][k]=ans1\n",
    "        else:\n",
    "            ans1=dp[i][k]\n",
    "        \n",
    "        if dp[k+1][j]==-1:\n",
    "            ans2=matrix(p,k+1,j,dp)\n",
    "            dp[k+1][j]=ans2\n",
    "        else:\n",
    "            ans2=dp[k+1][j]\n",
    "        \n",
    "        cost=p[i-1]*p[k]*p[j]\n",
    "        curr=ans1+ans2+cost\n",
    "        min_v=min(min_v,curr)\n",
    "    return min_v\n",
    "        \n",
    "n=int(input())\n",
    "p=[int(i) for i in input().split()]\n",
    "#n=len(p)\n",
    "dp=[[-1 for j in range(n+1)] for i in range(n+1)]\n",
    "print(matrix(p,1,n,dp))"
   ]
  }
 ],
 "metadata": {
  "kernelspec": {
   "display_name": "Python 3",
   "language": "python",
   "name": "python3"
  },
  "language_info": {
   "codemirror_mode": {
    "name": "ipython",
    "version": 3
   },
   "file_extension": ".py",
   "mimetype": "text/x-python",
   "name": "python",
   "nbconvert_exporter": "python",
   "pygments_lexer": "ipython3",
   "version": "3.8.3"
  }
 },
 "nbformat": 4,
 "nbformat_minor": 4
}
