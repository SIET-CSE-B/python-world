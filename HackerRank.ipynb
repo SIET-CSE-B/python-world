{
 "cells": [
  {
   "cell_type": "code",
   "execution_count": 8,
   "metadata": {},
   "outputs": [
    {
     "name": "stdout",
     "output_type": "stream",
     "text": [
      "34\n",
      "adfsf\n"
     ]
    }
   ],
   "source": [
    "n=float(input())\n",
    "s=\"adf\"\n",
    "s1=\"sf\"\n",
    "print(s+s1)"
   ]
  },
  {
   "cell_type": "code",
   "execution_count": 2,
   "metadata": {},
   "outputs": [
    {
     "name": "stdout",
     "output_type": "stream",
     "text": [
      "24\n",
      "Not Weird\n"
     ]
    }
   ],
   "source": [
    "n=int(input())\n",
    "if (n%2!=0):\n",
    "    print(\"Weird\")\n",
    "elif (n%2==0):\n",
    "    if (n>=2 and n<=5):\n",
    "        print(\"Not Weird\")\n",
    "    if (n>=6 and n<=20):\n",
    "        print(\"Weird\")\n",
    "    if n>20:\n",
    "        print(\"Not Weird\")"
   ]
  },
  {
   "cell_type": "code",
   "execution_count": 19,
   "metadata": {},
   "outputs": [
    {
     "data": {
      "text/plain": [
       "5"
      ]
     },
     "execution_count": 19,
     "metadata": {},
     "output_type": "execute_result"
    }
   ],
   "source": [
    "import math\n",
    "math.ceil(4.5)"
   ]
  },
  {
   "cell_type": "code",
   "execution_count": 30,
   "metadata": {},
   "outputs": [
    {
     "name": "stdout",
     "output_type": "stream",
     "text": [
      "7\n",
      "\n",
      "*\n",
      "**\n",
      "***\n",
      "****\n",
      "***\n",
      "**\n",
      "*\n",
      "\n"
     ]
    }
   ],
   "source": [
    "\n",
    "n=int(input())\n",
    "n1=n//2\n",
    "n1=n1+1\n",
    "t=0\n",
    "for i in range(n1+1):\n",
    "    t=i\n",
    "    for j in range(i):\n",
    "        print(\"*\",end='')\n",
    "    print()\n",
    "t=t-1\n",
    "for j in range(t,-1,-1):\n",
    "    for i in range(j):\n",
    "        print(\"*\",end='')\n",
    "    print()"
   ]
  },
  {
   "cell_type": "code",
   "execution_count": 5,
   "metadata": {},
   "outputs": [
    {
     "name": "stdout",
     "output_type": "stream",
     "text": [
      "2\n",
      "hacker\n",
      "rank\n",
      "hce akr\n",
      "rn ak\n"
     ]
    }
   ],
   "source": [
    "def evenodd(li,i,n):\n",
    "    li1=[]\n",
    "    li2=[]\n",
    "    s=li[i]\n",
    "    for j in range(len(s)):\n",
    "        if j%2==0:\n",
    "            li1.append(s[j])\n",
    "        else:\n",
    "            li2.append(s[j])\n",
    "    for k in range(len(li1)):\n",
    "        print(li1[k],end='')\n",
    "    print(\" \",end='')\n",
    "    for k in range(len(li2)):\n",
    "        print(li2[k],end='')\n",
    "    print()\n",
    "n=int(input())\n",
    "li=[]\n",
    "for i in range(n):\n",
    "    li.append(input())\n",
    "for i in range(n):\n",
    "    evenodd(li,i,n)"
   ]
  },
  {
   "cell_type": "code",
   "execution_count": 9,
   "metadata": {},
   "outputs": [
    {
     "name": "stdout",
     "output_type": "stream",
     "text": [
      "5\n",
      "1000000001 1000000002 1000000003 1000000004 1000000005\n",
      "5000000015\n"
     ]
    }
   ],
   "source": [
    "n=int(input())\n",
    "li=[int(n) for n in input().strip().split()]\n",
    "s=0\n",
    "for i in li:\n",
    "    s=s+i\n",
    "print(s)"
   ]
  },
  {
   "cell_type": "code",
   "execution_count": 12,
   "metadata": {},
   "outputs": [
    {
     "name": "stdout",
     "output_type": "stream",
     "text": [
      "5 6 7\n",
      "3 6 10\n",
      "1 1\n"
     ]
    }
   ],
   "source": [
    "n=3\n",
    "a1=[int(n) for n in input().strip().split()]\n",
    "a2=[int(n)for n in input().strip().split()]\n",
    "a=0\n",
    "b=0\n",
    "for i in range(3):\n",
    "    if a1[i]>a2[i]:\n",
    "        a=a+1\n",
    "    elif a1[i]<a2[i]:\n",
    "        b=b+1\n",
    "    else:\n",
    "        continue\n",
    "print(a,b)"
   ]
  },
  {
   "cell_type": "code",
   "execution_count": 28,
   "metadata": {},
   "outputs": [
    {
     "name": "stdout",
     "output_type": "stream",
     "text": [
      "4\n",
      "-1 1 -7 -8\n",
      "-10 -8 -5 -2\n",
      "0 9 7 -1\n",
      "4 4 -2 1\n",
      "-87-1\n",
      "-8-590\n",
      "1\n"
     ]
    }
   ],
   "source": [
    "# Diagnol Difference\n",
    "n=int(input())\n",
    "li=[[int(j)for j in input().split()]for i in range(n)]\n",
    "s=0\n",
    "s=li[0][0]\n",
    "for i in range(1,n):\n",
    "    if i==n-1:\n",
    "        s=s+li[n-1][n-1]\n",
    "        break\n",
    "\n",
    "    s=s+li[i][i]\n",
    "\n",
    "d=0\n",
    "s1=n-1\n",
    "for j in range(n):\n",
    "    if j==n-1:\n",
    "        d=d+li[n-1][0]\n",
    "        break;\n",
    "\n",
    "    d=d+li[j][s1]\n",
    "    s1=s1-1\n",
    "\n",
    "if s>d:\n",
    "    print(s-d)\n",
    "else:\n",
    "    print(d-s)"
   ]
  },
  {
   "cell_type": "code",
   "execution_count": 12,
   "metadata": {},
   "outputs": [
    {
     "name": "stdout",
     "output_type": "stream",
     "text": [
      "12.00\n",
      "20\n",
      "8\n",
      "15\n"
     ]
    }
   ],
   "source": [
    "import math\n",
    "cost=float(input())\n",
    "tip=int(input())\n",
    "tax=int(input())\n",
    "totalt=cost*(tip/100)\n",
    "totaltax=cost*(tax/100)\n",
    "print(round(cost+totalt+totaltax))"
   ]
  },
  {
   "cell_type": "code",
   "execution_count": 18,
   "metadata": {},
   "outputs": [
    {
     "name": "stdout",
     "output_type": "stream",
     "text": [
      "6\n",
      "-4 3 -9 0 4 1\n",
      "0.500000\n",
      "0.333333\n",
      "0.166667\n"
     ]
    }
   ],
   "source": [
    "n=int(input())\n",
    "li=[int(n)for n in input().split()]\n",
    "l=len(li)\n",
    "one=0\n",
    "zero=0\n",
    "minus=0\n",
    "for i in range(n):\n",
    "    if li[i]>0:\n",
    "        one=one+1\n",
    "    elif li[i]<0:\n",
    "        minus=minus+1\n",
    "    else:\n",
    "        zero=zero+1\n",
    "one=one/l\n",
    "minus=minus/l\n",
    "zero=zero/l\n",
    "print('%.6f'%one)\n",
    "print('%.6f'%minus)\n",
    "print('%.6f'%zero)"
   ]
  },
  {
   "cell_type": "code",
   "execution_count": null,
   "metadata": {},
   "outputs": [],
   "source": [
    "a=0.1666666666666\n",
    "print(\"%.6\")"
   ]
  },
  {
   "cell_type": "code",
   "execution_count": 10,
   "metadata": {
    "scrolled": true
   },
   "outputs": [
    {
     "name": "stdout",
     "output_type": "stream",
     "text": [
      "4\n",
      "-1\n",
      "10\n",
      "16\n",
      "18\n",
      "Age is not valid, setting age to 0.\n",
      "You are young.\n",
      "You are Young.\n",
      "\n",
      "You are young.\n",
      "You are a teenager.\n",
      "\n",
      "You are a teenager.\n",
      "You are Old.\n",
      "\n",
      "You are old.\n",
      "You are Old.\n",
      "\n"
     ]
    }
   ],
   "source": [
    "def age(k1):\n",
    "    if k1>=0 and k1<13:\n",
    "        print(\"You are Young.\")\n",
    "    elif k1>=13 and k1<18:\n",
    "        print(\"You are a teenager.\")\n",
    "    else:\n",
    "        print(\"You are Old.\")\n",
    "\n",
    "\n",
    "n=int(input())\n",
    "li=[]\n",
    "for i in range(n):\n",
    "    n1=int(input())\n",
    "    li.append(n1)\n",
    "for i in range(len(li)):\n",
    "    k=li[i]\n",
    "    k1=li[i]+3\n",
    "    if k<0:\n",
    "        print(\"Age is not valid, setting age to 0.\")\n",
    "        k=0\n",
    "        k1=k+3\n",
    "    if k>=0 and k<13:\n",
    "        print(\"You are young.\")\n",
    "    elif k>=13 and k<18:\n",
    "        print(\"You are a teenager.\")\n",
    "    elif k>=18:\n",
    "        print(\"You are old.\")\n",
    "    age(k1)\n",
    "    print()"
   ]
  },
  {
   "cell_type": "code",
   "execution_count": 2,
   "metadata": {},
   "outputs": [
    {
     "name": "stdout",
     "output_type": "stream",
     "text": [
      "4\n",
      "1 3 4 2\n",
      "2 4 3 1 "
     ]
    }
   ],
   "source": [
    "n=int(input())\n",
    "li=[int(n) for n in input().strip().split()]\n",
    "for i in range(len(li)-1,-1,-1):\n",
    "    print(li[i],end=' ')"
   ]
  },
  {
   "cell_type": "code",
   "execution_count": 7,
   "metadata": {},
   "outputs": [
    {
     "name": "stdout",
     "output_type": "stream",
     "text": [
      "a:b\n"
     ]
    }
   ],
   "source": [
    "class_list = dict()\n",
    "data = input()\n",
    "temp = data.split(':')"
   ]
  },
  {
   "cell_type": "code",
   "execution_count": 8,
   "metadata": {},
   "outputs": [
    {
     "name": "stdout",
     "output_type": "stream",
     "text": [
      "16\n"
     ]
    }
   ],
   "source": [
    "def fun(n):\n",
    "    if(n == 4):\n",
    "        return n\n",
    "    else:\n",
    "        return 2*fun(n+1)\n",
    "\n",
    "\n",
    "print(fun(2))"
   ]
  }
 ],
 "metadata": {
  "kernelspec": {
   "display_name": "Python 3",
   "language": "python",
   "name": "python3"
  },
  "language_info": {
   "codemirror_mode": {
    "name": "ipython",
    "version": 3
   },
   "file_extension": ".py",
   "mimetype": "text/x-python",
   "name": "python",
   "nbconvert_exporter": "python",
   "pygments_lexer": "ipython3",
   "version": "3.7.3"
  }
 },
 "nbformat": 4,
 "nbformat_minor": 2
}
