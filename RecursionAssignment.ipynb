{
 "cells": [
  {
   "cell_type": "code",
   "execution_count": 5,
   "metadata": {},
   "outputs": [
    {
     "name": "stdout",
     "output_type": "stream",
     "text": [
      "sfwefefuuuu\n",
      "sfwefefu"
     ]
    }
   ],
   "source": [
    "# Problem ID 91, removeConsecutiveDuplicates\n",
    "def removeConsecutiveDuplicates(string,i,j,l):\n",
    "    if j==l:\n",
    "        print(string[i],end='')\n",
    "        return\n",
    "    if string[i]!=string[j]:\n",
    "        print(string[i],end='')\n",
    "        i=j\n",
    "    removeConsecutiveDuplicates(string,i,j+1,l)\n",
    "\n",
    "# Main\n",
    "string = input().strip()\n",
    "removeConsecutiveDuplicates(string,0,0,len(string))\n"
   ]
  },
  {
   "cell_type": "code",
   "execution_count": 3,
   "metadata": {},
   "outputs": [
    {
     "name": "stdout",
     "output_type": "stream",
     "text": [
      "20 1985 5641 9548 14317 29155 32710 34134 35300 37289 40723 42297 49394 50015 53521 60021 61649 66004 66875 91895 93144 qsx\n"
     ]
    },
    {
     "ename": "ValueError",
     "evalue": "invalid literal for int() with base 10: '20 1985 5641 9548 14317 29155 32710 34134 35300 37289 40723 42297 49394 50015 53521 60021 61649 66004 66875 91895 93144 qsx'",
     "output_type": "error",
     "traceback": [
      "\u001b[1;31m---------------------------------------------------------------------------\u001b[0m",
      "\u001b[1;31mValueError\u001b[0m                                Traceback (most recent call last)",
      "\u001b[1;32m<ipython-input-3-1685d8497a2c>\u001b[0m in \u001b[0;36m<module>\u001b[1;34m\u001b[0m\n\u001b[0;32m      9\u001b[0m \u001b[1;33m\u001b[0m\u001b[0m\n\u001b[0;32m     10\u001b[0m \u001b[1;33m\u001b[0m\u001b[0m\n\u001b[1;32m---> 11\u001b[1;33m \u001b[0mn\u001b[0m\u001b[1;33m=\u001b[0m\u001b[0mint\u001b[0m\u001b[1;33m(\u001b[0m\u001b[0minput\u001b[0m\u001b[1;33m(\u001b[0m\u001b[1;33m)\u001b[0m\u001b[1;33m)\u001b[0m\u001b[1;33m\u001b[0m\u001b[1;33m\u001b[0m\u001b[0m\n\u001b[0m\u001b[0;32m     12\u001b[0m \u001b[0mli\u001b[0m\u001b[1;33m=\u001b[0m\u001b[1;33m[\u001b[0m\u001b[0mint\u001b[0m\u001b[1;33m(\u001b[0m\u001b[0mn\u001b[0m\u001b[1;33m)\u001b[0m\u001b[1;32mfor\u001b[0m \u001b[0mn\u001b[0m \u001b[1;32min\u001b[0m \u001b[0minput\u001b[0m\u001b[1;33m(\u001b[0m\u001b[1;33m)\u001b[0m\u001b[1;33m.\u001b[0m\u001b[0msplit\u001b[0m\u001b[1;33m(\u001b[0m\u001b[1;33m)\u001b[0m\u001b[1;33m]\u001b[0m\u001b[1;33m\u001b[0m\u001b[1;33m\u001b[0m\u001b[0m\n\u001b[0;32m     13\u001b[0m \u001b[0mx\u001b[0m\u001b[1;33m=\u001b[0m\u001b[0mint\u001b[0m\u001b[1;33m(\u001b[0m\u001b[0minput\u001b[0m\u001b[1;33m(\u001b[0m\u001b[1;33m)\u001b[0m\u001b[1;33m)\u001b[0m\u001b[1;33m\u001b[0m\u001b[1;33m\u001b[0m\u001b[0m\n",
      "\u001b[1;31mValueError\u001b[0m: invalid literal for int() with base 10: '20 1985 5641 9548 14317 29155 32710 34134 35300 37289 40723 42297 49394 50015 53521 60021 61649 66004 66875 91895 93144 qsx'"
     ]
    }
   ],
   "source": [
    "def Find(li,x,l):\n",
    "    if l<0:\n",
    "        return\n",
    "    print(l)\n",
    "    if li[l]<=x:\n",
    "        print(li[l])\n",
    "        return\n",
    "    Find(li,x,l-1)\n",
    "\n",
    "\n",
    "n=int(input())\n",
    "li=[int(n)for n in input().split()]\n",
    "x=int(input())\n",
    "mid=(0+len(li))//2\n",
    "if li[mid]<x:\n",
    "    Find(li[mid+1:],x,len(li)-1)\n",
    "elif li[mid]>x:\n",
    "    Find(li[0:mid],x,mid-1)\n",
    "else:\n",
    "    print(li[mid])"
   ]
  },
  {
   "cell_type": "code",
   "execution_count": 23,
   "metadata": {},
   "outputs": [
    {
     "name": "stdout",
     "output_type": "stream",
     "text": [
      "10 4158 11890 20678 43239 45342 49186 49330 62296 67527 99808 \n",
      "90112\n",
      "10 0\n",
      "5\n",
      "49186\n",
      "10 5\n",
      "7\n",
      "62296\n",
      "10 7\n",
      "8\n",
      "67527\n",
      "67527\n"
     ]
    }
   ],
   "source": [
    "def Find(li,x,s,e):\n",
    "    if s>=e:\n",
    "        return\n",
    "    print(e,s)\n",
    "    mid =(e+s)//2\n",
    "    print(mid)\n",
    "    print(li[mid])\n",
    "    if li[mid]<=x:\n",
    "        if li[mid]==li[len(li)-1]:\n",
    "            print(li[mid])\n",
    "            return\n",
    "        if li[mid+1]<=x:\n",
    "            Find(li,x,mid,e)\n",
    "        if li[mid+1]>x:\n",
    "            print(li[mid])\n",
    "            return\n",
    "    if li[mid]>x:\n",
    "        if mid==0:\n",
    "            return\n",
    "        if li[mid-1]>x:\n",
    "            Find(li,x,s,mid)\n",
    "        if li[mid-1]<x:\n",
    "            print(li[mid-1])\n",
    "            return\n",
    "from sys import setrecursionlimit\n",
    "setrecursionlimit(11000)\n",
    "#n=int(input())\n",
    "li=[int(n)for n in input().split()]\n",
    "x=int(input())\n",
    "li=li[1:]\n",
    "Find(li,x,0,len(li))"
   ]
  }
 ],
 "metadata": {
  "kernelspec": {
   "display_name": "Python 3",
   "language": "python",
   "name": "python3"
  },
  "language_info": {
   "codemirror_mode": {
    "name": "ipython",
    "version": 3
   },
   "file_extension": ".py",
   "mimetype": "text/x-python",
   "name": "python",
   "nbconvert_exporter": "python",
   "pygments_lexer": "ipython3",
   "version": "3.7.3"
  }
 },
 "nbformat": 4,
 "nbformat_minor": 2
}
