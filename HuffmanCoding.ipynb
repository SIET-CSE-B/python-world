{
 "cells": [
  {
   "cell_type": "code",
   "execution_count": null,
   "metadata": {},
   "outputs": [],
   "source": [
    "class huffmancoding:\n",
    "    def __init__(self,path):\n",
    "        self.path=path\n",
    "    def make_freq_dict(self,text):\n",
    "        freq_dict={}\n",
    "        for i in text:\n",
    "            if i not in freq_dict:\n",
    "                freq_dict[i]=0\n",
    "            freq_dict[i]+=1\n",
    "        return freq_dict\n",
    "    def compress(self):\n",
    "        pass"
   ]
  }
 ],
 "metadata": {
  "kernelspec": {
   "display_name": "Python 3",
   "language": "python",
   "name": "python3"
  },
  "language_info": {
   "codemirror_mode": {
    "name": "ipython",
    "version": 3
   },
   "file_extension": ".py",
   "mimetype": "text/x-python",
   "name": "python",
   "nbconvert_exporter": "python",
   "pygments_lexer": "ipython3",
   "version": "3.8.3"
  }
 },
 "nbformat": 4,
 "nbformat_minor": 4
}
