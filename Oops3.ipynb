{
 "cells": [
  {
   "cell_type": "code",
   "execution_count": 2,
   "metadata": {},
   "outputs": [
    {
     "name": "stdout",
     "output_type": "stream",
     "text": [
      "function 1 called\n"
     ]
    }
   ],
   "source": [
    "from abc import ABC,abstractmethod\n",
    "\n",
    "class A(ABC):\n",
    "\n",
    "    @abstractmethod\n",
    "    def fun1(self):\n",
    "        pass\n",
    "\n",
    "    @abstractmethod\n",
    "    def fun2(self):\n",
    "        pass\n",
    "\n",
    "class B(A):\n",
    "\n",
    "    def fun1(self):\n",
    "        print(\"function 1 called\")\n",
    "\n",
    "    def fun2(self):\n",
    "        print(\"function 2 called\")\n",
    "o = B()\n",
    "o.fun1()"
   ]
  },
  {
   "cell_type": "code",
   "execution_count": 1,
   "metadata": {},
   "outputs": [
    {
     "name": "stdout",
     "output_type": "stream",
     "text": [
      "10\n",
      "0\n"
     ]
    },
    {
     "ename": "ZeroDivisionError",
     "evalue": "division by zero",
     "output_type": "error",
     "traceback": [
      "\u001b[1;31m---------------------------------------------------------------------------\u001b[0m",
      "\u001b[1;31mZeroDivisionError\u001b[0m                         Traceback (most recent call last)",
      "\u001b[1;32m<ipython-input-1-4974445c39a7>\u001b[0m in \u001b[0;36m<module>\u001b[1;34m\u001b[0m\n\u001b[0;32m      2\u001b[0m \u001b[0mnum\u001b[0m\u001b[1;33m=\u001b[0m\u001b[0mint\u001b[0m\u001b[1;33m(\u001b[0m\u001b[0minput\u001b[0m\u001b[1;33m(\u001b[0m\u001b[1;33m)\u001b[0m\u001b[1;33m)\u001b[0m\u001b[1;33m\u001b[0m\u001b[1;33m\u001b[0m\u001b[0m\n\u001b[0;32m      3\u001b[0m \u001b[0mden\u001b[0m\u001b[1;33m=\u001b[0m\u001b[0mint\u001b[0m\u001b[1;33m(\u001b[0m\u001b[0minput\u001b[0m\u001b[1;33m(\u001b[0m\u001b[1;33m)\u001b[0m\u001b[1;33m)\u001b[0m\u001b[1;33m\u001b[0m\u001b[1;33m\u001b[0m\u001b[0m\n\u001b[1;32m----> 4\u001b[1;33m \u001b[0mprint\u001b[0m\u001b[1;33m(\u001b[0m\u001b[0mnum\u001b[0m\u001b[1;33m/\u001b[0m\u001b[0mden\u001b[0m\u001b[1;33m)\u001b[0m\u001b[1;33m\u001b[0m\u001b[1;33m\u001b[0m\u001b[0m\n\u001b[0m",
      "\u001b[1;31mZeroDivisionError\u001b[0m: division by zero"
     ]
    }
   ],
   "source": [
    "#Errors&Exceptions\n",
    "num=int(input())\n",
    "den=int(input())\n",
    "print(num/den)"
   ]
  },
  {
   "cell_type": "code",
   "execution_count": 2,
   "metadata": {},
   "outputs": [
    {
     "name": "stdout",
     "output_type": "stream",
     "text": [
      "2\n",
      "ab\n",
      "one of them is string\n"
     ]
    }
   ],
   "source": [
    "try:\n",
    "    n=int(input())\n",
    "    den=int(input())\n",
    "    print(n/den)\n",
    "except ValueError:\n",
    "    print(\"one of them is string\")"
   ]
  },
  {
   "cell_type": "code",
   "execution_count": 3,
   "metadata": {},
   "outputs": [
    {
     "name": "stdout",
     "output_type": "stream",
     "text": [
      "10\n",
      "0\n",
      "One cant divide by 0\n"
     ]
    }
   ],
   "source": [
    "try:\n",
    "    n=int(input())\n",
    "    den=int(input())\n",
    "    print(n/den)\n",
    "except ValueError:\n",
    "    print(\"one of them is string\")\n",
    "except ZeroDivisionError:\n",
    "    print(\"One cant divide by 0\")"
   ]
  },
  {
   "cell_type": "code",
   "execution_count": null,
   "metadata": {},
   "outputs": [],
   "source": [
    "try:\n",
    "    a = 10\n",
    "    b = 0\n",
    "    print(d)\n",
    "    c = a/b\n",
    "except NameError:\n",
    "    print('Name Error occured')\n",
    "except ZeroDivisionError:\n",
    "    print(‘Zero Division Error occured’)"
   ]
  },
  {
   "cell_type": "code",
   "execution_count": 7,
   "metadata": {},
   "outputs": [
    {
     "name": "stdout",
     "output_type": "stream",
     "text": [
      "50\n",
      "0\n",
      "One cant divide by 0\n"
     ]
    }
   ],
   "source": [
    "class ZeroDenomError(ZeroDivisionError):\n",
    "    pass\n",
    "try:\n",
    "    n=int(input())\n",
    "    den=int(input())\n",
    "    if den==0:\n",
    "        raise ZeroDenomError()\n",
    "    print(n/den)\n",
    "except ValueError:\n",
    "    print(\"one of them is string\")\n",
    "\n",
    "except ZeroDenomError:\n",
    "    print(\"The denom is zero\")\n",
    "except ZeroDivisionError:\n",
    "    print(\"One cant divide by 0\")"
   ]
  },
  {
   "cell_type": "code",
   "execution_count": 10,
   "metadata": {},
   "outputs": [
    {
     "data": {
      "text/plain": [
       "'A'"
      ]
     },
     "execution_count": 10,
     "metadata": {},
     "output_type": "execute_result"
    }
   ],
   "source": [
    "x=chr(65)\n",
    "x"
   ]
  }
 ],
 "metadata": {
  "kernelspec": {
   "display_name": "Python 3",
   "language": "python",
   "name": "python3"
  },
  "language_info": {
   "codemirror_mode": {
    "name": "ipython",
    "version": 3
   },
   "file_extension": ".py",
   "mimetype": "text/x-python",
   "name": "python",
   "nbconvert_exporter": "python",
   "pygments_lexer": "ipython3",
   "version": "3.7.3"
  }
 },
 "nbformat": 4,
 "nbformat_minor": 2
}
