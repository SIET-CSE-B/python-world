{
 "cells": [
  {
   "cell_type": "code",
   "execution_count": 41,
   "metadata": {},
   "outputs": [
    {
     "ename": "ValueError",
     "evalue": "invalid literal for int() with base 10: ''",
     "output_type": "error",
     "traceback": [
      "\u001b[1;31m---------------------------------------------------------------------------\u001b[0m",
      "\u001b[1;31mValueError\u001b[0m                                Traceback (most recent call last)",
      "\u001b[1;32m<ipython-input-41-8ae23f2813ce>\u001b[0m in \u001b[0;36m<module>\u001b[1;34m\u001b[0m\n\u001b[1;32m----> 1\u001b[1;33m \u001b[0mx\u001b[0m\u001b[1;33m,\u001b[0m\u001b[0mn\u001b[0m\u001b[1;33m=\u001b[0m\u001b[0mint\u001b[0m\u001b[1;33m(\u001b[0m\u001b[0minput\u001b[0m\u001b[1;33m(\u001b[0m\u001b[1;33m)\u001b[0m\u001b[1;33m)\u001b[0m\u001b[1;33m,\u001b[0m\u001b[0mint\u001b[0m\u001b[1;33m(\u001b[0m\u001b[0minput\u001b[0m\u001b[1;33m(\u001b[0m\u001b[1;33m)\u001b[0m\u001b[1;33m)\u001b[0m\u001b[1;33m\u001b[0m\u001b[1;33m\u001b[0m\u001b[0m\n\u001b[0m\u001b[0;32m      2\u001b[0m \u001b[0mprint\u001b[0m\u001b[1;33m(\u001b[0m\u001b[1;34m\"x raised to power n is %d\"\u001b[0m\u001b[1;33m%\u001b[0m\u001b[1;33m(\u001b[0m\u001b[0mx\u001b[0m\u001b[1;33m**\u001b[0m\u001b[0mn\u001b[0m\u001b[1;33m)\u001b[0m\u001b[1;33m)\u001b[0m\u001b[1;33m\u001b[0m\u001b[1;33m\u001b[0m\u001b[0m\n",
      "\u001b[1;31mValueError\u001b[0m: invalid literal for int() with base 10: ''"
     ]
    }
   ],
   "source": [
    "  x,n=int(input()),int(input())\n",
    "  print(\"x raised to power n is %d\"%(x**n))"
   ]
  },
  {
   "cell_type": "code",
   "execution_count": null,
   "metadata": {},
   "outputs": [],
   "source": []
  },
  {
   "cell_type": "code",
   "execution_count": null,
   "metadata": {},
   "outputs": [
    {
     "data": {
      "text/plain": [
       "[1, [[1], [2], [3]], 2, [[1, 2], [1, 3], [2, 3]], 3, [[1, 2, 3]]]"
      ]
     },
     "execution_count": 14,
     "metadata": {},
     "output_type": "execute_result"
    }
   ],
   "source": [
    "import itertools\n",
    "\n",
    "lst = [1, 2, 3]\n",
    "combs = []\n",
    "\n",
    "for i in range(1, len(lst)+1):\n",
    "    combs.append(i)\n",
    "    els = [list(x) for x in itertools.combinations(lst, i)]\n",
    "    combs.append(els)\n",
    "combs"
   ]
  },
  {
   "cell_type": "code",
   "execution_count": null,
   "metadata": {},
   "outputs": [
    {
     "data": {
      "text/plain": [
       "[1, 2, 2, 3, 4]"
      ]
     },
     "execution_count": 18,
     "metadata": {},
     "output_type": "execute_result"
    }
   ],
   "source": [
    "li=[1,2,3,4,2]\n",
    "li.sort()\n",
    "li"
   ]
  },
  {
   "cell_type": "code",
   "execution_count": null,
   "metadata": {},
   "outputs": [
    {
     "name": "stdout",
     "output_type": "stream",
     "text": [
      "[158, 148, 147, 142, 139, 137, 132, 131, 129, 128, 128, 123, 123, 121, 121, 118, 118, 117, 113, 113, 112, 112, 112, 111, 110, 109, 107, 107, 105, 104, 102, 102, 102, 102, 101, 100, 99, 98, 97, 96, 95, 94, 94, 93, 93, 93, 92, 91, 91, 91, 88, 88, 86, 86, 86, 84, 83, 83, 83, 82, 82, 81, 81, 80, 78, 77, 77, 76, 76, 75, 75, 75, 74, 72, 72, 72, 70, 70, 67, 67, 67, 66, 65, 65, 65, 64, 64, 63, 62, 61, 60, 59, 58, 57, 56, 56, 56, 56, 54, 53, 51, 51, 49, 48, 47, 46, 46, 46, 45, 45, 41, 40, 40, 37, 37, 35, 35, 30, 30, 29, 27, 26, 21, 19, 16, 11, 10]\n",
      "48\n"
     ]
    }
   ],
   "source": [
    "import itertools\n",
    "def weightCapacity(weights, maxCapacity):\n",
    "    \n",
    "    resultl = [c for i in range(len(weights)) for c in itertools.combinations(weights, i+1)]\n",
    "    result=[]\n",
    "    #print(resultl,result)\n",
    "    srt(resultl,result)\n",
    "    printl(result,maxCapacity)\n",
    "\n",
    "def srt(resultl,result):\n",
    "    for i in resultl:\n",
    "        result.append(sum(i))\n",
    "\n",
    "def printl(result,maxCapacity):\n",
    "    result.sort(reverse=True)\n",
    "    print(result)\n",
    "    for i in result:\n",
    "        if i<=maxCapacity:\n",
    "            print(i)\n",
    "            break\n",
    "weights= [int(x) for x in input().split()]\n",
    "maxCapacity=49\n",
    "weightCapacity(weights,maxCapacity)"
   ]
  },
  {
   "cell_type": "code",
   "execution_count": null,
   "metadata": {},
   "outputs": [
    {
     "data": {
      "text/plain": [
       "0"
      ]
     },
     "execution_count": 70,
     "metadata": {},
     "output_type": "execute_result"
    }
   ],
   "source": [
    "import itertools\n",
    "def maxPairs(skillLevel, minDiff):\n",
    "    # Write your code here\n",
    "    pairli = itertools.combinations(skillLevel,2)\n",
    "  \n",
    "# printing the elements belonging to permutation \n",
    "    pair= list(pairli)\n",
    "    result=[]\n",
    "    diff(pair, result)\n",
    "    #print(pair)\n",
    "    return printl(result,minDiff)\n",
    "\n",
    "def diff(pair,result):\n",
    "    for i in pair:\n",
    "        result.append(max(i)-min(i))\n",
    "        while i in pair:\n",
    "            pair.remove(i)\n",
    "\n",
    "def printl(result,minDiff):\n",
    "    count=0\n",
    "    #print(result)\n",
    "    for i in result:\n",
    "        if i<minDiff:\n",
    "            continue\n",
    "        count=count+1\n",
    "    return count\n",
    "\n",
    "skillLevel=[int(x) for x in input().split()]\n",
    "minDiff=int(input())\n",
    "maxPairs(skillLevel,minDiff)"
   ]
  },
  {
   "cell_type": "code",
   "execution_count": null,
   "metadata": {},
   "outputs": [
    {
     "data": {
      "text/plain": [
       "[1, 3, 2]"
      ]
     },
     "execution_count": 67,
     "metadata": {},
     "output_type": "execute_result"
    }
   ],
   "source": [
    "li=[1,2,3,2,]\n",
    "li.remove(2)\n",
    "li"
   ]
  },
  {
   "cell_type": "code",
   "execution_count": null,
   "metadata": {},
   "outputs": [
    {
     "data": {
      "text/plain": [
       "[1, 3]"
      ]
     },
     "execution_count": 5,
     "metadata": {},
     "output_type": "execute_result"
    }
   ],
   "source": [
    "dict={1:2,3:4}\n",
    "li=list(dict.keys())\n"
   ]
  },
  {
   "cell_type": "code",
   "execution_count": null,
   "metadata": {},
   "outputs": [],
   "source": [
    "# Python3 program to find the minimum\n",
    "# number of colors needed to color\n",
    "# the graph\n",
    "from collections import deque\n",
    "\n",
    "# Function to count the minimum\n",
    "# number of color required\n",
    "def minimumColors(n,s,v):\n",
    "\n",
    "\t# Create array of vectors\n",
    "\t# to make adjacency list\n",
    "\tadj = [[] for i in range(N)]\n",
    "\n",
    "\t# Intialise colors array to 1\n",
    "\t# and count array to 0\n",
    "\tcount = [0]*N\n",
    "\tcolors = [1]*(N)\n",
    "\n",
    "\t# Create adjacency list of\n",
    "\t# a graph\n",
    "\tfor i in range(N):\n",
    "\t\tadj[V[i] - 1].append(U[i] - 1)\n",
    "\t\tcount[U[i] - 1] += 1\n",
    "\n",
    "\t# Declare queue Q\n",
    "\tQ = deque()\n",
    "\n",
    "\t# Traverse count[] and insert\n",
    "\t# in Q if count[i] = 0\n",
    "\tfor i in range(N):\n",
    "\t\tif (count[i] == 0):\n",
    "\t\t\tQ.append(i)\n",
    "\n",
    "\t# Traverse queue and update\n",
    "\t# the count of colors\n",
    "\t# adjacent node\n",
    "\twhile len(Q) > 0:\n",
    "\t\tu = Q.popleft()\n",
    "\n",
    "\t\t# Traverse node u\n",
    "\t\tfor x in adj[u]:\n",
    "\t\t\tcount[x] -= 1\n",
    "\n",
    "\t\t\t# If count[x] = 0\n",
    "\t\t\t# insert in Q\n",
    "\t\t\tif (count[x] == 0):\n",
    "\t\t\t\tQ.append(x)\n",
    "\n",
    "\t\t\t# If colors of child\n",
    "\t\t\t# node is less than\n",
    "\t\t\t# parent node, update\n",
    "\t\t\t# the count by 1\n",
    "\t\t\tif (colors[x] <= colors[u]):\n",
    "\t\t\t\tcolors[x] = 1 + colors[u]\n",
    "\n",
    "\t# Stores the minimumColors\n",
    "\t# requires to color the graph.\n",
    "\tminColor = -1\n",
    "\n",
    "\t# Find the maximum of colors[]\n",
    "\tfor i in range(N):\n",
    "\t\tminColor = max(minColor, colors[i])\n",
    "\n",
    "\t# Print the minimum no. of\n",
    "\t# colors required.\n",
    "\tprint(minColor)\n",
    "\n",
    "# Driver function\n",
    "\n"
   ]
  },
  {
   "cell_type": "code",
   "execution_count": null,
   "metadata": {},
   "outputs": [
    {
     "name": "stdout",
     "output_type": "stream",
     "text": [
      "0 1 1 3\n",
      "1\n",
      "2 3 1 2\n",
      "3 4 2 4\n",
      "4\n",
      "5 6 1 2\n",
      "3\n"
     ]
    }
   ],
   "source": [
    "#min\n",
    "def minimumColors(n,s,v,i,j,count):\n",
    "    l=len(v)\n",
    "    ma=max(v)\n",
    "    if j>=l:\n",
    "        print(count-1)\n",
    "        return\n",
    "    if v[0]==min(v) and v[l-1]==max(v) and  v[l-1] - v[0] < s:\n",
    "        print('1')\n",
    "    #print(i,j,v[i],v[j]) \n",
    "    while v[j]-v[i]>=s and v[j+1]-v[i]<s:\n",
    "        #print(j)\n",
    "        j=j+1\n",
    "    \n",
    "    count=count+1\n",
    "    i=j\n",
    "    j=i+1\n",
    "    minimumColors(n,s,v,i,j,count)\n",
    "    \n",
    "\n",
    "\n",
    "\n",
    "\n",
    "\n",
    "\n",
    "\n",
    "\n",
    "\n",
    "\n",
    "\n",
    "\n",
    "\n",
    "\n",
    "\n",
    "\n",
    "\n",
    "n,s=[int(x) for x in input().split()]\n",
    "v=[int(i) for i in input().split()]\n",
    "i=0\n",
    "j=1\n",
    "count=0\n",
    "minimumColors(n,s,v,i,j,count)"
   ]
  },
  {
   "cell_type": "code",
   "execution_count": null,
   "metadata": {},
   "outputs": [
    {
     "ename": "ValueError",
     "evalue": "invalid literal for int() with base 10: '7 2 '",
     "output_type": "error",
     "traceback": [
      "\u001b[1;31m---------------------------------------------------------------------------\u001b[0m",
      "\u001b[1;31mValueError\u001b[0m                                Traceback (most recent call last)",
      "\u001b[1;32m<ipython-input-17-652c9a9de953>\u001b[0m in \u001b[0;36m<module>\u001b[1;34m\u001b[0m\n\u001b[0;32m     42\u001b[0m \u001b[1;33m\u001b[0m\u001b[0m\n\u001b[0;32m     43\u001b[0m \u001b[1;33m\u001b[0m\u001b[0m\n\u001b[1;32m---> 44\u001b[1;33m \u001b[0mtest\u001b[0m\u001b[1;33m=\u001b[0m\u001b[0mint\u001b[0m\u001b[1;33m(\u001b[0m\u001b[0minput\u001b[0m\u001b[1;33m(\u001b[0m\u001b[1;33m)\u001b[0m\u001b[1;33m)\u001b[0m\u001b[1;33m\u001b[0m\u001b[1;33m\u001b[0m\u001b[0m\n\u001b[0m\u001b[0;32m     45\u001b[0m \u001b[1;32mfor\u001b[0m \u001b[0mi\u001b[0m \u001b[1;32min\u001b[0m \u001b[0mrange\u001b[0m\u001b[1;33m(\u001b[0m\u001b[0mtest\u001b[0m\u001b[1;33m)\u001b[0m\u001b[1;33m:\u001b[0m\u001b[1;33m\u001b[0m\u001b[1;33m\u001b[0m\u001b[0m\n\u001b[0;32m     46\u001b[0m     \u001b[0mn\u001b[0m\u001b[1;33m,\u001b[0m\u001b[0mx\u001b[0m\u001b[1;33m=\u001b[0m\u001b[1;33m[\u001b[0m\u001b[0mint\u001b[0m\u001b[1;33m(\u001b[0m\u001b[0mk\u001b[0m\u001b[1;33m)\u001b[0m \u001b[1;32mfor\u001b[0m \u001b[0mk\u001b[0m \u001b[1;32min\u001b[0m \u001b[0minput\u001b[0m\u001b[1;33m(\u001b[0m\u001b[1;33m)\u001b[0m\u001b[1;33m.\u001b[0m\u001b[0msplit\u001b[0m\u001b[1;33m(\u001b[0m\u001b[1;33m)\u001b[0m\u001b[1;33m]\u001b[0m\u001b[1;33m\u001b[0m\u001b[1;33m\u001b[0m\u001b[0m\n",
      "\u001b[1;31mValueError\u001b[0m: invalid literal for int() with base 10: '7 2 '"
     ]
    }
   ],
   "source": [
    "# cook your dish here\n",
    "def check(A,n,x):\n",
    "    dict={}\n",
    "    for i in A:\n",
    "        if i in dict:\n",
    "            dict[i]=dict[i]+1\n",
    "        else:\n",
    "            dict[i]=1\n",
    "    key=list(dict.keys())\n",
    "    total=len(key)\n",
    "    count=0\n",
    "    te=0\n",
    "    if n==x:\n",
    "        return 0\n",
    "    if total==1:\n",
    "        return 1\n",
    "    s=0\n",
    "    while te!=x:\n",
    "        if count==total:\n",
    "            count=0\n",
    "        temp=key[count]\n",
    "        if dict[temp]==1 and s==0:\n",
    "            del dict[temp]\n",
    "            dict[temp]=1\n",
    "            s=1\n",
    "        dict[temp]=dict[temp]-1\n",
    "        te=te+1\n",
    "        count=count+1\n",
    "        \n",
    "    k=0\n",
    "    for i in dict:\n",
    "        if dict[i]==0:\n",
    "            continue\n",
    "        k=k+1\n",
    "    return k\n",
    "    \n",
    "\n",
    "\n",
    "\n",
    "\n",
    "\n",
    "\n",
    "\n",
    "test=int(input())\n",
    "for i in range(test):\n",
    "    n,x=[int(k) for k in input().split()]\n",
    "    A=[int(y)for y in input().split()]\n",
    "    print(check(A,n,x))"
   ]
  },
  {
   "cell_type": "code",
   "execution_count": null,
   "metadata": {},
   "outputs": [
    {
     "name": "stdout",
     "output_type": "stream",
     "text": [
      "18\n"
     ]
    }
   ],
   "source": [
    "# cook your dish here\n",
    "def check(a,b,r):\n",
    "    track=[]\n",
    "    dict={}\n",
    "    for i in a:\n",
    "        if i in dict:\n",
    "            dict[i]=dict[i]+1\n",
    "        else:\n",
    "            dict[i]=1\n",
    "    key=list(dict.keys())\n",
    "    if len(key)==1:\n",
    "        return b[0]\n",
    "    inc=0\n",
    "    if len(a)==1:\n",
    "        return b[0]\n",
    "    for i in range(len(a)):\n",
    "        inc=inc+b[i-1]\n",
    "        track.append(inc)\n",
    "        temp=a[i]\n",
    "        if i+i<len(a) and  temp+1 != a[i+1]:\n",
    "            #print('p',i+1,a[i])\n",
    "            j=temp\n",
    "            while j!=a[i+1]:\n",
    "                r=r+1\n",
    "                j=j+1\n",
    "        inc=inc-r\n",
    "    return max(track)\n",
    "\n",
    "\n",
    "\n",
    "\n",
    "\n",
    "\n",
    "\n",
    "test=int(input())\n",
    "for i in range(test):\n",
    "    n,r=[int(x) for x in input().split()]\n",
    "    a=[int(y) for y in input().split()]\n",
    "    b=[int(j) for j in input().split()]\n",
    "    print(check(a,b,r))"
   ]
  },
  {
   "cell_type": "code",
   "execution_count": null,
   "metadata": {},
   "outputs": [
    {
     "data": {
      "text/plain": [
       "[1, 32, 3]"
      ]
     },
     "execution_count": 25,
     "metadata": {},
     "output_type": "execute_result"
    }
   ],
   "source": [
    "li=[1,32,3]\n",
    "li2=li.copy()\n",
    "li2.sort()\n",
    "li"
   ]
  },
  {
   "cell_type": "code",
   "execution_count": null,
   "metadata": {},
   "outputs": [
    {
     "name": "stdout",
     "output_type": "stream",
     "text": [
      "['a', 'b', 'c', 'd', 'e']\n",
      "--------e--------\n",
      "------e-d-e------\n",
      "----e-d-c-d-e----\n",
      "--e-d-c-b-c-d-e--\n",
      "e-d-c-b-a-b-c-d-e\n",
      "--e-d-c-b-c-d-e--\n",
      "----e-d-c-d-e----\n",
      "------e-d-e------\n",
      "--------e--------\n"
     ]
    }
   ],
   "source": [
    "def print_rangoli(n):\n",
    "    alpha = \"abcdefghijklmnopqrstuvwxyz\"\n",
    "    data = [alpha[i] for i in range(n)]\n",
    "    print(data)\n",
    "    items = list(range(n))\n",
    "    items = items[:-1]+items[::-1]\n",
    "    for i in items:\n",
    "        temp = data[-(i+1):]\n",
    "        row = temp[::-1]+temp[1:]\n",
    "        print(\"-\".join(row).center(n*4-3, \"-\"))\n",
    "\n",
    "\n",
    "n = int(input())\n",
    "print_rangoli(n)"
   ]
  },
  {
   "cell_type": "code",
   "execution_count": null,
   "metadata": {},
   "outputs": [
    {
     "name": "stdout",
     "output_type": "stream",
     "text": [
      "2\n"
     ]
    }
   ],
   "source": [
    "x,n,s=int(input()),int(input()),int(input())\n",
    "print(n-x)"
   ]
  },
  {
   "cell_type": "code",
   "execution_count": null,
   "metadata": {},
   "outputs": [
    {
     "name": "stdout",
     "output_type": "stream",
     "text": [
      "Zero\n"
     ]
    }
   ],
   "source": [
    "num=int(input())\n",
    "if num>0:\n",
    "    print(\"Positive\")\n",
    "elif num<0:\n",
    "    print(\"Negative\")\n",
    "else:\n",
    "    print(\"Zero\")"
   ]
  },
  {
   "cell_type": "code",
   "execution_count": null,
   "metadata": {},
   "outputs": [
    {
     "name": "stdout",
     "output_type": "stream",
     "text": [
      "15\n"
     ]
    }
   ],
   "source": [
    "#sum of numbers from 1 to n\n",
    "n=int(input())\n",
    "temp=0\n",
    "for i in range(1,n+1):\n",
    "    temp=temp+i\n",
    "print(temp)"
   ]
  },
  {
   "cell_type": "code",
   "execution_count": null,
   "metadata": {},
   "outputs": [
    {
     "name": "stdout",
     "output_type": "stream",
     "text": [
      "110\n"
     ]
    }
   ],
   "source": [
    "#sum of even numbers from 1 to n\n",
    "n=int(input())\n",
    "temp=0\n",
    "for i in range(2,n+1,2):\n",
    "    temp=temp+i\n",
    "print(temp)"
   ]
  },
  {
   "cell_type": "code",
   "execution_count": null,
   "metadata": {},
   "outputs": [
    {
     "name": "stdout",
     "output_type": "stream",
     "text": [
      "2   -16\n",
      "11   -11\n",
      "20   -6\n",
      "29   -1\n",
      "38   3\n",
      "47   8\n",
      "56   13\n"
     ]
    }
   ],
   "source": [
    "startf=int(input())\n",
    "endf=int(input())\n",
    "gap= int(input())\n",
    "for i in range(startf,endf+1,gap):\n",
    "    print(i,\" \",int((i-32)/1.8))"
   ]
  },
  {
   "cell_type": "code",
   "execution_count": null,
   "metadata": {},
   "outputs": [
    {
     "name": "stdout",
     "output_type": "stream",
     "text": [
      "Enter 1 for addition,2 for sub, 3 for prodcut, 4 for quotient, 5 for remainder\n",
      "quotient of 10 / 5 = 2\n"
     ]
    }
   ],
   "source": [
    "def sum():\n",
    "    num1,num2=int(input()),int(input())\n",
    "    print(\"Addition of {} + {} = {}\".format(num1,num2,num1+num2))\n",
    "\n",
    "def diff():\n",
    "    num1,num2=int(input()),int(input())\n",
    "    print(\"Subtration of {} - {} = {}\".format(num1,num2,num1-num2))\n",
    "\n",
    "def pro():\n",
    "    num1,num2=int(input()),int(input())\n",
    "    print(\"product of {} * {} = {}\".format(num1,num2,num1*num2))\n",
    "\n",
    "def rem():\n",
    "    num1,num2=int(input()),int(input())\n",
    "    print(\"Remainder of {} / {} = {}\".format(num1,num2,num1%num2))\n",
    "\n",
    "def quo():\n",
    "    num1,num2=int(input()),int(input())\n",
    "    print(\"quotient of {} / {} = {}\".format(num1,num2,num1//num2))\n",
    "\n",
    "\n",
    "print(\"Enter 1 for addition,2 for sub, 3 for prodcut, 4 for quotient, 5 for remainder\")\n",
    "number=int(input())\n",
    "if number==1: \n",
    "    sum()\n",
    "\n",
    "elif number==2:\n",
    "    diff()\n",
    "\n",
    "elif number==3:\n",
    "    pro()\n",
    "\n",
    "elif number==4:\n",
    "    quo()\n",
    "\n",
    "elif number==5:\n",
    "    rem()\n",
    "\n",
    "else:\n",
    "    print(\"Invalid input\") "
   ]
  },
  {
   "cell_type": "code",
   "execution_count": null,
   "metadata": {},
   "outputs": [
    {
     "name": "stdout",
     "output_type": "stream",
     "text": [
      "*\n",
      " **\n",
      "  ***\n",
      "   ****\n",
      "  ***\n",
      " **\n",
      "*\n"
     ]
    }
   ],
   "source": [
    "#arrow\n",
    "lim=int(input())\n",
    "first=(lim//2)+1\n",
    "space=0\n",
    "i=1\n",
    "while i<=first:\n",
    "    j=1\n",
    "    spacetemp=1\n",
    "    while spacetemp<=space:\n",
    "        print(\" \",end='')\n",
    "        spacetemp=spacetemp+1\n",
    "    while j<=i:\n",
    "        print(\"*\",end='')\n",
    "        j=j+1\n",
    "    print()\n",
    "    i=i+1\n",
    "    space=space+1\n",
    "\n",
    "space=space-2\n",
    "\n",
    "#second half\n",
    "second=lim-first\n",
    "while second>0:\n",
    "    spacetemp=1\n",
    "    while spacetemp<=space:\n",
    "        print(\" \",end='')\n",
    "        spacetemp=spacetemp+1\n",
    "    j=1\n",
    "    while j<=second:\n",
    "        print(\"*\",end='')\n",
    "        j=j+1\n",
    "    print()\n",
    "    second=second-1\n",
    "    space=space-1"
   ]
  },
  {
   "cell_type": "code",
   "execution_count": null,
   "metadata": {},
   "outputs": [
    {
     "name": "stdout",
     "output_type": "stream",
     "text": [
      "1111\n",
      "000\n",
      "11\n",
      "0\n"
     ]
    }
   ],
   "source": [
    "lim=int(input())\n",
    "s=1\n",
    "while lim>0:\n",
    "    j=1\n",
    "    if s==1:\n",
    "        while j<=lim:\n",
    "            print(\"1\",end='')\n",
    "            j=j+1\n",
    "        s=0\n",
    "    else:\n",
    "        while j<=lim:\n",
    "            print(\"0\",end='')\n",
    "            j=j+1\n",
    "        s=1\n",
    "    print()\n",
    "    lim=lim-1"
   ]
  },
  {
   "cell_type": "code",
   "execution_count": null,
   "metadata": {},
   "outputs": [
    {
     "name": "stdout",
     "output_type": "stream",
     "text": [
      "123456\n",
      " 23456\n",
      "  3456\n",
      "   456\n",
      "    56\n",
      "     6\n",
      "     6\n",
      "    56\n",
      "   456\n",
      "  3456\n",
      " 23456\n",
      "123456\n"
     ]
    }
   ],
   "source": [
    "\"\"\"123456\n",
    "  23456\n",
    "    3456\n",
    "      456\n",
    "        56\n",
    "          6\n",
    "        56\n",
    "      456\n",
    "    3456\n",
    "  23456\n",
    "123456\"\"\"\n",
    "\n",
    "\n",
    "lim=int(input())\n",
    "#first\n",
    "space=0\n",
    "temp=1\n",
    "i=1\n",
    "while i<=lim:\n",
    "  spacetemp=0\n",
    "  while spacetemp<space:\n",
    "    print(\" \",end='')\n",
    "    spacetemp=spacetemp+1\n",
    "\n",
    "  j=temp\n",
    "  while j<=lim:\n",
    "    print(j,end='')\n",
    "    j=j+1\n",
    "  temp=temp+1\n",
    "  space=space+1\n",
    "  i=i+1\n",
    "  print()\n",
    "#second\n",
    "space=space-1\n",
    "temp=lim\n",
    "i=1\n",
    "while i<=lim:\n",
    "  spacetemp=0\n",
    "  while spacetemp<space:\n",
    "    print(\" \",end='')\n",
    "    spacetemp=spacetemp+1\n",
    "  j=temp\n",
    "  while j<=lim:\n",
    "    print(j,end='')\n",
    "    j=j+1\n",
    "  i=i+1\n",
    "  space=space-1\n",
    "  temp=temp-1\n",
    "  print()"
   ]
  },
  {
   "cell_type": "code",
   "execution_count": null,
   "metadata": {},
   "outputs": [
    {
     "name": "stdout",
     "output_type": "stream",
     "text": [
      "   *\n",
      "  ***\n",
      " *****\n",
      "*******\n",
      " *****\n",
      "  ***\n",
      "   *\n"
     ]
    }
   ],
   "source": [
    "lim=int(input())\n",
    "i=1\n",
    "space=lim//2\n",
    "while i<=lim:\n",
    "    j=1\n",
    "    spacetemp=0\n",
    "    while spacetemp<space:\n",
    "        print(\" \",end='')\n",
    "        spacetemp=spacetemp+1\n",
    "\n",
    "    while j<=i:\n",
    "        print(\"*\",end='')\n",
    "        j=j+1\n",
    "    print()\n",
    "    space=space-1\n",
    "    i=i+2\n",
    "#second\n",
    "i=i-4\n",
    "space=space+2\n",
    "#print(space)\n",
    "while i>0:\n",
    "    spacetemp=1\n",
    "    while spacetemp<=space:\n",
    "        print(\" \",end='')\n",
    "        spacetemp=spacetemp+1\n",
    "    j=1\n",
    "    while j<=i:\n",
    "        print(\"*\",end='')\n",
    "        j=j+1\n",
    "    print()\n",
    "    space=space+1\n",
    "    i=i-2"
   ]
  },
  {
   "cell_type": "code",
   "execution_count": null,
   "metadata": {},
   "outputs": [
    {
     "name": "stdout",
     "output_type": "stream",
     "text": [
      "4444444\n",
      "4333334\n",
      "4322234\n",
      "4321234\n",
      "4322234\n",
      "4333334\n",
      "4444444\n"
     ]
    }
   ],
   "source": [
    "lim=int(input())\n",
    "for i in range(1,lim+1):\n",
    "    temp=lim\n",
    "    for j in range(1,i):\n",
    "        print(temp,end='')\n",
    "        temp=temp-1\n",
    "    for j in range(1,(2*lim)-(2*i)+2):\n",
    "        print(lim-i+1,end='')\n",
    "    for j in range(1,i):\n",
    "        temp=temp+1\n",
    "        print(temp,end='')\n",
    "    print()\n",
    "for i in range((lim-1),0,-1):\n",
    "    temp=lim\n",
    "    for j in range(1,i):\n",
    "        print(temp,end='')\n",
    "        temp=temp-1\n",
    "    for j in range(1,(2*lim)-(2*i)+2):\n",
    "        print(lim-i+1,end='')\n",
    "    for j in range(1,i):\n",
    "        temp=temp+1\n",
    "        print(temp,end='')\n",
    "    print()"
   ]
  },
  {
   "cell_type": "code",
   "execution_count": null,
   "metadata": {},
   "outputs": [
    {
     "name": "stdout",
     "output_type": "stream",
     "text": [
      "12\n",
      "12\n"
     ]
    }
   ],
   "source": [
    "n=int(input())\n",
    "sv=1\n",
    "for i in range(1,n+1):\n",
    "    for j in range(sv,sv+n):\n",
    "        print(j,end='')\n",
    "    print()\n",
    "    if(i==(n+1)//2):\n",
    "        if n//2!=0:\n",
    "            sv=n*(n-2)+1\n",
    "        else:\n",
    "            sv=n*(n-1)+1\n",
    "    elif i>(n+1)//2:\n",
    "        sv=sv-2*n\n",
    "    else:\n",
    "        sv=sv+2*n"
   ]
  },
  {
   "cell_type": "code",
   "execution_count": null,
   "metadata": {},
   "outputs": [
    {
     "name": "stdout",
     "output_type": "stream",
     "text": [
      "Farenhiet=0, Celsius=-17\n",
      "Farenhiet=2, Celsius=-16\n",
      "Farenhiet=4, Celsius=-15\n",
      "Farenhiet=6, Celsius=-14\n",
      "Farenhiet=8, Celsius=-13\n",
      "Farenhiet=10, Celsius=-12\n",
      "Farenhiet=12, Celsius=-11\n",
      "Farenhiet=14, Celsius=-10\n",
      "Farenhiet=16, Celsius=-8\n",
      "Farenhiet=18, Celsius=-7\n",
      "Farenhiet=20, Celsius=-6\n"
     ]
    }
   ],
   "source": [
    "def cel(far):\n",
    "    return int(((far-32)/1.8))\n",
    "\n",
    "\n",
    "start,end,w=int(input()),int(input()),int(input())\n",
    "while start<=end:\n",
    "    print(\"Farenhiet={}, Celsius={}\".format(start,cel(start)))\n",
    "    start=start+w \n"
   ]
  },
  {
   "cell_type": "code",
   "execution_count": null,
   "metadata": {},
   "outputs": [
    {
     "name": "stdout",
     "output_type": "stream",
     "text": [
      "False\n"
     ]
    }
   ],
   "source": [
    "def fib(num):\n",
    "    a,b=0,1\n",
    "    if num==0 or num==1:\n",
    "        return True\n",
    "    for i in range(2,num+2):\n",
    "        temp=a+b\n",
    "        a=b\n",
    "        b=temp\n",
    "        if temp==num:\n",
    "            return True\n",
    "    return False\n",
    "\n",
    "num=int(input())\n",
    "print(fib(num))"
   ]
  },
  {
   "cell_type": "code",
   "execution_count": null,
   "metadata": {},
   "outputs": [
    {
     "name": "stdout",
     "output_type": "stream",
     "text": [
      "False\n"
     ]
    }
   ],
   "source": [
    "def palin(num):\n",
    "    r=0\n",
    "    temp=num\n",
    "    while num!=0:\n",
    "        d=num%10\n",
    "        r=r*10+d\n",
    "        num=num//10\n",
    "    if r==temp:\n",
    "        return True\n",
    "    return False\n",
    "\n",
    "initial=int(input())\n",
    "print(palin(initial))"
   ]
  },
  {
   "cell_type": "code",
   "execution_count": null,
   "metadata": {},
   "outputs": [
    {
     "name": "stdout",
     "output_type": "stream",
     "text": [
      "False\n"
     ]
    }
   ],
   "source": [
    "def Armstrong(x,n):\n",
    "    result=0\n",
    "    temp=n\n",
    "    while n!=0:\n",
    "        i=n%10\n",
    "        result=result+(i**x)\n",
    "        n=n//10\n",
    "    if result==temp:\n",
    "        return True\n",
    "    return False\n",
    "\n",
    "\n",
    "def digit(num):\n",
    "    temp=0\n",
    "    while num!=0:\n",
    "        temp=temp+1\n",
    "        num=num//10\n",
    "    return temp\n",
    "\n",
    "num=int(input())\n",
    "calc=digit(num)\n",
    "print(Armstrong(calc,num))"
   ]
  },
  {
   "cell_type": "code",
   "execution_count": null,
   "metadata": {},
   "outputs": [
    {
     "name": "stdout",
     "output_type": "stream",
     "text": [
      "4\n",
      "10\n"
     ]
    }
   ],
   "source": [
    "def check(li):\n",
    "    dic={}\n",
    "    temp=0\n",
    "    for i in li:\n",
    "        if i not in dic:\n",
    "            dic[i]=1\n",
    "        else:\n",
    "            dic[i]=dic[i]+1\n",
    "    for i in dic:\n",
    "        if dic[i]==1:\n",
    "            return i\n",
    "lim=int(input())\n",
    "for i in range(1,lim+1):\n",
    "    lim1=int(input())\n",
    "    li=[int(j) for j in input().split()]\n",
    "    print(check(li))"
   ]
  },
  {
   "cell_type": "code",
   "execution_count": null,
   "metadata": {},
   "outputs": [],
   "source": [
    "def inter(list1,list2): #intersection between 2 arrays\n",
    "\n",
    "    for i in list1:\n",
    "        if i in list2:\n",
    "            print(i,end=' ')\n",
    "    print()\n",
    "\n",
    "\n",
    "\n",
    "lim=int(input())\n",
    "while lim>0:\n",
    "    lim1=int(input())\n",
    "    \n",
    "    if lim1!=0:\n",
    "        list1=[int(j) for j in input().split()]\n",
    "    lim2=int(input())\n",
    "    if lim2!=0:\n",
    "        list2=[int(k) for k in input().split()]\n",
    "    if lim1!=0 and lim2!=0:\n",
    "        inter(list1,list2)\n",
    "\n",
    "    lim=lim-1"
   ]
  },
  {
   "cell_type": "code",
   "execution_count": null,
   "metadata": {},
   "outputs": [
    {
     "name": "stdout",
     "output_type": "stream",
     "text": [
      "1\n"
     ]
    }
   ],
   "source": [
    "def Pair(list,sum):\n",
    "    i=0\n",
    "    j=len(list)-1\n",
    "    count=0\n",
    "    while i<j:\n",
    "        temp=list[i]+list[j]\n",
    "\n",
    "        if temp>sum:\n",
    "            j=j-1\n",
    "        elif temp<sum:\n",
    "            i=i+1\n",
    "        else:\n",
    "            count=count+1\n",
    "            i=i+1\n",
    "            j=j-1\n",
    "    return count\n",
    "\n",
    "\n",
    "lim=int(input())\n",
    "while lim>0:\n",
    "    lim1=int(input())\n",
    "    \n",
    "    if lim1!=0:\n",
    "        list=[int(j) for j in input().split()]\n",
    "    sum=int(input())\n",
    "    if lim1==0:\n",
    "        print('0')\n",
    "        lim=lim-1\n",
    "        continue\n",
    "    list.sort()\n",
    "    print(Pair(list,sum))\n",
    "    lim=lim-1"
   ]
  },
  {
   "cell_type": "code",
   "execution_count": null,
   "metadata": {},
   "outputs": [
    {
     "name": "stdout",
     "output_type": "stream",
     "text": [
      "4\n",
      "[1, 2, 4, 56]\n"
     ]
    }
   ],
   "source": [
    "#BINARY SEARCH\n",
    "def bsearch(li,num):\n",
    "    i=0\n",
    "    e=len(li)-1\n",
    "    while i<e:\n",
    "        mid=e//2\n",
    "        if li[mid]==num:\n",
    "            return mid\n",
    "        elif li[mid]<num:\n",
    "            i=mid+1\n",
    "        else:\n",
    "            e=mid-1\n",
    "    return -1\n",
    "\n",
    "\n",
    "def sortl(li):\n",
    "    #bubble sort\n",
    "    i=0\n",
    "    while i<len(li):\n",
    "        j=i+1\n",
    "        while j<len(li):\n",
    "            if li[j]<li[i]:\n",
    "                temp=li[i]\n",
    "                li[i]=li[j]\n",
    "                li[j]=temp\n",
    "            j=j+1\n",
    "        i=i+1\n",
    "\n",
    "li=[int(x) for x in input().split()]\n",
    "num=int(input())\n",
    "print(num)\n",
    "sortl(li)\n",
    "print(li)\n",
    "print(bsearch(li,num))"
   ]
  },
  {
   "cell_type": "code",
   "execution_count": null,
   "metadata": {},
   "outputs": [
    {
     "name": "stdout",
     "output_type": "stream",
     "text": [
      "[1, 2, 2, 3, 3, 4, 5, 5, 5, 6, 45]\n"
     ]
    }
   ],
   "source": [
    "#bubble sort\n",
    "def sortb(li):\n",
    "    i=0\n",
    "    while i<len(li):\n",
    "        j=i+1\n",
    "        while j<len(li):\n",
    "            if li[j]<li[i]:\n",
    "                temp=li[i]\n",
    "                li[i]=li[j]\n",
    "                li[j]=temp\n",
    "            j=j+1\n",
    "        i=i+1\n",
    "\n",
    "li=[int(x) for x in input().split()]\n",
    "sortb(li)\n",
    "print(li)"
   ]
  },
  {
   "cell_type": "code",
   "execution_count": null,
   "metadata": {},
   "outputs": [
    {
     "name": "stdout",
     "output_type": "stream",
     "text": [
      "[1, 1, 2, 2, 3, 4, 4, 5, 5, 6, 6, 6, 6, 6, 6, 6, 7, 9, 13, 43, 45, 213, 312, 312, 455]\n"
     ]
    }
   ],
   "source": [
    "#insertion sort\n",
    "def sortl(li):\n",
    "    i=1\n",
    "    while i<len(li):\n",
    "        j=i-1\n",
    "        key=li[i]\n",
    "        while j>=0 and key<li[j]:\n",
    "            li[j+1]=li[j]\n",
    "            j=j-1\n",
    "        li[j+1]=key\n",
    "        i=i+1\n",
    "\n",
    "\n",
    "\n",
    "\n",
    "li=[int(x) for x in input().split()]\n",
    "sortl(li)\n",
    "print(li)"
   ]
  },
  {
   "cell_type": "code",
   "execution_count": null,
   "metadata": {},
   "outputs": [
    {
     "name": "stdout",
     "output_type": "stream",
     "text": [
      "[1, 2, 2, 2, 3, 3, 4, 5, 6, 11, 45, 45]\n",
      "[1, 2, 3, 3, 5, 5, 45, 123, 543]\n",
      "[1, 2, 2, 2, 3, 3, 4, 5, 6, 11, 45, 45, 1, 2, 3, 3, 5, 5, 45, 123, 543]\n",
      "2 1\n",
      "2 2\n",
      "2 2\n",
      "3 2\n",
      "3 3\n",
      "4 3\n",
      "5 4\n",
      "6 5\n",
      "11 6\n",
      "45 11\n",
      "45 45\n",
      "1 45\n",
      "2 45\n",
      "3 45\n",
      "3 45\n",
      "5 45\n",
      "5 45\n",
      "45 45\n",
      "123 45\n",
      "543 123\n",
      "[1, 1, 2, 2, 2, 2, 3, 3, 3, 3, 4, 5, 5, 5, 6, 11, 45, 45, 45, 123, 543]\n"
     ]
    }
   ],
   "source": [
    "#merge 2 sorted list\n",
    "#sorted 1 with buble and the other intersection\n",
    "\n",
    "def sort(li): #insertion\n",
    "    i=1\n",
    "    while i<len(li):\n",
    "        key=li[i]\n",
    "        j=i-1\n",
    "        while j>=0 and key<li[j]:\n",
    "            li[j+1]=li[j]\n",
    "            j=j-1\n",
    "        li[j+1]=key\n",
    "        i=i+1\n",
    "    return li\n",
    "\n",
    "def sort1(li1): #bubble sort\n",
    "    i=0\n",
    "    while i<len(li1):\n",
    "        j=i+1\n",
    "        while j<len(li1):\n",
    "            if li1[j]<li1[i]:\n",
    "                temp=li1[i]\n",
    "                li1[i]=li1[j]\n",
    "                li1[j]=temp\n",
    "            j=j+1\n",
    "        i=i+1\n",
    "    print(li1)\n",
    "\n",
    "def sort2(li2): #intersection\n",
    "    i=1\n",
    "    while i<len(li2):\n",
    "        j=i-1\n",
    "        key=li2[i]\n",
    "        while j>=0 and li2[j]>key:\n",
    "            li2[j+1]=li2[j]\n",
    "            j=j-1\n",
    "        li2[j+1]=key\n",
    "        i=i+1\n",
    "    print(li2)\n",
    "\n",
    "\n",
    "li1=[int(x) for x in input().split()]\n",
    "li2=[int(y) for y in input().split()]\n",
    "sort1(li1)\n",
    "sort2(li2)\n",
    "li=[]\n",
    "for j in li1:\n",
    "    li.append(j)\n",
    "for i in li2:\n",
    "    li.append(i)\n",
    "print(sort(li))"
   ]
  },
  {
   "cell_type": "code",
   "execution_count": null,
   "metadata": {},
   "outputs": [
    {
     "name": "stdout",
     "output_type": "stream",
     "text": [
      "0\n",
      "0 11 1 [5, 0, 7, 4, 8, 1, 3, 0, 7, 2, 0]\n",
      "0\n",
      "0 10 6 [5, 7, 4, 8, 1, 3, 0, 7, 2, 0]\n",
      "0\n",
      "0 9 8 [5, 7, 4, 8, 1, 3, 7, 2, 0]\n",
      "[5, 7, 4, 8, 1, 3, 7, 2, 0, 0, 0]\n"
     ]
    }
   ],
   "source": [
    "#zeroes at the end\n",
    "def zerol(li):\n",
    "    i=0\n",
    "    counter=0\n",
    "    while i<len(li):\n",
    "        if li[i]==0:\n",
    "            \n",
    "            print(li[i])\n",
    "            while i<len(li) and li[i]==0:\n",
    "                counter=counter+1\n",
    "                print(li[i],len(li),i,li)\n",
    "                li.pop(i)\n",
    "                \n",
    "        i=i+1\n",
    "    #counter=counter-1\n",
    "    while counter!=0:\n",
    "        li.append(0)\n",
    "        counter=counter-1\n",
    "\n",
    "\n",
    "\n",
    "li=[int(x) for x in input().split()]\n",
    "zerol(li)\n",
    "print(li)"
   ]
  },
  {
   "cell_type": "code",
   "execution_count": null,
   "metadata": {},
   "outputs": [
    {
     "name": "stdout",
     "output_type": "stream",
     "text": [
      "[3, 4, 1, 2]\n"
     ]
    }
   ],
   "source": [
    "#rotate the array by d elements\n",
    "\n",
    "def final(li1,li,r):\n",
    "    i=0\n",
    "    li2=[]\n",
    "    j=0\n",
    "    while i<len(li1):\n",
    "        if i==r:\n",
    "            li2=li1[0:r]\n",
    "            for j in li2:\n",
    "                li.append(j)\n",
    "        i=i+1\n",
    "    return li\n",
    "\n",
    "\n",
    "\n",
    "def chunk(li1,r):\n",
    "    i=0\n",
    "    count=r\n",
    "    while i<len(li1):\n",
    "        #print(i,count)\n",
    "        if i==count:\n",
    "            return li1[i:]\n",
    "        i=i+1\n",
    "\n",
    "li1=[int(x) for x in input().split()]\n",
    "r=int(input())\n",
    "li=[]\n",
    "li=(chunk(li1,r))\n",
    "print(final(li1,li,r))"
   ]
  },
  {
   "cell_type": "code",
   "execution_count": null,
   "metadata": {},
   "outputs": [
    {
     "name": "stdout",
     "output_type": "stream",
     "text": [
      "8\n"
     ]
    }
   ],
   "source": [
    "#second largest number first\n",
    "\n",
    "def secondl(li):\n",
    "    temp=li[0]\n",
    "    for i in range(0,len(li)):\n",
    "        if li[i]>temp:\n",
    "            temp=li[i]\n",
    "    return temp\n",
    "\n",
    "def crunch(li,max):\n",
    "    for i in li:\n",
    "        if i==max:\n",
    "            li.remove(i)\n",
    "\n",
    "def maxn(li):\n",
    "    temp=li[0]\n",
    "    for i in range(0,len(li)):\n",
    "        if li[i]>temp:\n",
    "            temp=li[i]\n",
    "    return temp\n",
    "\n",
    "li=[int(x) for x in input().split()]\n",
    "max=maxn(li)\n",
    "crunch(li,max)\n",
    "print(secondl(li))"
   ]
  },
  {
   "cell_type": "code",
   "execution_count": null,
   "metadata": {},
   "outputs": [
    {
     "name": "stdout",
     "output_type": "stream",
     "text": [
      "3\n"
     ]
    }
   ],
   "source": [
    "#check rotation on a sorted list\n",
    "\n",
    "def check(li):\n",
    "    count=0\n",
    "    i=0\n",
    "    r=0\n",
    "    while i<len(li)-1:\n",
    "        count=count+1\n",
    "        if li[i]>li[i+1]:\n",
    "            r=1\n",
    "            break\n",
    "        i=i+1\n",
    "    if r==0:\n",
    "        return 0\n",
    "    return count\n",
    "\n",
    "\n",
    "li=[int(x) for x in input().split()]\n",
    "print(check(li))"
   ]
  },
  {
   "cell_type": "code",
   "execution_count": null,
   "metadata": {},
   "outputs": [
    {
     "name": "stdout",
     "output_type": "stream",
     "text": [
      "[0, 1, 2, 0, 1, 2, 0]\n",
      "0 0 0 1 1 2 2 "
     ]
    }
   ],
   "source": [
    "#sort 0,1,2 in single scan\n",
    "\n",
    "def sort(li):\n",
    "    li0=[]\n",
    "    li1=[]\n",
    "    li2=[]\n",
    "\n",
    "    for i in li:\n",
    "        if i == 0:\n",
    "            li0.append(i)\n",
    "        elif i == 1:\n",
    "            li1.append(i)\n",
    "        else:\n",
    "            li2.append(i)\n",
    "    join(li0,li1,li2)\n",
    "\n",
    "\n",
    "def join(li0,li1,li2):\n",
    "    for i in li1:\n",
    "        li0.append(i)\n",
    "    for i in li2:\n",
    "        li0.append(i)\n",
    "    printl(li0)\n",
    "\n",
    "def printl(li0):\n",
    "    for i in li0:\n",
    "        print(i,end=' ')\n",
    "\n",
    "\n",
    "li=[int(x) for x in input().split()]\n",
    "print(li)\n",
    "sort(li)"
   ]
  },
  {
   "cell_type": "code",
   "execution_count": null,
   "metadata": {},
   "outputs": [
    {
     "name": "stdout",
     "output_type": "stream",
     "text": [
      "['b', 'c', 'd']\n",
      "['a', 'b', 'c']\n",
      "False\n"
     ]
    }
   ],
   "source": [
    "#permutation string\n",
    "def check(n,m):\n",
    "    #result=True\n",
    "    if len(n)!=len(m):\n",
    "        return False\n",
    "    r1=sorted(n)\n",
    "    r2=sorted(m)\n",
    "    print(r1)\n",
    "    print(r2)\n",
    "    i=0\n",
    "    while i<len(r1):\n",
    "        #print(r1[i],r2[i],len(r1,len(r2)))\n",
    "        if r1[i]!=r2[i]:\n",
    "            return False\n",
    "        i=i+1\n",
    "    return True\n",
    "\n",
    "\n",
    "\n",
    "\n",
    "string1=input()\n",
    "string2=input()\n",
    "r=check(string1,string2)\n",
    "if r:\n",
    "    print(\"true\")\n",
    "else:\n",
    "    print('false')\n",
    "\n"
   ]
  },
  {
   "cell_type": "code",
   "execution_count": null,
   "metadata": {},
   "outputs": [
    {
     "data": {
      "text/plain": [
       "'mnu'"
      ]
     },
     "execution_count": 14,
     "metadata": {},
     "output_type": "execute_result"
    }
   ],
   "source": [
    "s='num'\n",
    "n='nom'\n",
    "r=\"\".join(sorted(s))\n",
    "str(r)"
   ]
  },
  {
   "cell_type": "code",
   "execution_count": null,
   "metadata": {},
   "outputs": [
    {
     "name": "stdout",
     "output_type": "stream",
     "text": [
      "xyzx"
     ]
    }
   ],
   "source": [
    "#remove consecutive\n",
    "def dup(s,li):\n",
    "    #print(s)\n",
    "    li1=[]\n",
    "    li1=[x for x in s]\n",
    "    temp=''\n",
    "    i=0\n",
    "    p=0\n",
    "    while i<len(li1):\n",
    "        #print(i)\n",
    "        temp=li1[i]\n",
    "        p=0\n",
    "        while  i<len(li1) and li1[i]==temp:\n",
    "            #print(i,li1[i])\n",
    "            p=1\n",
    "            i=i+1\n",
    "        li.append(temp)\n",
    "        \n",
    "    printl(li)\n",
    "\n",
    "def printl(li):\n",
    "    for i in li:\n",
    "        print(i,end='')\n",
    "\n",
    "\n",
    "\n",
    "\n",
    "#main\n",
    "string=input()\n",
    "li=[]\n",
    "dup(string,li)"
   ]
  },
  {
   "cell_type": "code",
   "execution_count": null,
   "metadata": {},
   "outputs": [
    {
     "data": {
      "text/plain": [
       "['s', 'u', 'n', 'n', 'y']"
      ]
     },
     "execution_count": 2,
     "metadata": {},
     "output_type": "execute_result"
    }
   ],
   "source": [
    "n='sunny'\n",
    "li=[x for x in n]\n",
    "li"
   ]
  },
  {
   "cell_type": "code",
   "execution_count": null,
   "metadata": {},
   "outputs": [
    {
     "name": "stdout",
     "output_type": "stream",
     "text": [
      "ba\n",
      "cb\n"
     ]
    }
   ],
   "source": [
    "li=['ab','bc']\n",
    "for i in li:\n",
    "    print(i[::-1])"
   ]
  },
  {
   "cell_type": "code",
   "execution_count": null,
   "metadata": {},
   "outputs": [
    {
     "data": {
      "text/plain": [
       "['m', 'n', 'u']"
      ]
     },
     "execution_count": 29,
     "metadata": {},
     "output_type": "execute_result"
    }
   ],
   "source": [
    "s='m n u'\n",
    "li=list(s.split(\" \"))\n",
    "li"
   ]
  },
  {
   "cell_type": "code",
   "execution_count": null,
   "metadata": {},
   "outputs": [
    {
     "name": "stdout",
     "output_type": "stream",
     "text": [
      "['racecar', 'kayak', 'refer']\n",
      "racecar kayak refer "
     ]
    }
   ],
   "source": [
    "#reverse word in list\n",
    "def rev(li):\n",
    "    \n",
    "    #print(li)\n",
    "    for i in li:\n",
    "        \n",
    "        printl(i)\n",
    "\n",
    "def printl(i):\n",
    "    \n",
    "    print(i[::-1],end=' ')\n",
    "\n",
    "def crunch(sent):\n",
    "    return list(sent.split(' '))\n",
    "    #print(li)\n",
    "\n",
    "\n",
    "sent=input()\n",
    "li=[]\n",
    "li=crunch(sent)\n",
    "#print(li)\n",
    "rev(li)"
   ]
  },
  {
   "cell_type": "code",
   "execution_count": null,
   "metadata": {},
   "outputs": [
    {
     "name": "stdout",
     "output_type": "stream",
     "text": [
      "xxzxx"
     ]
    }
   ],
   "source": [
    "#remove a character \n",
    "def crunch(li,x):\n",
    "    i=0\n",
    "    while i<len(li):\n",
    "        if li[i]==x:\n",
    "            li.pop(i)\n",
    "            continue\n",
    "        i=i+1\n",
    "\n",
    "    return li\n",
    "\n",
    "\n",
    "string=input()\n",
    "x=input()\n",
    "li=[y for y in string]\n",
    "for i in crunch(li,x):\n",
    "    print(i,end='')"
   ]
  },
  {
   "cell_type": "code",
   "execution_count": null,
   "metadata": {},
   "outputs": [
    {
     "name": "stdout",
     "output_type": "stream",
     "text": [
      "b\n"
     ]
    }
   ],
   "source": [
    "#highest occuring characters\n",
    "def check(d,string):\n",
    "    li=list(d.values())\n",
    "    if max(li)==li[0]:\n",
    "        return string[0]\n",
    "    return max(d, key= d.get)\n",
    "\n",
    "\n",
    "\n",
    "\n",
    "def filldict(d,li):\n",
    "    count=0\n",
    "    for i in li:\n",
    "        if i not in d:\n",
    "            d[i]=1\n",
    "        else:\n",
    "            d[i]=d[i]+1\n",
    "\n",
    "\n",
    "\n",
    "string=input()\n",
    "li=[x for x in string]\n",
    "d={}\n",
    "filldict(d,li)\n",
    "print(check(d,string))"
   ]
  },
  {
   "cell_type": "code",
   "execution_count": null,
   "metadata": {},
   "outputs": [
    {
     "data": {
      "text/plain": [
       "'a'"
      ]
     },
     "execution_count": 29,
     "metadata": {},
     "output_type": "execute_result"
    }
   ],
   "source": [
    "s='asdas'\n",
    "s[0]"
   ]
  },
  {
   "cell_type": "code",
   "execution_count": null,
   "metadata": {},
   "outputs": [
    {
     "name": "stdout",
     "output_type": "stream",
     "text": [
      "a3b2c2dsa"
     ]
    }
   ],
   "source": [
    "#compress string\n",
    "\n",
    "def crunch(li):\n",
    "    i=0\n",
    "    l=[]\n",
    "    #coun=0\n",
    "    while i<len(li):\n",
    "        temp=li[i]\n",
    "        count=0\n",
    "        j=i\n",
    "        coun=0\n",
    "        while j<len(li) and li[j]==temp:\n",
    "            coun=1\n",
    "            count=count+1\n",
    "            j=j+1\n",
    "            i=i+1\n",
    "        l.append(temp)\n",
    "        l.append(count)\n",
    "    printl(l)\n",
    "\n",
    "def printl(l):\n",
    "    for i in l:\n",
    "        if i==1:\n",
    "            continue\n",
    "        print(i,end='')\n",
    "\n",
    "string=input()\n",
    "li=[x for x in string]\n",
    "crunch(li)\n"
   ]
  },
  {
   "cell_type": "code",
   "execution_count": null,
   "metadata": {},
   "outputs": [
    {
     "name": "stdout",
     "output_type": "stream",
     "text": [
      "3 5 4 5 "
     ]
    }
   ],
   "source": [
    "#row wise sum\n",
    "\n",
    "def sum(li,n,m):\n",
    "    i=0\n",
    "    while i<n:\n",
    "        j=0\n",
    "        s=0\n",
    "        while j<m:\n",
    "            s=s+li[i][j]\n",
    "            j=j+1\n",
    "        print(s,end=' ')\n",
    "        i=i+1       \n",
    "\n",
    "\n",
    "\n",
    "\n",
    "\n",
    "\n",
    "\n",
    "\n",
    "n,m=[int(x) for x in input().split()]\n",
    "li=[[int(i) for i in input().split()]for i in range(n)]\n",
    "sum(li,n,m)"
   ]
  },
  {
   "cell_type": "code",
   "execution_count": null,
   "metadata": {},
   "outputs": [
    {
     "name": "stdout",
     "output_type": "stream",
     "text": [
      "row: 0 2\n"
     ]
    }
   ],
   "source": [
    "#largest row or column\n",
    "def check(li,n,m):\n",
    "\n",
    "    lic=[]\n",
    "    column(li,lic,n,m)\n",
    "    lir=[]\n",
    "    row(li,lir,n,m)\n",
    "    if max(lic)>max(lir):\n",
    "        print(\"column: {} {}\".format(lic.index(max(lic)) , max(lic) ))\n",
    "    else:\n",
    "        print(\"row: {} {}\".format(lir.index(max(lir)) , max(lir) ))\n",
    "\n",
    "def column(li,lic,n,m):\n",
    "    i=0\n",
    "    count=0\n",
    "    s=0\n",
    "    while i<n:\n",
    "        s=0\n",
    "        j=0\n",
    "        while j<m:\n",
    "            s=s+li[j][count]\n",
    "            j=j+1\n",
    "        count=count+1\n",
    "        i=i+1\n",
    "        lic.append(s)\n",
    "\n",
    "    \n",
    "def row(li,lir,n,m):\n",
    "    i=0\n",
    "    s=0\n",
    "    while i<n:\n",
    "        s=0\n",
    "        j=0\n",
    "        while j<m:\n",
    "            s=s+li[i][j]\n",
    "            j=j+1\n",
    "        i=i+1\n",
    "        lir.append(s)\n",
    "\n",
    "test=int(input())\n",
    "for i in range(0,test):\n",
    "    #print(\"Enter n and m\")\n",
    "    n,m=[int(x) for x in input().split()]\n",
    "    li=[[int(j) for j in input().split()] for y in range(n)]\n",
    "    check(li,n,m)\n"
   ]
  },
  {
   "cell_type": "code",
   "execution_count": null,
   "metadata": {},
   "outputs": [
    {
     "data": {
      "text/plain": [
       "3"
      ]
     },
     "execution_count": 2,
     "metadata": {},
     "output_type": "execute_result"
    }
   ],
   "source": [
    "li=[[1,2],[2,3]]\n",
    "li[1][1]"
   ]
  },
  {
   "cell_type": "code",
   "execution_count": null,
   "metadata": {},
   "outputs": [
    {
     "name": "stdout",
     "output_type": "stream",
     "text": [
      "159\n",
      "1062\n",
      "3711\n",
      "1284\n"
     ]
    }
   ],
   "source": [
    "#wave pattern column\n",
    "def paste(li,n,m):\n",
    "    i=0\n",
    "    while i<m:\n",
    "        if i%2==0:\n",
    "            j=0\n",
    "            while j<n:\n",
    "                print(li[j][i],end=' ')\n",
    "                j=j+1\n",
    "        else:\n",
    "            j=n-1\n",
    "            while j>=0:\n",
    "                print(li[j][i],end=' ')\n",
    "                j=j-1\n",
    "        i=i+1\n",
    "        \n",
    "\n",
    "\n",
    "\n",
    "\n",
    "\n",
    "\n",
    "test=int(input())\n",
    "for i in range(test):\n",
    "    n,m=[int(x) for x in input().split()]\n",
    "    li=[[int(j) for j in input().split()] for y in range(n)]\n",
    "    paste(li,n,m)"
   ]
  },
  {
   "cell_type": "code",
   "execution_count": null,
   "metadata": {},
   "outputs": [],
   "source": [
    "#wave pattern row\n",
    "def paste(li,n,m):\n",
    "    i=0\n",
    "    while i<m:\n",
    "        if i%2==0:\n",
    "            j=0\n",
    "            while j<n:\n",
    "                print(li[i][j],end=' ')\n",
    "                j=j+1\n",
    "        else:\n",
    "            j=n-1\n",
    "            while j>=0:\n",
    "                print(li[i][j],end=' ')\n",
    "                j=j-1\n",
    "        i=i+1\n",
    "        \n",
    "\n",
    "\n",
    "\n",
    "\n",
    "\n",
    "\n",
    "test=int(input())\n",
    "for i in range(test):\n",
    "    n,m=[int(x) for x in input().split()]\n",
    "    li=[[int(j) for j in input().split()] for y in range(n)]\n",
    "    paste(li,n,m)"
   ]
  },
  {
   "cell_type": "code",
   "execution_count": null,
   "metadata": {},
   "outputs": [
    {
     "name": "stdout",
     "output_type": "stream",
     "text": [
      "1 2 3 4 8 12 16 15 14 13 9 5 6 7 11 10 "
     ]
    }
   ],
   "source": [
    "#spiral pattern\n",
    "def spiral(li,n,m):\n",
    "    k=n-1\n",
    "    l=m-1\n",
    "    i=0\n",
    "    while i<k:\n",
    "        for j in range(i,m):\n",
    "            print(li[i][j],end=' ')\n",
    "        for j in range(i+1,n):\n",
    "            print(li[j][l],end=' ')\n",
    "        m=m-1\n",
    "        for j in range(m-1,i-1,-1):\n",
    "            print(li[k][j],end=' ')\n",
    "        n=n-1\n",
    "        for j in range(n-1,i,-1):\n",
    "            print(li[j][i],end=' ')\n",
    "        k=k-1\n",
    "        l=l-1\n",
    "        i=i+1\n",
    "\n",
    "\n",
    "\n",
    "\n",
    "\n",
    "\n",
    "test=int(input())\n",
    "for i in range(0,test):\n",
    "    n,m=[int(x) for x in input().split()]\n",
    "    li=[[int(y) for y in input().split()] for j in range(n)]\n",
    "    spiral(li,n,m)"
   ]
  },
  {
   "cell_type": "code",
   "execution_count": null,
   "metadata": {},
   "outputs": [
    {
     "name": "stdout",
     "output_type": "stream",
     "text": [
      "[[1]]\n",
      "[[1, 2]]\n",
      "[[1, 2, 3]]\n",
      "[[1, 2, 3, 4]]\n",
      "[[2]]\n",
      "[[2, 3]]\n",
      "[[2, 3, 4]]\n",
      "[[3]]\n",
      "[[3, 4]]\n",
      "[[4]]\n",
      "[[1], [5]]\n",
      "[[1, 2], [5, 6]]\n",
      "[[1, 2, 3], [5, 6, 7]]\n",
      "[[1, 2, 3, 4], [5, 6, 7, 8]]\n",
      "[[2], [6]]\n",
      "[[2, 3], [6, 7]]\n",
      "[[2, 3, 4], [6, 7, 8]]\n",
      "[[3], [7]]\n",
      "[[3, 4], [7, 8]]\n",
      "[[4], [8]]\n",
      "[[5]]\n",
      "[[5, 6]]\n",
      "[[5, 6, 7]]\n",
      "[[5, 6, 7, 8]]\n",
      "[[6]]\n",
      "[[6, 7]]\n",
      "[[6, 7, 8]]\n",
      "[[7]]\n",
      "[[7, 8]]\n",
      "[[8]]\n"
     ]
    }
   ],
   "source": [
    "def ContinSubSeq(lst):\n",
    "  size=len(lst)\n",
    "  for start in range(size):\n",
    "    for end in range(start+1,size+1):\n",
    "      yield (start,end)\n",
    "\n",
    "def getsubmat(mat,start_row,end_row,start_col,end_col):\n",
    "  return [i[start_col:end_col] for i in mat[start_row:end_row] ]\n",
    "\n",
    "def get_all_sub_mat(mat):\n",
    "  rows = len(mat)\n",
    "  cols = len(mat[0])\n",
    "  for start_row,end_row in ContinSubSeq(list(range(rows))):\n",
    "    for start_col,end_col in ContinSubSeq(list(range(cols))):\n",
    "      yield getsubmat(mat,start_row,end_row,start_col,end_col)\n",
    "\n",
    "mat=[[1,2,3,4],[5,6,7,8]]\n",
    "for i in get_all_sub_mat(mat):\n",
    "    print(i)"
   ]
  },
  {
   "cell_type": "code",
   "execution_count": null,
   "metadata": {},
   "outputs": [
    {
     "name": "stdout",
     "output_type": "stream",
     "text": [
      "6 3\n",
      "1 1\n"
     ]
    }
   ],
   "source": [
    "def check(i):\n",
    "    print(sum(i),len(i))\n",
    "\n",
    "li=[[1,2,3],[1]]\n",
    "for i in li:\n",
    "    check(i)\n"
   ]
  },
  {
   "cell_type": "code",
   "execution_count": null,
   "metadata": {},
   "outputs": [
    {
     "name": "stdout",
     "output_type": "stream",
     "text": [
      "14\n"
     ]
    }
   ],
   "source": [
    "# cook your dish here\n",
    "def ContinSubSeq(lst):\n",
    "    size=len(lst)\n",
    "    for start in range(size):\n",
    "        for end in range(start+1,size+1):\n",
    "            yield (start,end)\n",
    "\n",
    "def getsubmat(mat,start_row,end_row,start_col,end_col):\n",
    "    return [i[start_col:end_col] for i in mat[start_row:end_row] ]\n",
    "\n",
    "def get_all_sub_mat(mat):\n",
    "    rows = len(mat)\n",
    "    cols = len(mat[0])\n",
    "    for start_row,end_row in ContinSubSeq(list(range(rows))):\n",
    "        for start_col,end_col in ContinSubSeq(list(range(cols))):\n",
    "            yield getsubmat(mat,start_row,end_row,start_col,end_col)\n",
    "\n",
    "#to get all the submatrices up\n",
    "#down to know the ones whose average are more than k\n",
    "def check(i,k):\n",
    "    #print(i)\n",
    "    #print(sum(i),type(sum(i)),len(i),type(len(i)))\n",
    "    avg = sum(i)/len(i)\n",
    "    if avg>=k:\n",
    "        return 1\n",
    "    return 0\n",
    "\n",
    "\n",
    "\n",
    "\n",
    "test=int(input())\n",
    "s=0\n",
    "for i in range(test):\n",
    "    n,m,k=[int(x) for x in input().split()]\n",
    "    mat=[[int(j) for j in input().split()] for y in range(n)]\n",
    "    li=[]\n",
    "    for i in get_all_sub_mat(mat):\n",
    "        li.append(i)\n",
    "    #print(li)\n",
    "    for i in li:\n",
    "        s=s+check(i[0],k)\n",
    "    print(s//2)\n",
    "    "
   ]
  },
  {
   "cell_type": "code",
   "execution_count": null,
   "metadata": {},
   "outputs": [
    {
     "name": "stdout",
     "output_type": "stream",
     "text": [
      "[2, 2, 3]\n"
     ]
    }
   ],
   "source": [
    "li=[[[2]], [[2, 2]], [[2, 2, 3]], [[2]], [[2, 3]], [[3]], [[2], [3]], [[2, 2], [3, 4]], [[2, 2, 3], [3, 4, 5]], [[2], [4]], [[2, 3], [4, 5]], [[3], [5]], [[2], [3], [4]], [[2, 2], [3, 4], [4, 5]], [[2, 2, 3], [3, 4, 5], [4, 5, 5]], [[2], [4], [5]], [[2, 3], [4, 5], [5, 5]], [[3], [5], [5]], [[3]], [[3, 4]], [[3, 4, 5]], [[4]], [[4, 5]], [[5]], [[3], [4]], [[3, 4], [4, 5]], [[3, 4, 5], [4, 5, 5]], [[4], [5]], [[4, 5], [5, 5]], [[5], [5]], [[4]], [[4, 5]], [[4, 5, 5]], [[5]], [[5, 5]], [[5]]]\n",
    "[[2]]\n",
    "x=li[2]\n",
    "print(x[0])"
   ]
  },
  {
   "cell_type": "code",
   "execution_count": null,
   "metadata": {},
   "outputs": [
    {
     "name": "stdout",
     "output_type": "stream",
     "text": [
      "\u001b[0;30;41mDSA STARTS HERE\n"
     ]
    }
   ],
   "source": [
    "TGREEN =  '\\033[0;30;41m' # Green Text\n",
    "print (TGREEN + \"DSA STARTS HERE\")"
   ]
  },
  {
   "cell_type": "code",
   "execution_count": null,
   "metadata": {},
   "outputs": [
    {
     "name": "stdout",
     "output_type": "stream",
     "text": [
      "2\n"
     ]
    }
   ],
   "source": [
    "#recursion \n",
    "#x raised to n\n",
    "def power(x,n,p):\n",
    "    if n==0:\n",
    "        return p\n",
    "    return power(x,n-1,p*x)\n",
    "\n",
    "\n",
    "\n",
    "\n",
    "\n",
    "x,n=[int(y) for y in input().split()]\n",
    "p=1\n",
    "print(power(x,n,p))"
   ]
  },
  {
   "cell_type": "code",
   "execution_count": null,
   "metadata": {},
   "outputs": [
    {
     "name": "stdout",
     "output_type": "stream",
     "text": [
      "0\n",
      "1\n",
      "2 : 1\n",
      "3 : 2\n",
      "4 : 3\n",
      "5 : 5\n",
      "6 : 8\n",
      "7 : 13\n",
      "8 : 21\n",
      "9 : 34\n"
     ]
    }
   ],
   "source": [
    "#fibbonacci\n",
    "def fibo(n,a,b,c,count):\n",
    "    if n==2:\n",
    "        return None\n",
    "    c=a+b\n",
    "    print(count,\":\",c)\n",
    "    fibo(n-1,b,c,0,count+1)\n",
    "\n",
    "\n",
    "\n",
    "\n",
    "\n",
    "n=int(input())\n",
    "a=0\n",
    "b=1\n",
    "c=0\n",
    "print(0)\n",
    "print(1)\n",
    "fibo(n,a,b,c,2)"
   ]
  },
  {
   "cell_type": "code",
   "execution_count": null,
   "metadata": {},
   "outputs": [
    {
     "name": "stdout",
     "output_type": "stream",
     "text": [
      "the input is: 4\n",
      "3\n"
     ]
    }
   ],
   "source": [
    "#find the nth fibonacci number\n",
    "def fibo(n):\n",
    "    if n==0:\n",
    "        return 0\n",
    "    if n==1:\n",
    "        return 1\n",
    "    return fibo(n-1)+fibo(n-2)        \n",
    "\n",
    "\n",
    "\n",
    "n=int(input())\n",
    "print(\"the input is:\",n)\n",
    "print(fibo(n))"
   ]
  },
  {
   "cell_type": "code",
   "execution_count": null,
   "metadata": {},
   "outputs": [
    {
     "name": "stdout",
     "output_type": "stream",
     "text": [
      "True\n"
     ]
    }
   ],
   "source": [
    "#sorted or not?\n",
    "def sorted(li,i):\n",
    "    if i==len(li)-1:\n",
    "        return True\n",
    "    if li[i+1]<li[i]:\n",
    "        return False\n",
    "    return sorted(li,i+1)\n",
    "\n",
    "\n",
    "\n",
    "\n",
    "\n",
    "\n",
    "li=[int(x) for x in input().split()]\n",
    "print(sorted(li,0))"
   ]
  },
  {
   "cell_type": "code",
   "execution_count": null,
   "metadata": {},
   "outputs": [
    {
     "name": "stdout",
     "output_type": "stream",
     "text": [
      "6\n"
     ]
    }
   ],
   "source": [
    "#sum\n",
    "def add(li):\n",
    "    if len(li)==1:\n",
    "        return li[0]\n",
    "    return li[0]+ add(li[1:])\n",
    "\n",
    "\n",
    "\n",
    "\n",
    "\n",
    "\n",
    "li=[int(x) for x in input().split()]\n",
    "print(add(li))"
   ]
  },
  {
   "cell_type": "code",
   "execution_count": null,
   "metadata": {},
   "outputs": [
    {
     "name": "stdout",
     "output_type": "stream",
     "text": [
      "True\n"
     ]
    }
   ],
   "source": [
    "#check number\n",
    "def check(li,x):\n",
    "    if len(li)==1:\n",
    "        if li[0]==x:\n",
    "            return True\n",
    "        else:\n",
    "            return False\n",
    "    if li[0]==x:\n",
    "        return True\n",
    "    return check(li[1:],x)\n",
    "\n",
    "\n",
    "\n",
    "\n",
    "\n",
    "\n",
    "\n",
    "li=[int(x) for x in input().split()]\n",
    "x=int(input())\n",
    "print(check(li,x))"
   ]
  },
  {
   "cell_type": "code",
   "execution_count": null,
   "metadata": {},
   "outputs": [
    {
     "name": "stdout",
     "output_type": "stream",
     "text": [
      "1\n"
     ]
    }
   ],
   "source": [
    "#first index of the number\n",
    "def check(li,x,i):\n",
    "    if len(li)==1:\n",
    "        if li[0]!=x:\n",
    "            return -1\n",
    "        else:\n",
    "            return i\n",
    "    if li[0]==x:\n",
    "        return i\n",
    "    return check(li[1:],x,i+1)\n",
    "\n",
    "\n",
    "\n",
    "\n",
    "\n",
    "\n",
    "li=[int(x) for x in input().split()]\n",
    "x=int(input())\n",
    "print(check(li,x,0))"
   ]
  },
  {
   "cell_type": "code",
   "execution_count": null,
   "metadata": {},
   "outputs": [
    {
     "name": "stdout",
     "output_type": "stream",
     "text": [
      "3\n"
     ]
    }
   ],
   "source": [
    "#last index\n",
    "def check(li,x,i,count):\n",
    "    if len(li)==0:\n",
    "        if i==0:\n",
    "            return -1\n",
    "        return i\n",
    "    if li[0]==x:\n",
    "        return check(li[1:],x,count,count+1)\n",
    "    return check(li[1:],x,i,count+1)\n",
    "\n",
    "\n",
    "\n",
    "n=int(input())\n",
    "li=[int(x) for x in input().split()]\n",
    "x=int(input())\n",
    "print(check(li,x,0,0))"
   ]
  },
  {
   "cell_type": "code",
   "execution_count": null,
   "metadata": {},
   "outputs": [
    {
     "name": "stdout",
     "output_type": "stream",
     "text": [
      "abc\n"
     ]
    }
   ],
   "source": [
    "#x-string\n",
    "def check(s,x):\n",
    "    if s=='':\n",
    "        return ''\n",
    "    if s[0]==x:\n",
    "        return check(s[1:],x)\n",
    "    return s[0]+check(s[1:],x)\n",
    "\n",
    "\n",
    "\n",
    "\n",
    "\n",
    "\n",
    "s=input()\n",
    "x=input()\n",
    "print(check(s,x))"
   ]
  },
  {
   "cell_type": "code",
   "execution_count": null,
   "metadata": {},
   "outputs": [
    {
     "data": {
      "text/plain": [
       "'a'"
      ]
     },
     "execution_count": 12,
     "metadata": {},
     "output_type": "execute_result"
    }
   ],
   "source": [
    "s='abc'\n",
    "s[0]"
   ]
  },
  {
   "cell_type": "code",
   "execution_count": null,
   "metadata": {},
   "outputs": [
    {
     "name": "stdout",
     "output_type": "stream",
     "text": [
      "xyzwz\n"
     ]
    }
   ],
   "source": [
    "#remove consecutive duplicates\n",
    "def check(s,old):\n",
    "    if s=='':\n",
    "        return ''\n",
    "    if s[0]==old:\n",
    "        return check(s[1:],s[0])\n",
    "    return s[0]+check(s[1:],s[0])\n",
    "\n",
    "\n",
    "\n",
    "\n",
    "\n",
    "\n",
    "s=input()\n",
    "print(check(s,''))"
   ]
  },
  {
   "cell_type": "markdown",
   "metadata": {},
   "source": [
    "# This is where we start\n",
    "## 30 days of DSA"
   ]
  },
  {
   "cell_type": "code",
   "execution_count": null,
   "metadata": {},
   "outputs": [
    {
     "name": "stdout",
     "output_type": "stream",
     "text": [
      "1.87500\n"
     ]
    }
   ],
   "source": [
    "#1+1/2+1/4+..+1/2^k\n",
    "def gp(k,i=0):\n",
    "    if(k==i):\n",
    "        return (1/(2**i))\n",
    "\n",
    "    return (1/(2**i))+(gp(k,i+1))\n",
    "\n",
    "\n",
    "\n",
    "\n",
    "k=int(input())\n",
    "print(\"{0:.5f}\".format(gp(k)))"
   ]
  },
  {
   "cell_type": "code",
   "execution_count": null,
   "metadata": {},
   "outputs": [
    {
     "name": "stdout",
     "output_type": "stream",
     "text": [
      "hello\n"
     ]
    }
   ],
   "source": [
    "def check(str,fake):\n",
    "    if(fake==''):\n",
    "        return ''\n",
    "    return fake[0]+check(str,fake[1:])\n",
    "    \n",
    "    \n",
    "\n",
    "\n",
    "str=input()\n",
    "fake=str\n",
    "new= check(str,fake)\n",
    "print(new)"
   ]
  },
  {
   "cell_type": "code",
   "execution_count": null,
   "metadata": {},
   "outputs": [
    {
     "name": "stdout",
     "output_type": "stream",
     "text": [
      "helloherllo\n"
     ]
    }
   ],
   "source": [
    "#Starting...\n",
    "#Remove x from a string usign Recursion\n",
    "def remo(s,r):\n",
    "    if len(s)==0:\n",
    "        return ''\n",
    "    if s[0]==r:\n",
    "        return remo(s[1:],r)\n",
    "    return s[0] + remo(s[1:],r)\n",
    "    print(s)\n",
    "\n",
    "\n",
    "string = input()\n",
    "remove='x'\n",
    "string.lower()\n",
    "print(remo(string,remove))\n"
   ]
  },
  {
   "cell_type": "code",
   "execution_count": null,
   "metadata": {},
   "outputs": [
    {
     "data": {
      "text/plain": [
       "'abdefewdpop'"
      ]
     },
     "execution_count": 15,
     "metadata": {},
     "output_type": "execute_result"
    }
   ],
   "source": [
    "#remove consecutive alphabets\n",
    "def remove(s,r=''):\n",
    "    if len(s)==0:\n",
    "        return ''\n",
    "    if s[0]==r:\n",
    "        if len(s)==1:\n",
    "            return ''\n",
    "        return remove(s[1:],r)\n",
    "    return s[0]+remove(s[1:],s[0])\n",
    "\n",
    "\n",
    "string = input()\n",
    "remove(string)\n"
   ]
  },
  {
   "cell_type": "code",
   "execution_count": null,
   "metadata": {},
   "outputs": [
    {
     "name": "stdout",
     "output_type": "stream",
     "text": [
      "Not Found\n"
     ]
    }
   ],
   "source": [
    "#binary search\n",
    "def search(li,x,l,mid):\n",
    "    if len(li)==1 and li[0]!=x:\n",
    "        return \"Not Found\"\n",
    "    if len(li)==1 and li[0]==x:\n",
    "        return \"Found\"\n",
    "    if li[mid]==x:\n",
    "        return \"FOUND\"\n",
    "    if li[mid]>x:\n",
    "        return search(li[:mid],x,len(li[:mid]),(len(li[:mid]))//2)\n",
    "    if li[mid]<x:\n",
    "        return search(li[mid:],x,len(li[mid:]),(len(li[mid:]))//2)\n",
    "\n",
    "\n",
    "\n",
    "li=[int(i) for i in input().split()]\n",
    "x = int(input())\n",
    "li.sort()\n",
    "print(search(li,x,len(li),len(li)//2))"
   ]
  },
  {
   "cell_type": "markdown",
   "metadata": {},
   "source": [
    "# Merge Sort\n"
   ]
  },
  {
   "cell_type": "code",
   "execution_count": 13,
   "metadata": {},
   "outputs": [
    {
     "name": "stdout",
     "output_type": "stream",
     "text": [
      "[1, 2, 2, 2, 3, 3, 4, 5, 11, 23, 34, 45, 55]\n"
     ]
    }
   ],
   "source": [
    "#merge sort\n",
    "#divide and conquer\n",
    "#divide the array into half until the base case\n",
    "#then merge both of them\n",
    "def conquer(a1,a2,li):\n",
    "    i=0\n",
    "    k=0\n",
    "    j=0\n",
    "    while(i<len(a1) and j<len(a2)):\n",
    "        if a1[i]<a2[j]:\n",
    "            li[k]=a1[i]\n",
    "            i=i+1\n",
    "            k=k+1\n",
    "        else:\n",
    "            li[k]=a2[j]\n",
    "            j=j+1\n",
    "            k=k+1\n",
    "    while(i<len(a1)):\n",
    "        li[k]=a1[i]\n",
    "        i=i+1\n",
    "        k=k+1\n",
    "    while(j<len(a2)):\n",
    "        li[k]=a2[j]\n",
    "        j=j+1\n",
    "        k=k+1\n",
    "    \n",
    "\n",
    "def divide(li,i,e):\n",
    "    if len(li)<2:\n",
    "        return\n",
    "    mid=(i+e)//2\n",
    "    a1=li[:mid]\n",
    "    a2=li[mid:]\n",
    "\n",
    "    divide(a1,0,len(a1))\n",
    "    divide(a2,0,len(a2))\n",
    "    conquer(a1,a2,li)\n",
    "\n",
    "\n",
    "\n",
    "\n",
    "\n",
    "li=[int(x) for x in input().split()]\n",
    "a1=[]\n",
    "a2=[]\n",
    "divide(li,0,len(li))\n",
    "print(li)"
   ]
  },
  {
   "cell_type": "markdown",
   "metadata": {},
   "source": [
    "# Quick Sort"
   ]
  },
  {
   "cell_type": "code",
   "execution_count": null,
   "metadata": {},
   "outputs": [
    {
     "name": "stdout",
     "output_type": "stream",
     "text": [
      "[1, 2, 4, 4, 5, 5, 6, 23, 543]\n"
     ]
    }
   ],
   "source": [
    "#Quick Sort\n",
    "def quick(li,i,j):\n",
    "    if i>=j-1: #checking if the starting index in smaller than the ending index\n",
    "        return\n",
    "    index=sort(li,i,j) # find index and the sorting of both the sides\n",
    "    quick(li,i,index-1) #index-1 as the pivot is already the right place\n",
    "    quick(li,index+1,j)\n",
    "\n",
    "\n",
    "def sort(li,si,ei):\n",
    "    pivot=li[si] #taking the starting element\n",
    "    c=0\n",
    "    for i in range(si,ei): #find no. of chars smaller than the pivot\n",
    "        if li[i]<pivot:\n",
    "            c=c+1\n",
    "    li[si],li[si+c]=li[si+c],li[si] #swapping pivot to its rightful place\n",
    "    i=si\n",
    "    j=ei-1\n",
    "    while i<j: #sorting both right and left with i as starting index and j as ending index. increse i and decrease j until both i and j indexes have chars that are not placed correctly and then swap both the i and j.\n",
    "        if li[i]<pivot:\n",
    "            i=i+1\n",
    "        elif li[j]>=pivot:\n",
    "            j=j-1\n",
    "        else:\n",
    "            li[i],li[j]=li[j],li[i]\n",
    "            i=i+1\n",
    "            j=j-1\n",
    "    return si+c #correct index of pivot after swapping\n",
    "     \n",
    "\n",
    "\n",
    "\n",
    "\n",
    "\n",
    "\n",
    "\n",
    "li=[int(x) for x in input().split()]\n",
    "quick(li,0,len(li))\n",
    "print(li)"
   ]
  },
  {
   "cell_type": "code",
   "execution_count": null,
   "metadata": {},
   "outputs": [
    {
     "name": "stdout",
     "output_type": "stream",
     "text": [
      "a c\n",
      "a b\n",
      "c b\n",
      "a c\n",
      "b a\n",
      "b c\n",
      "a c\n"
     ]
    }
   ],
   "source": [
    "#tower of hanoi\n",
    "def hanoi(n,source,helper,dest):\n",
    "    if n==1:\n",
    "        print(source,dest)\n",
    "        return\n",
    "    if n==0:\n",
    "        return\n",
    "    hanoi(n-1,source,dest,helper) #when n=2 then we have to shift 1st ring from A to B so helper becomes the dest and as we need to keep helper empty so dest becomes helper\n",
    "    print(source,dest)\n",
    "    hanoi(n-1,helper,source,dest) #when n=3 then for the big ring we need to shift rings from B to A that's why helper goes to Source and the helper becomes source\n",
    "\n",
    "\n",
    "\n",
    "n=int(input())\n",
    "hanoi(n,'a','b','c')"
   ]
  },
  {
   "cell_type": "code",
   "execution_count": null,
   "metadata": {},
   "outputs": [
    {
     "name": "stdout",
     "output_type": "stream",
     "text": [
      "3\n"
     ]
    }
   ],
   "source": [
    "#sum of digit\n",
    "def sumof(n):\n",
    "    if n==0:\n",
    "        return 0\n",
    "    return (n%10)+ sumof(n//10)\n",
    "\n",
    "\n",
    "\n",
    "n=int(input())\n",
    "print(sumof(n))"
   ]
  },
  {
   "cell_type": "code",
   "execution_count": null,
   "metadata": {},
   "outputs": [
    {
     "data": {
      "text/plain": [
       "63"
      ]
     },
     "execution_count": 5,
     "metadata": {},
     "output_type": "execute_result"
    }
   ],
   "source": [
    "#multiplication with addition and subtraction\n",
    "def multiply(n,m):\n",
    "    if m==1:\n",
    "        return n\n",
    "    return n + multiply(n,m-1)\n",
    "\n",
    "\n",
    "\n",
    "n,m=[int(x) for x in input().split()]\n",
    "multiply(n,m)"
   ]
  },
  {
   "cell_type": "code",
   "execution_count": null,
   "metadata": {},
   "outputs": [
    {
     "name": "stdout",
     "output_type": "stream",
     "text": [
      "2\n"
     ]
    }
   ],
   "source": [
    "#trailing zeroes\n",
    "def count(n,k):\n",
    "    if n<10:\n",
    "        print(k)\n",
    "        return \n",
    "    if n%10 == 0:\n",
    "        count(n//10,k+1)\n",
    "    else:\n",
    "        count(n//10,k)\n",
    "\n",
    "\n",
    "\n",
    "n=int(input())\n",
    "count(n,0)"
   ]
  },
  {
   "cell_type": "code",
   "execution_count": null,
   "metadata": {},
   "outputs": [
    {
     "data": {
      "text/plain": [
       "10"
      ]
     },
     "execution_count": 17,
     "metadata": {},
     "output_type": "execute_result"
    }
   ],
   "source": [
    "100//10"
   ]
  },
  {
   "cell_type": "code",
   "execution_count": null,
   "metadata": {},
   "outputs": [
    {
     "name": "stdout",
     "output_type": "stream",
     "text": [
      "a*a*a*a\n"
     ]
    }
   ],
   "source": [
    "#pair star\n",
    "def new(s,temp):\n",
    "    if len(s)==1:\n",
    "        if s[0]==temp:\n",
    "            return '*'+s[0]\n",
    "        else:\n",
    "            return s[0]\n",
    "    if s[0]==temp:\n",
    "        return '*'+s[0]+new(s[1:],temp)\n",
    "    else:\n",
    "        return s[0]+new(s[1:],s[0])\n",
    "    \n",
    "\n",
    "\n",
    "\n",
    "s=input()\n",
    "print(new(s,''))"
   ]
  },
  {
   "cell_type": "markdown",
   "metadata": {},
   "source": [
    "### Suppose you have a string, S, made up of only 'a's and 'b's. Write a recursive function that checks if the string was generated ### using the following rules:\n",
    "#### a. The string begins with an 'a'\n",
    "#### b. Each 'a' is followed by nothing or an 'a' or \"bb\"\n",
    "#### c. Each \"bb\" is followed by nothing or an 'a'\n",
    "### If all the rules are followed by the given string, return true otherwise return false."
   ]
  },
  {
   "cell_type": "code",
   "execution_count": null,
   "metadata": {},
   "outputs": [
    {
     "name": "stdout",
     "output_type": "stream",
     "text": [
      "abababa\n",
      "False\n"
     ]
    }
   ],
   "source": [
    "#Check A B\n",
    "def check(exp):\n",
    "    print(exp)\n",
    "    if len(exp)==0:\n",
    "        print('hfefqefewfersfwsfwfsde')\n",
    "        return True\n",
    "    if len(exp)==1 and exp[0]!='a':\n",
    "        print('hersfwsfwfsde')\n",
    "        return False\n",
    "    if len(exp)==1 and exp[0]=='a':\n",
    "        print('hersde')\n",
    "        return True\n",
    "    if len(exp)==2 and exp[0] =='b'  and exp[1] == 'b':\n",
    "        return True\n",
    "\n",
    "    if len(exp)==2 and exp[0]=='b' and exp[1]=='b':\n",
    "        print('dfhersde')\n",
    "        return True\n",
    "    if len(exp)==2 and (exp[0]!='b' or exp[1]!='b'):\n",
    "        print(exp,len(exp))\n",
    "        print('iidfhersde')\n",
    "        return False\n",
    "    if exp[1]=='b' and exp[2]=='b':\n",
    "        return check(exp[3:])\n",
    "    if exp[1]=='a':\n",
    "        return check(exp[2:])\n",
    "    if exp[0]=='a' and exp[1]=='a':\n",
    "        \n",
    "        return check(exp[2:])\n",
    "    if exp[0] =='b'  and exp[1] == 'b':\n",
    "        \n",
    "        return check(exp[3:])\n",
    "    if exp[1]=='b' and exp[2]!='b':\n",
    "        return False\n",
    "    \n",
    "    \n",
    "\n",
    "\n",
    "\n",
    "\n",
    "\n",
    "exp=input()\n",
    "if exp[0]=='a':\n",
    "    print(check(exp))\n",
    "else:\n",
    "    print('False')"
   ]
  },
  {
   "cell_type": "code",
   "execution_count": null,
   "metadata": {},
   "outputs": [
    {
     "data": {
      "text/plain": [
       "['a', 'b', 'c']"
      ]
     },
     "execution_count": 4,
     "metadata": {},
     "output_type": "execute_result"
    }
   ],
   "source": [
    "s='abc'\n",
    "li=[]\n",
    "li[:]=s\n",
    "li"
   ]
  },
  {
   "cell_type": "markdown",
   "metadata": {},
   "source": [
    "### A child is running up a staircase with N steps, and can hop either 1 step, 2 steps or 3 steps at a time. Implement a method to count how many possible ways the child can run up to the stairs. You need to return number of possible ways W."
   ]
  },
  {
   "cell_type": "code",
   "execution_count": null,
   "metadata": {},
   "outputs": [
    {
     "name": "stdout",
     "output_type": "stream",
     "text": [
      "7\n"
     ]
    }
   ],
   "source": [
    "#staircase\n",
    "def staircase(n):\n",
    "    if n<3: #return n itself because of we see no of methods for 1 is one and 2 is one i.e. 1+1 or 2 steps hop\n",
    "        return n\n",
    "    if n==3:\n",
    "        return 4\n",
    "    return staircase(n-1)+staircase(n-2)+staircase(n-3)\n",
    "\n",
    "\n",
    "n=int(input())\n",
    "print(staircase(n))"
   ]
  },
  {
   "cell_type": "code",
   "execution_count": null,
   "metadata": {},
   "outputs": [
    {
     "data": {
      "text/plain": [
       "80"
      ]
     },
     "execution_count": 10,
     "metadata": {},
     "output_type": "execute_result"
    }
   ],
   "source": [
    "class Student:\n",
    "    percent=80\n",
    "    def st(self):\n",
    "        self.name='hello'\n",
    "\n",
    "st1=Student()\n",
    "st1.st()\n",
    "st1.name\n",
    "st1.percent"
   ]
  },
  {
   "cell_type": "code",
   "execution_count": null,
   "metadata": {},
   "outputs": [
    {
     "name": "stdout",
     "output_type": "stream",
     "text": [
      "hello 2\n",
      "my 3\n",
      "name 5\n"
     ]
    }
   ],
   "source": [
    "#a dummy class that has names and roll of 3\n",
    "\n",
    "class student:\n",
    "    def __init__(self,name1,r):\n",
    "        self.name=name1\n",
    "        self.roll=r\n",
    "st1=student('hello',2)\n",
    "st2=student('my',3)\n",
    "st3=student('name',5)\n",
    "print(st1.name,st1.roll)\n",
    "print(st2.name,st2.roll)\n",
    "print(st3.name,st3.roll)"
   ]
  },
  {
   "cell_type": "code",
   "execution_count": null,
   "metadata": {},
   "outputs": [
    {
     "ename": "NameError",
     "evalue": "name 'self' is not defined",
     "output_type": "error",
     "traceback": [
      "\u001b[1;31m---------------------------------------------------------------------------\u001b[0m",
      "\u001b[1;31mNameError\u001b[0m                                 Traceback (most recent call last)",
      "\u001b[1;32m<ipython-input-22-0e5303fc906b>\u001b[0m in \u001b[0;36m<module>\u001b[1;34m\u001b[0m\n\u001b[0;32m      7\u001b[0m     \u001b[1;32mdef\u001b[0m \u001b[0msetM\u001b[0m\u001b[1;33m(\u001b[0m\u001b[0mself\u001b[0m\u001b[1;33m,\u001b[0m\u001b[0mm\u001b[0m\u001b[1;33m)\u001b[0m\u001b[1;33m:\u001b[0m\u001b[1;33m\u001b[0m\u001b[1;33m\u001b[0m\u001b[0m\n\u001b[0;32m      8\u001b[0m         \u001b[0mself\u001b[0m\u001b[1;33m.\u001b[0m\u001b[0m__m\u001b[0m\u001b[1;33m=\u001b[0m\u001b[0mm\u001b[0m\u001b[1;33m\u001b[0m\u001b[1;33m\u001b[0m\u001b[0m\n\u001b[1;32m----> 9\u001b[1;33m \u001b[1;32mclass\u001b[0m \u001b[0mcar\u001b[0m\u001b[1;33m(\u001b[0m\u001b[0mvc\u001b[0m\u001b[1;33m)\u001b[0m\u001b[1;33m:\u001b[0m\u001b[1;33m\u001b[0m\u001b[1;33m\u001b[0m\u001b[0m\n\u001b[0m\u001b[0;32m     10\u001b[0m     \u001b[0mprint\u001b[0m\u001b[1;33m(\u001b[0m\u001b[0mself\u001b[0m\u001b[1;33m.\u001b[0m\u001b[0mgetM\u001b[0m\u001b[1;33m)\u001b[0m\u001b[1;33m\u001b[0m\u001b[1;33m\u001b[0m\u001b[0m\n",
      "\u001b[1;32m<ipython-input-22-0e5303fc906b>\u001b[0m in \u001b[0;36mcar\u001b[1;34m()\u001b[0m\n\u001b[0;32m      8\u001b[0m         \u001b[0mself\u001b[0m\u001b[1;33m.\u001b[0m\u001b[0m__m\u001b[0m\u001b[1;33m=\u001b[0m\u001b[0mm\u001b[0m\u001b[1;33m\u001b[0m\u001b[1;33m\u001b[0m\u001b[0m\n\u001b[0;32m      9\u001b[0m \u001b[1;32mclass\u001b[0m \u001b[0mcar\u001b[0m\u001b[1;33m(\u001b[0m\u001b[0mvc\u001b[0m\u001b[1;33m)\u001b[0m\u001b[1;33m:\u001b[0m\u001b[1;33m\u001b[0m\u001b[1;33m\u001b[0m\u001b[0m\n\u001b[1;32m---> 10\u001b[1;33m     \u001b[0mprint\u001b[0m\u001b[1;33m(\u001b[0m\u001b[0mself\u001b[0m\u001b[1;33m.\u001b[0m\u001b[0mgetM\u001b[0m\u001b[1;33m)\u001b[0m\u001b[1;33m\u001b[0m\u001b[1;33m\u001b[0m\u001b[0m\n\u001b[0m",
      "\u001b[1;31mNameError\u001b[0m: name 'self' is not defined"
     ]
    }
   ],
   "source": [
    "class vc:\n",
    "    def __init__(self,c,m):\n",
    "        self.__c=c\n",
    "        self.__m=m\n",
    "    def getM(self):\n",
    "        return self.__m\n",
    "    def setM(self,m):\n",
    "        self.__m=m\n",
    "class car(vc):\n",
    "    print(self.getM)\n",
    "\n"
   ]
  },
  {
   "cell_type": "code",
   "execution_count": null,
   "metadata": {},
   "outputs": [
    {
     "name": "stdout",
     "output_type": "stream",
     "text": [
      "8\n"
     ]
    }
   ],
   "source": [
    "#power of number\n",
    "def power(n,m):\n",
    "    if m==1:\n",
    "        return n\n",
    "    if m==0:\n",
    "        return 1\n",
    "    if n==1:\n",
    "        return 1\n",
    "    if n==0:\n",
    "        return 0\n",
    "    return n*power(n,m-1)\n",
    "\n",
    "\n",
    "from sys import setrecursionlimit\n",
    "setrecursionlimit(110000)\n",
    "n,m=[int(x) for x in input().split()]\n",
    "print(power(n,m))"
   ]
  },
  {
   "cell_type": "code",
   "execution_count": null,
   "metadata": {},
   "outputs": [
    {
     "name": "stdout",
     "output_type": "stream",
     "text": [
      "2 3\n"
     ]
    }
   ],
   "source": [
    "# how to input 2 numbers in a same line\n",
    "n,m=[int(x) for x in input().split()]\n",
    "print(n,m)"
   ]
  },
  {
   "cell_type": "code",
   "execution_count": null,
   "metadata": {},
   "outputs": [
    {
     "name": "stdout",
     "output_type": "stream",
     "text": [
      "[1, 2, 34]\n",
      "[1, 2, 2]\n",
      "1\n",
      "2\n",
      "2\n"
     ]
    }
   ],
   "source": [
    "#array intersection\n",
    "def binary(x,arr1):\n",
    "    if len(arr1)==1 and arr1[0]==x:\n",
    "        return 1\n",
    "    if len(arr1)==1 and arr1[0]!=x:\n",
    "        return -1\n",
    "    if len(arr1)<1:\n",
    "        return -1\n",
    "    if arr1[0]==x:\n",
    "        return 1\n",
    "    mid=(0+len(arr1))//2\n",
    "    if arr1[mid]==x:\n",
    "        return 1\n",
    "    if arr1[mid]<x:\n",
    "        return binary(x,arr1[mid:])\n",
    "    else:\n",
    "        return binary(x,arr1[:mid])\n",
    "\n",
    "def merge(arr1,s,e):\n",
    "    if len(arr1)<2:\n",
    "        return\n",
    "    mid=(s+e)//2\n",
    "    li1=arr1[:mid]\n",
    "    li=arr1[mid:]\n",
    "    merge(li1,0,len(li1))\n",
    "    merge(li,0,len(li))\n",
    "    join(arr1,li1,li)\n",
    "    \n",
    "\n",
    "def join(arr1,li1,li): #isme i j wale mein alag alag krna prta hai like 2 half mein ek 1 aur ek j hai aur dono ko main sheet mein add krna hai\n",
    "    i=0\n",
    "    j=0\n",
    "    k=0\n",
    "    while i<len(li1) and j<len(li):\n",
    "        if li1[i]<li[j]:\n",
    "            arr1[k]=li1[i]\n",
    "            i=i+1\n",
    "            k=k+1\n",
    "        else:\n",
    "            arr1[k]=li[j]\n",
    "            j=j+1\n",
    "            k=k+1\n",
    "    while i<len(li1):\n",
    "        arr1[k]=li1[i]\n",
    "        i=i+1\n",
    "        k=k+1\n",
    "    while j<len(li):\n",
    "        arr1[k]=li[j]\n",
    "        j=j+1\n",
    "        k=k+1\n",
    "\n",
    "\n",
    "arr1=[int(x) for x in input().split()]\n",
    "arr2=[int(y) for y in input().split()]\n",
    "merge(arr1,0,len(arr1))\n",
    "print(arr1)\n",
    "print(arr2)\n",
    "for i in arr2:\n",
    "    x=binary(i,arr1)\n",
    "    if x!=-1:\n",
    "        print(i)"
   ]
  },
  {
   "cell_type": "code",
   "execution_count": null,
   "metadata": {},
   "outputs": [],
   "source": [
    "r=[2,1,5,1,12,6,4]\n",
    "x=4\n",
    "r.sort()\n",
    "check(r,x)"
   ]
  },
  {
   "cell_type": "code",
   "execution_count": null,
   "metadata": {},
   "outputs": [
    {
     "ename": "TypeError",
     "evalue": "'int' object is not callable",
     "output_type": "error",
     "traceback": [
      "\u001b[1;31m---------------------------------------------------------------------------\u001b[0m",
      "\u001b[1;31mTypeError\u001b[0m                                 Traceback (most recent call last)",
      "\u001b[1;32m<ipython-input-15-9b146cbe8e5d>\u001b[0m in \u001b[0;36m<module>\u001b[1;34m\u001b[0m\n\u001b[0;32m     14\u001b[0m \u001b[1;33m\u001b[0m\u001b[0m\n\u001b[0;32m     15\u001b[0m \u001b[0mtest\u001b[0m\u001b[1;33m=\u001b[0m\u001b[0mint\u001b[0m\u001b[1;33m(\u001b[0m\u001b[0minput\u001b[0m\u001b[1;33m(\u001b[0m\u001b[1;33m)\u001b[0m\u001b[1;33m)\u001b[0m\u001b[1;33m\u001b[0m\u001b[1;33m\u001b[0m\u001b[0m\n\u001b[1;32m---> 16\u001b[1;33m \u001b[1;32mfor\u001b[0m \u001b[0mi\u001b[0m \u001b[1;32min\u001b[0m \u001b[0mrange\u001b[0m\u001b[1;33m(\u001b[0m\u001b[0mtest\u001b[0m\u001b[1;33m)\u001b[0m\u001b[1;33m:\u001b[0m\u001b[1;33m\u001b[0m\u001b[1;33m\u001b[0m\u001b[0m\n\u001b[0m\u001b[0;32m     17\u001b[0m     \u001b[0mlimit\u001b[0m\u001b[1;33m=\u001b[0m\u001b[0mint\u001b[0m\u001b[1;33m(\u001b[0m\u001b[0minput\u001b[0m\u001b[1;33m(\u001b[0m\u001b[1;33m)\u001b[0m\u001b[1;33m)\u001b[0m\u001b[1;33m\u001b[0m\u001b[1;33m\u001b[0m\u001b[0m\n\u001b[0;32m     18\u001b[0m     \u001b[0marr\u001b[0m\u001b[1;33m=\u001b[0m\u001b[1;33m[\u001b[0m\u001b[0mint\u001b[0m\u001b[1;33m(\u001b[0m\u001b[0mi\u001b[0m\u001b[1;33m)\u001b[0m \u001b[1;32mfor\u001b[0m \u001b[0mi\u001b[0m \u001b[1;32min\u001b[0m \u001b[0minput\u001b[0m\u001b[1;33m(\u001b[0m\u001b[1;33m)\u001b[0m\u001b[1;33m.\u001b[0m\u001b[0msplit\u001b[0m\u001b[1;33m(\u001b[0m\u001b[1;33m)\u001b[0m\u001b[1;33m]\u001b[0m\u001b[1;33m\u001b[0m\u001b[1;33m\u001b[0m\u001b[0m\n",
      "\u001b[1;31mTypeError\u001b[0m: 'int' object is not callable"
     ]
    }
   ],
   "source": []
  },
  {
   "cell_type": "code",
   "execution_count": null,
   "metadata": {},
   "outputs": [],
   "source": [
    "#equilibrium index\n",
    "def equi_checker(arr,index,right_sum,left_sum=0):\n",
    "    if len(arr)<1 or index>=len(arr):\n",
    "        return -1\n",
    "    if left_sum==(right_sum-arr[index]):\n",
    "        return index\n",
    "    return equi_checker(arr,index+1,right_sum-arr[index],left_sum+arr[index])\n",
    "\n",
    "def find_sum(arr):\n",
    "    s=0\n",
    "    for i in arr:\n",
    "        s=s+i\n",
    "    return s\n",
    "\n",
    "test=int(input())\n",
    "i=0\n",
    "while i<test:\n",
    "    limit=int(input())\n",
    "    arr=[int(i) for i in input().split()]\n",
    "    arr_sum=find_sum(arr)\n",
    "    print(equi_checker(arr,0,arr_sum))\n",
    "    i=i+1"
   ]
  },
  {
   "cell_type": "code",
   "execution_count": null,
   "metadata": {},
   "outputs": [
    {
     "name": "stdout",
     "output_type": "stream",
     "text": [
      "1\n"
     ]
    }
   ],
   "source": [
    "#unique elements\n",
    "def find(arr,i,c):\n",
    "    if i>=len(arr):\n",
    "        return 0\n",
    "    c= arr[i]^find(arr,i+1,c)\n",
    "    return c\n",
    "\n",
    "\n",
    "test=int(input())\n",
    "i=0\n",
    "while i<test:\n",
    "    limit=int(input())\n",
    "    arr=[int(x) for x in input().split()]\n",
    "    print(find(arr,0,0))\n",
    "    i=i+1"
   ]
  },
  {
   "cell_type": "code",
   "execution_count": 2,
   "metadata": {},
   "outputs": [
    {
     "name": "stdout",
     "output_type": "stream",
     "text": [
      "7\n"
     ]
    }
   ],
   "source": [
    "#duplicate element in the array\n",
    "def find(arr,i=0):\n",
    "    if i>=len(arr):\n",
    "        return 0\n",
    "    return arr[i]+find(arr,i+1)\n",
    "\n",
    "def find_t(n,count):\n",
    "    if count>n:\n",
    "        return 0\n",
    "    return count+find_t(n,count+1)\n",
    "\n",
    "test=int(input())\n",
    "i=0\n",
    "while(i<test):\n",
    "    limit=int(input())\n",
    "    arr=[int(x) for x in input().split()]\n",
    "    result=find(arr,0)\n",
    "    total=find_t(limit-2,0)\n",
    "    print(result-total)\n",
    "    i=i+1\n"
   ]
  },
  {
   "cell_type": "code",
   "execution_count": 12,
   "metadata": {},
   "outputs": [
    {
     "name": "stdout",
     "output_type": "stream",
     "text": [
      "[0, 0, 0, 6]\n",
      "2\n"
     ]
    }
   ],
   "source": [
    "#pair sum\n",
    "#start end method, first sort(merge sort divide the array and merge) then find sum and track the start and end\n",
    "#in merge sort you always run i and j from 0 and store the values in main array\n",
    "def check(arr,num,s,e,count):\n",
    "    print(arr)\n",
    "    i=s\n",
    "    j=e-1\n",
    "    while i<j:\n",
    "        if arr[i]+arr[j]>num:\n",
    "            j=j-1\n",
    "        \n",
    "        elif arr[i]+arr[j]<num:\n",
    "            i=i+1\n",
    "        else:\n",
    "            count=count+1\n",
    "            if arr[i+1]==arr[i]:\n",
    "                count=count+1\n",
    "            if arr[j-1]==arr[j]:\n",
    "                count=count+1\n",
    "            i=i+1\n",
    "            j=j-1\n",
    "    return count\n",
    "\n",
    "\n",
    "def to_sort(arr,s,e):\n",
    "    if len(arr)<2:\n",
    "        return\n",
    "    mid=(s+e)//2\n",
    "    arr1=arr[:mid]\n",
    "    arr2=arr[mid:]\n",
    "    to_sort(arr1,0,len(arr1))\n",
    "    to_sort(arr2,0,len(arr2))\n",
    "    conquer(arr,arr1,arr2)\n",
    "\n",
    "def conquer(arr,arr1,arr2):\n",
    "    i=0\n",
    "    j=0\n",
    "    k=0\n",
    "    while i<len(arr1) and j<len(arr2):\n",
    "        if arr1[i]<arr2[j]:\n",
    "            arr[k]=arr1[i]\n",
    "            k=k+1\n",
    "            i=i+1\n",
    "        else:\n",
    "            arr[k]=arr2[j]\n",
    "            j=j+1\n",
    "            k=k+1\n",
    "    while i<len(arr1):\n",
    "        arr[k]=arr1[i]\n",
    "        i=i+1\n",
    "        k=k+1\n",
    "    while j<len(arr2):\n",
    "        arr[k]=arr2[j]\n",
    "        j=j+1\n",
    "        k=k+1\n",
    "\n",
    "test=int(input())\n",
    "i=0\n",
    "while i<test:\n",
    "    length=int(input())\n",
    "    if length ==0:\n",
    "        i=i+1\n",
    "        num=int(input())\n",
    "        continue\n",
    "    arr=[int(x) for x in input().split()]\n",
    "    to_sort(arr,0,len(arr)-1)\n",
    "    num=int(input())\n",
    "    print(check(arr,num,0,len(arr),0))\n",
    "    i=i+1"
   ]
  },
  {
   "cell_type": "code",
   "execution_count": 31,
   "metadata": {},
   "outputs": [
    {
     "name": "stdout",
     "output_type": "stream",
     "text": [
      "[1, 1, 1, 1, 1, 1, 1, 1, 1, 1, 1, 1, 1, 2, 2, 2, 2, 2, 2, 2, 3, 3, 3, 3, 4, 4, 5, 5, 5, 5, 6, 2, 21, 34, 43, 111, 453]\n",
      "None\n"
     ]
    }
   ],
   "source": [
    "#pair sum\n",
    "#quick\n",
    "def check(arr,s,e,count):\n",
    "    print(arr)\n",
    "\n",
    "def to_sort(arr,s,e):\n",
    "    if s>=e-1:\n",
    "        return\n",
    "    index=pivot(arr,s,e)\n",
    "    to_sort(arr,s,index-1)\n",
    "    to_sort(arr,index+1,e)\n",
    "\n",
    "\n",
    "def pivot(arr,s,e):\n",
    "    index=arr[s]\n",
    "    c=0\n",
    "    for i in range(s,e):\n",
    "        if arr[i]<index:\n",
    "            c=c+1\n",
    "    arr[s],arr[s+c]=arr[s+c],arr[s]\n",
    "    i=s\n",
    "    j=e-1\n",
    "    while i<j:\n",
    "        if arr[i]<index:\n",
    "            i=i+1\n",
    "        elif arr[j]>=index:\n",
    "            j=j-1\n",
    "        else:\n",
    "            arr[i],arr[j]=arr[j],arr[i]\n",
    "            i=i+1\n",
    "            j=j-1\n",
    "    return s+c\n",
    "\n",
    "\n",
    "test=int(input())\n",
    "i=0\n",
    "while i<test:\n",
    "    length=int(input())\n",
    "    arr=[int(x) for x in input().split()]\n",
    "    to_sort(arr,0,len(arr))\n",
    "    print(check(arr,0,len(arr),0))\n",
    "    i=i+1"
   ]
  },
  {
   "cell_type": "code",
   "execution_count": 30,
   "metadata": {},
   "outputs": [
    {
     "name": "stdout",
     "output_type": "stream",
     "text": [
      "[1, 1, 1, 1, 1, 1, 1, 1, 1, 1, 1, 1, 2, 2, 2, 2, 3, 3, 3, 4, 4, 4, 5, 5, 5, 5, 5, 5, 3, 6, 11, 13, 11, 23, 42, 45, 34, 56, 66, 432, 432, 676]\n"
     ]
    }
   ],
   "source": []
  },
  {
   "cell_type": "code",
   "execution_count": null,
   "metadata": {},
   "outputs": [],
   "source": []
  }
 ],
 "metadata": {
  "interpreter": {
   "hash": "1280ea4c1d4c03035156b630bc43d754ca03d3f8512398d435a61d6f7f0ad20c"
  },
  "kernelspec": {
   "display_name": "Python 3.8.3 32-bit",
   "name": "python3"
  },
  "language_info": {
   "codemirror_mode": {
    "name": "ipython",
    "version": 3
   },
   "file_extension": ".py",
   "mimetype": "text/x-python",
   "name": "python",
   "nbconvert_exporter": "python",
   "pygments_lexer": "ipython3",
   "version": "3.8.3"
  },
  "orig_nbformat": 2
 },
 "nbformat": 4,
 "nbformat_minor": 2
}
