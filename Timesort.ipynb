{
 "cells": [
  {
   "cell_type": "code",
   "execution_count": 63,
   "metadata": {},
   "outputs": [],
   "source": [
    "import time\n"
   ]
  },
  {
   "cell_type": "code",
   "execution_count": 3,
   "metadata": {},
   "outputs": [
    {
     "name": "stdout",
     "output_type": "stream",
     "text": [
      "3\n"
     ]
    }
   ],
   "source": [
    "li=[1,2,3]\n",
    "print(len(li))"
   ]
  },
  {
   "cell_type": "code",
   "execution_count": 87,
   "metadata": {},
   "outputs": [
    {
     "name": "stdout",
     "output_type": "stream",
     "text": [
      "3\n"
     ]
    }
   ],
   "source": [
    "def fib(n): \n",
    "    if n == 0 or n == 1:\n",
    "        return n\n",
    "    return fib(n - 1) + fib(n - 2)\n",
    "n=4\n",
    "print(fib(n))"
   ]
  },
  {
   "cell_type": "code",
   "execution_count": 33,
   "metadata": {},
   "outputs": [],
   "source": [
    "# selection\n",
    "def selection(a):\n",
    "    min=a[0]\n",
    "    for i in range(len(a)):\n",
    "        min=a[i]\n",
    "        for j in range(i,len(a)):\n",
    "            if a[j]<min:\n",
    "                min=a[j]\n",
    "                a[i],a[j]=a[j],a[i]\n",
    "    return a"
   ]
  },
  {
   "cell_type": "code",
   "execution_count": 60,
   "metadata": {},
   "outputs": [],
   "source": [
    "#bubble\n",
    "def bubble(b):\n",
    "    for i in range(len(b)):\n",
    "        for j in range(len(b)-1):\n",
    "            if b[j+1]<b[j]:\n",
    "                b[j+1],b[j]=b[j],b[j+1]\n",
    "    return"
   ]
  },
  {
   "cell_type": "code",
   "execution_count": 64,
   "metadata": {},
   "outputs": [],
   "source": [
    "#quick\n",
    "def quick(c,s,e):\n",
    "    if s>=e:\n",
    "        return\n",
    "    index=partition(c,s,e)\n",
    "    quick(c,s,index-1)\n",
    "    quick(c,index+1,e)\n",
    "    \n",
    "\n",
    "\n",
    "    \n",
    "def partition(c,s,e):\n",
    "    k=c[s]\n",
    "    temp=0\n",
    "    for i in range(s,e+1):\n",
    "        if c[i]<k:\n",
    "            temp=temp+1\n",
    "    c[temp+s],c[s]=c[s],c[temp+s]\n",
    "    i=s\n",
    "    j=e\n",
    "    index=s+temp\n",
    "    while i<j:\n",
    "        if c[i]<k:\n",
    "            i=i+1\n",
    "        elif c[j]>=k:\n",
    "            j=j-1\n",
    "        else:\n",
    "            c[i],c[j]=c[j],c[i]\n",
    "            i=i+1\n",
    "            j=j-1\n",
    "    return index\n"
   ]
  },
  {
   "cell_type": "code",
   "execution_count": 35,
   "metadata": {},
   "outputs": [],
   "source": [
    "def pattern(n,a):\n",
    "    a=[int(x) for x in range(n,0,-1)]\n",
    "    return a"
   ]
  },
  {
   "cell_type": "code",
   "execution_count": 36,
   "metadata": {},
   "outputs": [],
   "source": [
    "def pattern1(n,b):\n",
    "    b=[int(x) for x in range(n,0,-1)]\n",
    "    return b"
   ]
  },
  {
   "cell_type": "code",
   "execution_count": 65,
   "metadata": {},
   "outputs": [],
   "source": [
    "def pattern1(n,c):\n",
    "    c=[int(x) for x in range(n,0,-1)]\n",
    "    return c"
   ]
  },
  {
   "cell_type": "code",
   "execution_count": 37,
   "metadata": {},
   "outputs": [
    {
     "name": "stdout",
     "output_type": "stream",
     "text": [
      "100\n",
      "0.001001596450805664\n"
     ]
    }
   ],
   "source": [
    "n=int(input())\n",
    "a=[]\n",
    "a=pattern(n,a)\n",
    "start=time.time()\n",
    "a=selection(a)\n",
    "end=time.time()\n",
    "print(end-start)"
   ]
  },
  {
   "cell_type": "code",
   "execution_count": 38,
   "metadata": {},
   "outputs": [
    {
     "name": "stdout",
     "output_type": "stream",
     "text": [
      "100\n",
      "0.0029909610748291016\n"
     ]
    }
   ],
   "source": [
    "n=int(input())\n",
    "b=[]\n",
    "b=pattern1(n,b)\n",
    "start=time.time()\n",
    "bubble(b)\n",
    "end=time.time()\n",
    "print(end-start)"
   ]
  },
  {
   "cell_type": "code",
   "execution_count": 66,
   "metadata": {},
   "outputs": [
    {
     "name": "stdout",
     "output_type": "stream",
     "text": [
      "100\n",
      "0.0\n"
     ]
    }
   ],
   "source": [
    "n=int(input())\n",
    "c=[]\n",
    "c=pattern(n,c)\n",
    "start=time.time()\n",
    "c=quick(c,0,len(c)-1)\n",
    "end=time.time()\n",
    "print(end-start)"
   ]
  },
  {
   "cell_type": "code",
   "execution_count": 83,
   "metadata": {},
   "outputs": [
    {
     "name": "stdout",
     "output_type": "stream",
     "text": [
      " 3\n",
      " 4\n",
      " 5\n",
      " 5\n",
      " 6\n",
      " 6\n",
      " 7\n",
      " 8\n",
      " 9\n",
      " 11\n",
      " 12\n",
      " 13\n"
     ]
    }
   ],
   "source": [
    "def insertionSort(arr): \n",
    "  \n",
    "    # Traverse through 1 to len(arr) \n",
    "    for i in range(1, len(arr)): \n",
    "  \n",
    "        key = arr[i] \n",
    "  \n",
    "        # Move elements of arr[0..i-1], that are \n",
    "        # greater than key, to one position ahead \n",
    "        # of their current position \n",
    "        j = i-1\n",
    "        while j >= 0 and key < arr[j] : \n",
    "                arr[j + 1] = arr[j] \n",
    "                j -= 1\n",
    "        arr[j + 1] = key \n",
    "  \n",
    "  \n",
    "# Driver code to test above \n",
    "arr = [12, 11, 13, 5, 6,4,6,8,9,3,5,7] \n",
    "insertionSort(arr) \n",
    "for i in range(len(arr)): \n",
    "    print (\"% d\" % arr[i]) "
   ]
  }
 ],
 "metadata": {
  "kernelspec": {
   "display_name": "Python 3",
   "language": "python",
   "name": "python3"
  },
  "language_info": {
   "codemirror_mode": {
    "name": "ipython",
    "version": 3
   },
   "file_extension": ".py",
   "mimetype": "text/x-python",
   "name": "python",
   "nbconvert_exporter": "python",
   "pygments_lexer": "ipython3",
   "version": "3.7.3"
  }
 },
 "nbformat": 4,
 "nbformat_minor": 2
}
