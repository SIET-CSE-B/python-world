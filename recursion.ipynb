{
 "cells": [
  {
   "cell_type": "code",
   "execution_count": 2,
   "metadata": {},
   "outputs": [
    {
     "name": "stdout",
     "output_type": "stream",
     "text": [
      "5\n"
     ]
    },
    {
     "data": {
      "text/plain": [
       "15"
      ]
     },
     "execution_count": 2,
     "metadata": {},
     "output_type": "execute_result"
    }
   ],
   "source": [
    "#firstrecursion sum of n natural numbers\n",
    "def sum(n):\n",
    "    if n==0:\n",
    "        return 0\n",
    "    return n+sum(n-1)\n",
    "n=int(input())\n",
    "sum(n)"
   ]
  },
  {
   "cell_type": "code",
   "execution_count": 7,
   "metadata": {},
   "outputs": [
    {
     "name": "stdout",
     "output_type": "stream",
     "text": [
      "4 0\n",
      "1\n"
     ]
    }
   ],
   "source": [
    "def power(x,n):\n",
    "    if n==1:\n",
    "        return x\n",
    "    if n==0:\n",
    "        return 1\n",
    "    return x*power(x,n-1)\n",
    "x,n=[int(i)for i in input().split()]\n",
    "print(power(x,n))"
   ]
  },
  {
   "cell_type": "code",
   "execution_count": null,
   "metadata": {},
   "outputs": [
    {
     "name": "stdout",
     "output_type": "stream",
     "text": [
      "3900\n"
     ]
    }
   ],
   "source": [
    "import sys\n",
    "sys.setrecursionlimit(6000)\n",
    "def fact(n):\n",
    "    if n==0:\n",
    "        return 1\n",
    "    return n*fact(n-1)\n",
    "n=int(input())\n",
    "\n",
    "fact(n)"
   ]
  },
  {
   "cell_type": "code",
   "execution_count": 14,
   "metadata": {},
   "outputs": [
    {
     "name": "stdout",
     "output_type": "stream",
     "text": [
      "6\n",
      "7 5 6 3 4 2 1\n",
      "28\n"
     ]
    }
   ],
   "source": [
    "def sumArray(arr):\n",
    "    so=0\n",
    "    s=[]\n",
    "    l=len(arr)\n",
    "    if l==1:\n",
    "        return arr[0]\n",
    "    \n",
    "    s=arr[1:]\n",
    "    so=arr[0] + sumArray(s)\n",
    "    return so\n",
    "\n",
    "# Main\n",
    "from sys import setrecursionlimit\n",
    "setrecursionlimit(11000)\n",
    "n=int(input())\n",
    "arr=list(int(i) for i in input().strip().split(' '))\n",
    "print(sumArray(arr))\n"
   ]
  },
  {
   "cell_type": "code",
   "execution_count": 17,
   "metadata": {},
   "outputs": [
    {
     "name": "stdout",
     "output_type": "stream",
     "text": [
      "3\n",
      "9 8 9\n",
      "2\n",
      "false\n"
     ]
    }
   ],
   "source": [
    "def checkNumber(arr, x):\n",
    "    s=[]\n",
    "    l=len(arr)\n",
    "    if l==1 and x==arr[0]:\n",
    "        return True\n",
    "    if l==1 and x!=arr[0]:\n",
    "        return False\n",
    "    if arr[0]==x:\n",
    "        return True\n",
    "    s=arr[1:]\n",
    "    if s[0]==x:\n",
    "        return True\n",
    "    return checkNumber(s,x)\n",
    "\n",
    "# Main\n",
    "from sys import setrecursionlimit\n",
    "setrecursionlimit(11000)\n",
    "n=int(input())\n",
    "arr=list(int(i) for i in input().strip().split(' '))\n",
    "x=int(input())\n",
    "if checkNumber(arr, x):\n",
    "    print('true')\n",
    "else:\n",
    "    print('false')\n"
   ]
  },
  {
   "cell_type": "code",
   "execution_count": 32,
   "metadata": {},
   "outputs": [
    {
     "name": "stdout",
     "output_type": "stream",
     "text": [
      "4\n",
      "9 8 10 8\n",
      "8\n",
      "3\n"
     ]
    }
   ],
   "source": [
    "def checkNumber(arr, x,si,sp):\n",
    "    \n",
    "    l=len(arr)\n",
    "    if arr[si]==x:\n",
    "        sp=si\n",
    "    if si==l-1 and sp==0:\n",
    "        return -1\n",
    "    if si==l-1:\n",
    "        return sp\n",
    "    \n",
    "    return checkNumber(arr,x,si+1,sp)\n",
    "\n",
    "# Main\n",
    "from sys import setrecursionlimit\n",
    "setrecursionlimit(11000)\n",
    "n=int(input())\n",
    "arr=list(int(i) for i in input().strip().split(' '))\n",
    "x=int(input())\n",
    "l=len(arr)\n",
    "sp=checkNumber(arr, x,0,0)\n",
    "if sp==-1:\n",
    "    print(\"-1\")\n",
    "else:\n",
    "    print(sp)"
   ]
  },
  {
   "cell_type": "code",
   "execution_count": 3,
   "metadata": {},
   "outputs": [
    {
     "name": "stdout",
     "output_type": "stream",
     "text": [
      "xbsfvsdfxx\n",
      "bsfvsdf\n"
     ]
    }
   ],
   "source": [
    "# Problem: Remove x from string\n",
    "def removeX(string): \n",
    "    l=len(string)\n",
    "    if l==0:\n",
    "        return string\n",
    "    small=removeX(string[1:])\n",
    "    if string[0]=='X':\n",
    "        return small\n",
    "    else:\n",
    "        return string[0]+small\n",
    "\n",
    "# Main\n",
    "string = input()\n",
    "print(removeX(string))\n"
   ]
  },
  {
   "cell_type": "code",
   "execution_count": 51,
   "metadata": {},
   "outputs": [
    {
     "name": "stdout",
     "output_type": "stream",
     "text": [
      "aaaabbdfgjjjklo\n",
      "abdfgjklo\n"
     ]
    }
   ],
   "source": [
    "# Problem ID 91, removeConsecutiveDuplicates\n",
    "def removeConsecutiveDuplicates(s):\n",
    "    \n",
    "    if len(s)==0 or len(s)==1:\n",
    "        return s\n",
    "    \n",
    "    if s[1]==s[0]:\n",
    "        si=s[2:]\n",
    "        small=removeConsecutiveDuplicates(s[1:])\n",
    "        return s[0]+small\n",
    "    else:\n",
    "        small=removeConsecutiveDuplicates(s[1:])\n",
    "        return s[0]+small\n",
    "  \n",
    "\n",
    "# M\n",
    "s = input().strip()\n",
    "print(removeConsecutiveDuplicates(s))\n"
   ]
  },
  {
   "cell_type": "code",
   "execution_count": 13,
   "metadata": {},
   "outputs": [
    {
     "name": "stdout",
     "output_type": "stream",
     "text": [
      "4\n",
      "1 4 2 4\n",
      "1 2 4 4\n"
     ]
    }
   ],
   "source": [
    "def merge(a1,a2,a):\n",
    "    i=0\n",
    "    j=0\n",
    "    k=0\n",
    "    while i<len(a1) and j<len(a2):\n",
    "        if a1[i]<a2[j]:\n",
    "            a[k]=a1[i]\n",
    "            i=i+1\n",
    "            k=k+1\n",
    "        else:\n",
    "            a[k]=a2[j]\n",
    "            j=j+1\n",
    "            k=k+1\n",
    "    while i<len(a1):\n",
    "        a[k]=a1[i]\n",
    "        i=i+1\n",
    "        k=k+1\n",
    "    while j<len(a2):\n",
    "        a[k]=a2[j]\n",
    "        j=j+1\n",
    "        k=k+1\n",
    "\n",
    "def mergeSort(a, s, e):\n",
    "    t=0\n",
    "\n",
    "    if len(a)<2:\n",
    "        return\n",
    "    breakP=(s+e)//2\n",
    "    a1=a[0:breakP]\n",
    "    a2=a[breakP:]\n",
    "    mergeSort(a1,0,len(a1))\n",
    "    mergeSort(a2,0,len(a2))\n",
    "    \n",
    "    merge(a1,a2,a)\n",
    "\n",
    "# Main\n",
    "n=int(input())\n",
    "a=list(int(i) for i in input().strip().split(' '))\n",
    "mergeSort(a, 0, n)\n",
    "print(*a)\n"
   ]
  },
  {
   "cell_type": "code",
   "execution_count": 11,
   "metadata": {},
   "outputs": [
    {
     "name": "stdout",
     "output_type": "stream",
     "text": [
      "4\n",
      "3 11 12 1\n",
      "3 1 11 12\n"
     ]
    }
   ],
   "source": [
    "def quickSort(arr, start, end):\n",
    "    #base case\n",
    "    \n",
    "    if start>=end:\n",
    "        \n",
    "        return\n",
    "    else:\n",
    "        index=partition(arr,start,end)\n",
    "    \n",
    "    quickSort(arr,start,index-1)\n",
    "    quickSort(arr,index+1,end-1)\n",
    "    \n",
    "    \n",
    "def partition(arr,s,e):\n",
    "    k=0\n",
    "    i=s\n",
    "    c=0\n",
    "    p=0\n",
    "    temp=0\n",
    "    l=0\n",
    "    while i<e and i<len(arr)-1:\n",
    "        if arr[i+1]<arr[i]:\n",
    "            temp=arr[i+1]\n",
    "            arr[i+1]=arr[i]\n",
    "            arr[i]=temp\n",
    "            k=k+1\n",
    "        else:\n",
    "            if e>=len(arr):\n",
    "                l=e-1\n",
    "            else:\n",
    "                l=e\n",
    "            for j in range(l,i,-1):\n",
    "                if arr[j]<arr[k] or arr[j]<arr[i+1]:\n",
    "                    temp=arr[j]\n",
    "                    arr[j]=arr[i+1]\n",
    "                    arr[i+1]=temp\n",
    "                    break\n",
    "        i=i+1\n",
    "    return k\n",
    "\n",
    "n=int(input())\n",
    "arr=list(int(i) for i in input().strip().split(' '))\n",
    "quickSort(arr, 0, n)\n",
    "print(*arr)\n"
   ]
  },
  {
   "cell_type": "code",
   "execution_count": 17,
   "metadata": {},
   "outputs": [
    {
     "name": "stdout",
     "output_type": "stream",
     "text": [
      "4\n",
      "3 2 1 4\n",
      "2 1 3 4\n"
     ]
    }
   ],
   "source": [
    "def quickSort(arr, start, end):\n",
    "    #base case when start >=end as when it happens it means that the recursion has reached the pivot point or crossed it\n",
    "    if start>=end:\n",
    "        return\n",
    "    index=partition(arr,start,end)\n",
    "    quickSort(arr,start,index-1)\n",
    "    quickSort(arr,index+1,end)\n",
    "    \n",
    "def partition(arr,si,ei):\n",
    "    pivot_ele=a[si]#the first character of the selected sub list\n",
    "    c=0\n",
    "    for i in range(si,ei+1):\n",
    "        if a[i]<pivot_ele:\n",
    "            c=c+1#count the numbers of elements less than the number\n",
    "    arr[si+c],arr[si]=arr[si],arr[si+c]\n",
    "    pivot_index=si+c\n",
    "    i=si\n",
    "    j=ei\n",
    "    while i<j:\n",
    "        if arr[i]<pivot_ele:\n",
    "            i=i+1\n",
    "        elif arr[j]>=pivot_ele:\n",
    "            j=j-1\n",
    "        else:\n",
    "            arr[i],arr[j]=arr[j],arr[i]\n",
    "            i=i+1\n",
    "            j=j-1\n",
    "    return pivot_index\n",
    "\n",
    "n=int(input())\n",
    "arr=list(int(i) for i in input().strip().split(' '))\n",
    "quickSort(arr, 0, n-1)\n",
    "print(*arr)\n"
   ]
  },
  {
   "cell_type": "code",
   "execution_count": 30,
   "metadata": {},
   "outputs": [
    {
     "name": "stdout",
     "output_type": "stream",
     "text": [
      "3\n",
      "a c\n",
      "a b\n",
      "c b\n",
      "a c\n",
      "b a\n",
      "b c\n",
      "a c\n"
     ]
    }
   ],
   "source": [
    "def towerofhanoi(n, source, helper, dest):\n",
    "    if n==1:\n",
    "        print(source,dest)\n",
    "        return\n",
    "    towerofhanoi(n-1,source,dest,helper)#as we use b to go to c so we interchange b and c\n",
    "    print(source,dest)#to print 2 and 3 if n==3\n",
    "    towerofhanoi(n-1,helper,source,dest)\n",
    "\n",
    "n=int(input())\n",
    "towerofhanoi(n, 'a', 'b', 'c')\n"
   ]
  },
  {
   "cell_type": "code",
   "execution_count": null,
   "metadata": {},
   "outputs": [],
   "source": [
    "def checkandprint(n):\n",
    "    \n",
    "\n",
    "n=int(input())\n",
    "if n<5:\n",
    "    if n==4 or n==3 or n==2:\n",
    "        print(\"2\")\n",
    "elif n==5:\n",
    "    print('2')\n",
    "else:\n",
    "    for i in range(5,n,i+5):\n",
    "        checkandprint(i)"
   ]
  }
 ],
 "metadata": {
  "kernelspec": {
   "display_name": "Python 3",
   "language": "python",
   "name": "python3"
  },
  "language_info": {
   "codemirror_mode": {
    "name": "ipython",
    "version": 3
   },
   "file_extension": ".py",
   "mimetype": "text/x-python",
   "name": "python",
   "nbconvert_exporter": "python",
   "pygments_lexer": "ipython3",
   "version": "3.7.3"
  }
 },
 "nbformat": 4,
 "nbformat_minor": 2
}
